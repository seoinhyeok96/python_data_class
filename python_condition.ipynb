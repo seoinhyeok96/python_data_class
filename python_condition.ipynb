{
 "cells": [
  {
   "cell_type": "code",
   "execution_count": 6,
   "metadata": {},
   "outputs": [
    {
     "name": "stdout",
     "output_type": "stream",
     "text": [
      "숫자가 5보다 작습니다\n"
     ]
    }
   ],
   "source": [
    "# 조건문\n",
    "number=int(input())\n",
    "if number<5:\n",
    "    print(\"숫자가 5보다 작습니다\")\n",
    "elif 5< number <10:\n",
    "    print(\"숫자가 5보다 크고 10보다 작습니다.\")\n",
    "else:\n",
    "    print(\"10보다 큽니다\")"
   ]
  },
  {
   "cell_type": "code",
   "execution_count": 8,
   "metadata": {},
   "outputs": [
    {
     "name": "stdout",
     "output_type": "stream",
     "text": [
      "걸어간다\n"
     ]
    }
   ],
   "source": [
    "#서울에서 부산을 간다고 가정하에 나의 주머니에 있는(money)\n",
    "money=int(input())\n",
    "if money==70000:\n",
    "    print(\"비행기를 탄다\")\n",
    "elif money==50000:\n",
    "    print(\"기차를 탄다\")\n",
    "elif money==30000:\n",
    "    print(\"버스를 탄다\")\n",
    "else:\n",
    "    print(\"걸어간다\") # else는 필수가 아님!"
   ]
  },
  {
   "cell_type": "code",
   "execution_count": 9,
   "metadata": {},
   "outputs": [
    {
     "name": "stdout",
     "output_type": "stream",
     "text": [
      "hello world\n",
      "hello world\n",
      "hello world\n",
      "hello world\n",
      "hello world\n",
      "hello world\n",
      "hello world\n",
      "hello world\n",
      "hello world\n",
      "hello world\n"
     ]
    }
   ],
   "source": [
    "# 반복문 for문이란 반복되는 행위를 사용할때 이용 \n",
    "for i  in range(10): # i는 변수이다. range(10) 은 1~9까지\n",
    "    print(\"hello world\")"
   ]
  },
  {
   "cell_type": "code",
   "execution_count": 11,
   "metadata": {},
   "outputs": [
    {
     "name": "stdout",
     "output_type": "stream",
     "text": [
      "1\n",
      "2\n",
      "3\n",
      "4\n",
      "5\n"
     ]
    }
   ],
   "source": [
    "for i  in [1,2,3,4,5]:\n",
    "    print(i)"
   ]
  },
  {
   "cell_type": "code",
   "execution_count": 12,
   "metadata": {},
   "outputs": [
    {
     "name": "stdout",
     "output_type": "stream",
     "text": [
      "kor\n",
      "usa\n",
      "china\n"
     ]
    }
   ],
   "source": [
    "countries=[\"kor\",\"usa\",\"china\"]\n",
    "\n",
    "for country in countries:\n",
    "    print(country)"
   ]
  },
  {
   "cell_type": "code",
   "execution_count": 13,
   "metadata": {},
   "outputs": [
    {
     "name": "stdout",
     "output_type": "stream",
     "text": [
      "c\n",
      "o\n",
      "u\n",
      "n\n",
      "t\n",
      "r\n",
      "i\n",
      "e\n",
      "s\n"
     ]
    }
   ],
   "source": [
    "for country in \"countries\":\n",
    "    print(country)"
   ]
  },
  {
   "cell_type": "code",
   "execution_count": 29,
   "metadata": {},
   "outputs": [
    {
     "name": "stdout",
     "output_type": "stream",
     "text": [
      "한글로 분석해 주세요!\n",
      "영어로 분석해 주세요!\n",
      "중국어로 분석해주세요!\n"
     ]
    }
   ],
   "source": [
    "for country in countries:\n",
    "    if country == \"kor\":\n",
    "        print(\"한글로 분석해 주세요!\")\n",
    "    elif country == \"usa\":\n",
    "        print(\"영어로 분석해 주세요!\")\n",
    "    elif country==\"china\":\n",
    "        print(\"중국어로 분석해주세요!\")"
   ]
  },
  {
   "cell_type": "code",
   "execution_count": 31,
   "metadata": {},
   "outputs": [
    {
     "name": "stdout",
     "output_type": "stream",
     "text": [
      "1\n",
      "2\n",
      "3\n",
      "4\n",
      "5\n"
     ]
    }
   ],
   "source": [
    "#while문  while문을 쓰는 이유 몇번 반복하지 모를때 (무한적으로 반복해야 될떄)\n",
    "a=0\n",
    "while a <5 :\n",
    "    a+=1\n",
    "    print(a)"
   ]
  },
  {
   "cell_type": "code",
   "execution_count": 48,
   "metadata": {},
   "outputs": [
    {
     "name": "stdout",
     "output_type": "stream",
     "text": [
      "15\n"
     ]
    }
   ],
   "source": [
    "# Q.1부터 5까지 더하는 프로그램을 만들어보세요\n",
    "from cgitb import reset\n",
    "\n",
    "\n",
    "result=0\n",
    "for i in range(1,6):\n",
    "    result+=i # reulst=result+i 와 같다.\n",
    "print(result)\n"
   ]
  },
  {
   "cell_type": "code",
   "execution_count": 52,
   "metadata": {},
   "outputs": [
    {
     "name": "stdout",
     "output_type": "stream",
     "text": [
      "9\n"
     ]
    }
   ],
   "source": [
    "for i in range(10):\n",
    "    if 3<=i<=5:\n",
    "        #continue # 반복문의 코드 처음으로 돌아간다.\n",
    "        break#\n",
    "#print(i) #0,1,2,6,7.........\n",
    "print(i) # 0,1,2..."
   ]
  },
  {
   "cell_type": "code",
   "execution_count": null,
   "metadata": {},
   "outputs": [],
   "source": []
  }
 ],
 "metadata": {
  "kernelspec": {
   "display_name": "Python 3.10.0 64-bit",
   "language": "python",
   "name": "python3"
  },
  "language_info": {
   "codemirror_mode": {
    "name": "ipython",
    "version": 3
   },
   "file_extension": ".py",
   "mimetype": "text/x-python",
   "name": "python",
   "nbconvert_exporter": "python",
   "pygments_lexer": "ipython3",
   "version": "3.10.0"
  },
  "orig_nbformat": 4,
  "vscode": {
   "interpreter": {
    "hash": "aee8b7b246df8f9039afb4144a1f6fd8d2ca17a180786b69acc140d282b71a49"
   }
  }
 },
 "nbformat": 4,
 "nbformat_minor": 2
}
