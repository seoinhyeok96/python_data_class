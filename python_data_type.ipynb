{
 "cells": [
  {
   "cell_type": "markdown",
   "metadata": {},
   "source": [
    "파이썬 자료형(Date type)\n",
    "숫자형-123\n",
    "문자형=\"world\"\n",
    "리스트형(List):[\"12\",\"24\",\"456\"] 여러개를 한꺼번에 저장하기 위해서\n",
    "튜플형(Tuple),딕셔너리형(Dict),집합형(set)\n",
    "불류형(Blooean):True,Flase\n",
    "자료형=> "
   ]
  },
  {
   "cell_type": "code",
   "execution_count": 4,
   "metadata": {},
   "outputs": [
    {
     "name": "stdout",
     "output_type": "stream",
     "text": [
      "True\n"
     ]
    }
   ],
   "source": [
    "x=\"pyhron\" # 문자형\n",
    "x=123\n",
    "x=\"123\"\n",
    "x=[1,2,3,4,]\n",
    "x={\"name\":\"leo\",\"age\":32}\n",
    "x=True\n",
    "print(x)\n"
   ]
  },
  {
   "cell_type": "code",
   "execution_count": 8,
   "metadata": {},
   "outputs": [
    {
     "data": {
      "text/plain": [
       "0"
      ]
     },
     "execution_count": 8,
     "metadata": {},
     "output_type": "execute_result"
    }
   ],
   "source": [
    "a=1+1\n",
    "a=100-1\n",
    "a=12*1\n",
    "a=3/4\n",
    "a\n"
   ]
  },
  {
   "cell_type": "code",
   "execution_count": 9,
   "metadata": {},
   "outputs": [
    {
     "name": "stdout",
     "output_type": "stream",
     "text": [
      "Act as thouth\n",
      "it is impossible\n"
     ]
    }
   ],
   "source": [
    "a=\"Act as thouth\\nit is impossible\"\n",
    "print(a)"
   ]
  },
  {
   "cell_type": "code",
   "execution_count": 11,
   "metadata": {},
   "outputs": [
    {
     "data": {
      "text/plain": [
       "'\"Act as thouth\\nit is impossible'"
      ]
     },
     "execution_count": 11,
     "metadata": {},
     "output_type": "execute_result"
    }
   ],
   "source": [
    "a=\"\"\"\"Act as thouth\n",
    "it is impossible\"\"\"\n",
    "a\n"
   ]
  },
  {
   "cell_type": "code",
   "execution_count": 13,
   "metadata": {},
   "outputs": [
    {
     "name": "stdout",
     "output_type": "stream",
     "text": [
      "\"Failure is simply the opportunity to bgegin.\"he says.\"\n"
     ]
    }
   ],
   "source": [
    "print('\"Failure is simply the opportunity to bgegin.\"he says.\"')"
   ]
  },
  {
   "cell_type": "code",
   "execution_count": 25,
   "metadata": {},
   "outputs": [
    {
     "name": "stdout",
     "output_type": "stream",
     "text": [
      "world python!\n",
      "hello world python!\n"
     ]
    }
   ],
   "source": [
    "a= \"A\"\n",
    "b=\"B\"\n",
    "#print(a*b)\n",
    "#print(a*100)\n",
    "\n",
    "c=\"python\"\n",
    "#print(len(c))\n",
    "\n",
    "c=\"hello world python!\" # indexing\n",
    "print(c[6:]) # slcing , 0 <= c<5\n",
    "print(c[:])"
   ]
  },
  {
   "cell_type": "code",
   "execution_count": 36,
   "metadata": {},
   "outputs": [
    {
     "name": "stdout",
     "output_type": "stream",
     "text": [
      "Titanic James\n"
     ]
    }
   ],
   "source": [
    "# 영화제목(title)과 감독(director)으로 슬라이싱 해라\n",
    "x= \"TitanicJames\"\n",
    "title=(x[0:7])\n",
    "director=(x[7:])\n",
    "print(title,director)"
   ]
  },
  {
   "cell_type": "code",
   "execution_count": 40,
   "metadata": {},
   "outputs": [
    {
     "name": "stdout",
     "output_type": "stream",
     "text": [
      "d\n"
     ]
    }
   ],
   "source": [
    "#a= [\"a\",\"b\",\"c\",\"d\",\"e\"]\n",
    "a=[\"a\",\"b\",[\"c\",\"d\",\"e\"]]\n",
    "print(a[2][1])"
   ]
  },
  {
   "cell_type": "code",
   "execution_count": 42,
   "metadata": {},
   "outputs": [
    {
     "name": "stdout",
     "output_type": "stream",
     "text": [
      "{'1', '2'}\n"
     ]
    }
   ],
   "source": [
    "t=(\"a\",\"a\",\"a\",\"a\")\n",
    "# print(type(t)) t타입 확인\n",
    "\n",
    "x={\"key1\":\"value1\",\"key2\":\"value2\"} #딕트형\n",
    "#print(x[\"key2\"])\n",
    "\n",
    "x=set([\"1\",\"1\",\"1\",\"2\"]) #집합형은 중복값 제거 \n",
    "print(x)"
   ]
  },
  {
   "cell_type": "code",
   "execution_count": null,
   "metadata": {},
   "outputs": [],
   "source": []
  },
  {
   "cell_type": "code",
   "execution_count": null,
   "metadata": {},
   "outputs": [],
   "source": []
  }
 ],
 "metadata": {
  "kernelspec": {
   "display_name": "Python 3.10.0 64-bit",
   "language": "python",
   "name": "python3"
  },
  "language_info": {
   "codemirror_mode": {
    "name": "ipython",
    "version": 3
   },
   "file_extension": ".py",
   "mimetype": "text/x-python",
   "name": "python",
   "nbconvert_exporter": "python",
   "pygments_lexer": "ipython3",
   "version": "3.10.0"
  },
  "orig_nbformat": 4,
  "vscode": {
   "interpreter": {
    "hash": "aee8b7b246df8f9039afb4144a1f6fd8d2ca17a180786b69acc140d282b71a49"
   }
  }
 },
 "nbformat": 4,
 "nbformat_minor": 2
}
