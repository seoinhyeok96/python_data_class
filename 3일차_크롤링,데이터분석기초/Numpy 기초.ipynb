{
 "cells": [
  {
   "cell_type": "markdown",
   "id": "065c2849",
   "metadata": {},
   "source": [
    "## Numpy"
   ]
  },
  {
   "cell_type": "markdown",
   "id": "d2917e4c",
   "metadata": {},
   "source": [
    "파이썬에서 수학적 계산을 쉽게 할 수 있도록 가져오는 라이브러리 입니다.\n",
    "\n",
    "ndarray: 행렬이라고 생각하면 된다.\n",
    "nd는 n차원을 의미 (n dimensional)\n",
    "\n",
    "주로 Tensorflow 나 pytorch, keras 등의 머신러닝 프레임워크에서 ndarray를 사용\n"
   ]
  },
  {
   "cell_type": "code",
   "execution_count": 2,
   "id": "79af2647",
   "metadata": {},
   "outputs": [],
   "source": [
    "# 모듈 불러오기\n",
    "import numpy as np"
   ]
  },
  {
   "cell_type": "code",
   "execution_count": null,
   "id": "02e12e56",
   "metadata": {},
   "outputs": [],
   "source": [
    "# 1차원 배열 생성\n",
    "array = np.array([\"A\",\"B\",\"C\",\"D\",\"E\",\"F\"])\n",
    "array"
   ]
  },
  {
   "cell_type": "code",
   "execution_count": 2,
   "id": "5ea1563e",
   "metadata": {},
   "outputs": [
    {
     "data": {
      "text/plain": [
       "array([1, 2, 3])"
      ]
     },
     "execution_count": 2,
     "metadata": {},
     "output_type": "execute_result"
    }
   ],
   "source": [
    "list = [\"A\",\"B\",\"C\",\"D\",\"E\"]\n",
    "list2=[1,2,3]\n",
    "array=np.array(list2)\n",
    "array"
   ]
  },
  {
   "cell_type": "code",
   "execution_count": 4,
   "id": "4cd79368",
   "metadata": {},
   "outputs": [
    {
     "name": "stdout",
     "output_type": "stream",
     "text": [
      "(3,)\n",
      "1\n",
      "int64\n"
     ]
    }
   ],
   "source": [
    "print(array.shape) # 차원의 요소 개수\n",
    "print(array.ndim) # 차원\n",
    "print(array.dtype) # data type -> 공통적인 데이터 타입"
   ]
  },
  {
   "cell_type": "code",
   "execution_count": 8,
   "id": "ac015722",
   "metadata": {},
   "outputs": [
    {
     "data": {
      "text/plain": [
       "array([['A', 'B', 'C'],\n",
       "       ['D', 'E', 'F']], dtype='<U1')"
      ]
     },
     "execution_count": 8,
     "metadata": {},
     "output_type": "execute_result"
    }
   ],
   "source": [
    "# 2차원 배열 생성\n",
    "array2=np.array([[\"A\",\"B\",\"C\"],[\"D\",\"E\",\"F\"]])\n",
    "array2"
   ]
  },
  {
   "cell_type": "markdown",
   "id": "3dabec56",
   "metadata": {},
   "source": [
    "## 2.Numpy 형상 관련 함수"
   ]
  },
  {
   "cell_type": "code",
   "execution_count": null,
   "id": "2fff2900",
   "metadata": {},
   "outputs": [],
   "source": [
    "# astype() - ndarray 타입변환\n",
    "array5 = np.array([1,2,3,4,5])\n",
    "print(array5.dtype)"
   ]
  },
  {
   "cell_type": "code",
   "execution_count": null,
   "id": "0af4791e",
   "metadata": {},
   "outputs": [],
   "source": [
    "#* astype()\n",
    "    #* ndarray의 타입을 변경 (int -> str, str -> int)"
   ]
  },
  {
   "cell_type": "code",
   "execution_count": 9,
   "id": "1c1dfa52",
   "metadata": {},
   "outputs": [
    {
     "data": {
      "text/plain": [
       "array([1, 2, 3, 4, 5, 6, 7, 8, 9])"
      ]
     },
     "execution_count": 9,
     "metadata": {},
     "output_type": "execute_result"
    }
   ],
   "source": [
    "#각각\n",
    "arr= np.arange(1,10)\n",
    "arr"
   ]
  },
  {
   "cell_type": "code",
   "execution_count": 11,
   "id": "a25f79f4",
   "metadata": {},
   "outputs": [
    {
     "name": "stdout",
     "output_type": "stream",
     "text": [
      "[False False False False False False  True  True  True]\n",
      "[7 8 9]\n"
     ]
    }
   ],
   "source": [
    "print(arr>6)\n",
    "print(arr[arr>6])"
   ]
  },
  {
   "cell_type": "code",
   "execution_count": 3,
   "id": "49da83aa",
   "metadata": {},
   "outputs": [
    {
     "name": "stdout",
     "output_type": "stream",
     "text": [
      "[[ 6  8]\n",
      " [10 12]]\n",
      "[[ 6  8]\n",
      " [10 12]]\n"
     ]
    }
   ],
   "source": [
    "# 배열 연산\n",
    "arr1 = np.array([[1,2], [3,4]])\n",
    "arr2 = np.array([[5,6], [7,8]])\n",
    "\n",
    "\n",
    "add = np.add(arr1,arr2)\n",
    "print(add)\n",
    "print(arr1+arr2)"
   ]
  },
  {
   "cell_type": "code",
   "execution_count": 4,
   "id": "89fda8a9",
   "metadata": {},
   "outputs": [
    {
     "name": "stdout",
     "output_type": "stream",
     "text": [
      "[[ 5 12]\n",
      " [21 32]]\n",
      "[[ 5 12]\n",
      " [21 32]]\n"
     ]
    }
   ],
   "source": [
    "multiply = np.multiply(arr1,arr2)\n",
    "print(multiply)\n",
    "print(arr1*arr2)"
   ]
  },
  {
   "cell_type": "code",
   "execution_count": 5,
   "id": "c333e408",
   "metadata": {},
   "outputs": [
    {
     "data": {
      "text/plain": [
       "8"
      ]
     },
     "execution_count": 5,
     "metadata": {},
     "output_type": "execute_result"
    }
   ],
   "source": [
    "np.max(arr1)\n",
    "np.max(arr2)"
   ]
  },
  {
   "cell_type": "code",
   "execution_count": 6,
   "id": "1ff215ba",
   "metadata": {},
   "outputs": [
    {
     "data": {
      "text/plain": [
       "3"
      ]
     },
     "execution_count": 6,
     "metadata": {},
     "output_type": "execute_result"
    }
   ],
   "source": [
    "np.argmax(arr1)\n",
    "np.argmax(arr2)"
   ]
  },
  {
   "cell_type": "code",
   "execution_count": 7,
   "id": "b295d52e",
   "metadata": {},
   "outputs": [
    {
     "data": {
      "text/plain": [
       "5"
      ]
     },
     "execution_count": 7,
     "metadata": {},
     "output_type": "execute_result"
    }
   ],
   "source": [
    "np.min(arr1)\n",
    "np.min(arr2)"
   ]
  },
  {
   "cell_type": "code",
   "execution_count": 8,
   "id": "abea5127",
   "metadata": {},
   "outputs": [
    {
     "data": {
      "text/plain": [
       "0"
      ]
     },
     "execution_count": 8,
     "metadata": {},
     "output_type": "execute_result"
    }
   ],
   "source": [
    "np.argmin(arr1)\n",
    "np.argmin(arr2)"
   ]
  },
  {
   "cell_type": "code",
   "execution_count": 9,
   "id": "8574ef7d",
   "metadata": {},
   "outputs": [
    {
     "data": {
      "text/plain": [
       "array([[19, 22],\n",
       "       [43, 50]])"
      ]
     },
     "execution_count": 9,
     "metadata": {},
     "output_type": "execute_result"
    }
   ],
   "source": [
    "# 행렬의 내적\n",
    "arr1.dot(arr2)"
   ]
  },
  {
   "cell_type": "code",
   "execution_count": null,
   "id": "c1a1733f",
   "metadata": {},
   "outputs": [],
   "source": []
  }
 ],
 "metadata": {
  "kernelspec": {
   "display_name": "Python 3 (ipykernel)",
   "language": "python",
   "name": "python3"
  },
  "language_info": {
   "codemirror_mode": {
    "name": "ipython",
    "version": 3
   },
   "file_extension": ".py",
   "mimetype": "text/x-python",
   "name": "python",
   "nbconvert_exporter": "python",
   "pygments_lexer": "ipython3",
   "version": "3.9.7"
  },
  "vscode": {
   "interpreter": {
    "hash": "aee8b7b246df8f9039afb4144a1f6fd8d2ca17a180786b69acc140d282b71a49"
   }
  }
 },
 "nbformat": 4,
 "nbformat_minor": 5
}
