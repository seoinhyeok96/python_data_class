{
 "cells": [
  {
   "cell_type": "markdown",
   "id": "5e35a95e",
   "metadata": {},
   "source": [
    "## 구글 플레이스스토어 댓글 수집기\n",
    "- 내가 검색한 앱의 댓글을 수집합니다.(최소 스크롤 3번 합니다)"
   ]
  },
  {
   "cell_type": "code",
   "execution_count": 1,
   "id": "60e8a2c7",
   "metadata": {},
   "outputs": [],
   "source": [
    "from selenium.webdriver.common.by import By\n",
    "from selenium.webdriver.common.keys import Keys\n",
    "import time\n",
    "from selenium import webdriver\n",
    "from selenium.webdriver import ActionChains\n",
    "import time"
   ]
  },
  {
   "cell_type": "code",
   "execution_count": 2,
   "id": "81f93c29",
   "metadata": {},
   "outputs": [
    {
     "name": "stderr",
     "output_type": "stream",
     "text": [
      "/var/folders/l0/rmt5_xrn6vb4901n4j9dj7n40000gn/T/ipykernel_67825/2290045220.py:3: DeprecationWarning: executable_path has been deprecated, please pass in a Service object\n",
      "  browser = webdriver.Chrome(PATH)\n"
     ]
    }
   ],
   "source": [
    "\n",
    "from selenium import webdriver\n",
    "PATH = \"/Users/seoinhyeog/Desktop/chromedriver\"\n",
    "browser = webdriver.Chrome(PATH)"
   ]
  },
  {
   "cell_type": "code",
   "execution_count": 3,
   "id": "98d75155",
   "metadata": {
    "scrolled": true
   },
   "outputs": [
    {
     "name": "stdout",
     "output_type": "stream",
     "text": [
      "검색하시고자 하는 앱 이름을 입력하세요.당근마켓\n"
     ]
    },
    {
     "ename": "NoSuchElementException",
     "evalue": "Message: no such element: Unable to locate element: {\"method\":\"css selector\",\"selector\":\"#yDmH0d > c-wiz:nth-child(7) > div > div > c-wiz > c-wiz:nth-child(1) > c-wiz > section > div > div > div > div > div.aoJE7e.b0ZfVe > div:nth-child(1) > div > div > div > a\"}\n  (Session info: chrome=107.0.5304.62)\nStacktrace:\n0   chromedriver                        0x000000010195a598 chromedriver + 4404632\n1   chromedriver                        0x00000001018e1fa3 chromedriver + 3911587\n2   chromedriver                        0x000000010158ee6a chromedriver + 425578\n3   chromedriver                        0x00000001015c6c91 chromedriver + 654481\n4   chromedriver                        0x00000001015c6e91 chromedriver + 654993\n5   chromedriver                        0x00000001015fe274 chromedriver + 881268\n6   chromedriver                        0x00000001015e4dcd chromedriver + 777677\n7   chromedriver                        0x00000001015fbf79 chromedriver + 872313\n8   chromedriver                        0x00000001015e4bd3 chromedriver + 777171\n9   chromedriver                        0x00000001015b9ced chromedriver + 601325\n10  chromedriver                        0x00000001015bae51 chromedriver + 605777\n11  chromedriver                        0x000000010192a0ce chromedriver + 4206798\n12  chromedriver                        0x000000010192e797 chromedriver + 4224919\n13  chromedriver                        0x0000000101935a4f chromedriver + 4254287\n14  chromedriver                        0x000000010192f4da chromedriver + 4228314\n15  chromedriver                        0x000000010190823f chromedriver + 4067903\n16  chromedriver                        0x000000010194c6a8 chromedriver + 4347560\n17  chromedriver                        0x000000010194c816 chromedriver + 4347926\n18  chromedriver                        0x00000001019618fe chromedriver + 4434174\n19  libsystem_pthread.dylib             0x00007fff6c3c3109 _pthread_start + 148\n20  libsystem_pthread.dylib             0x00007fff6c3beb8b thread_start + 15\n",
     "output_type": "error",
     "traceback": [
      "\u001b[0;31m---------------------------------------------------------------------------\u001b[0m",
      "\u001b[0;31mNoSuchElementException\u001b[0m                    Traceback (most recent call last)",
      "\u001b[0;32m/var/folders/l0/rmt5_xrn6vb4901n4j9dj7n40000gn/T/ipykernel_67825/1249271547.py\u001b[0m in \u001b[0;36m<module>\u001b[0;34m\u001b[0m\n\u001b[1;32m      5\u001b[0m \u001b[0mtime\u001b[0m\u001b[0;34m.\u001b[0m\u001b[0msleep\u001b[0m\u001b[0;34m(\u001b[0m\u001b[0;36m3\u001b[0m\u001b[0;34m)\u001b[0m\u001b[0;34m\u001b[0m\u001b[0;34m\u001b[0m\u001b[0m\n\u001b[1;32m      6\u001b[0m \u001b[0;31m# 해당 당근마켓 사진 클릭하기\u001b[0m\u001b[0;34m\u001b[0m\u001b[0;34m\u001b[0m\u001b[0m\n\u001b[0;32m----> 7\u001b[0;31m \u001b[0mbrowser\u001b[0m\u001b[0;34m.\u001b[0m\u001b[0mfind_element\u001b[0m\u001b[0;34m(\u001b[0m\u001b[0mBy\u001b[0m\u001b[0;34m.\u001b[0m\u001b[0mCSS_SELECTOR\u001b[0m\u001b[0;34m,\u001b[0m\u001b[0;34m\"#yDmH0d > c-wiz:nth-child(7) > div > div > c-wiz > c-wiz:nth-child(1) > c-wiz > section > div > div > div > div > div.aoJE7e.b0ZfVe > div:nth-child(1) > div > div > div > a\"\u001b[0m\u001b[0;34m)\u001b[0m\u001b[0;34m.\u001b[0m\u001b[0mclick\u001b[0m\u001b[0;34m(\u001b[0m\u001b[0;34m)\u001b[0m\u001b[0;34m\u001b[0m\u001b[0;34m\u001b[0m\u001b[0m\n\u001b[0m\u001b[1;32m      8\u001b[0m \u001b[0mtime\u001b[0m\u001b[0;34m.\u001b[0m\u001b[0msleep\u001b[0m\u001b[0;34m(\u001b[0m\u001b[0;36m2\u001b[0m\u001b[0;34m)\u001b[0m\u001b[0;34m\u001b[0m\u001b[0;34m\u001b[0m\u001b[0m\n\u001b[1;32m      9\u001b[0m \u001b[0;31m# 화살표 클릭\u001b[0m\u001b[0;34m\u001b[0m\u001b[0;34m\u001b[0m\u001b[0m\n",
      "\u001b[0;32m~/opt/anaconda3/lib/python3.9/site-packages/selenium/webdriver/remote/webdriver.py\u001b[0m in \u001b[0;36mfind_element\u001b[0;34m(self, by, value)\u001b[0m\n\u001b[1;32m    853\u001b[0m             \u001b[0mvalue\u001b[0m \u001b[0;34m=\u001b[0m \u001b[0;34m'[name=\"%s\"]'\u001b[0m \u001b[0;34m%\u001b[0m \u001b[0mvalue\u001b[0m\u001b[0;34m\u001b[0m\u001b[0;34m\u001b[0m\u001b[0m\n\u001b[1;32m    854\u001b[0m \u001b[0;34m\u001b[0m\u001b[0m\n\u001b[0;32m--> 855\u001b[0;31m         return self.execute(Command.FIND_ELEMENT, {\n\u001b[0m\u001b[1;32m    856\u001b[0m             \u001b[0;34m'using'\u001b[0m\u001b[0;34m:\u001b[0m \u001b[0mby\u001b[0m\u001b[0;34m,\u001b[0m\u001b[0;34m\u001b[0m\u001b[0;34m\u001b[0m\u001b[0m\n\u001b[1;32m    857\u001b[0m             'value': value})['value']\n",
      "\u001b[0;32m~/opt/anaconda3/lib/python3.9/site-packages/selenium/webdriver/remote/webdriver.py\u001b[0m in \u001b[0;36mexecute\u001b[0;34m(self, driver_command, params)\u001b[0m\n\u001b[1;32m    426\u001b[0m         \u001b[0mresponse\u001b[0m \u001b[0;34m=\u001b[0m \u001b[0mself\u001b[0m\u001b[0;34m.\u001b[0m\u001b[0mcommand_executor\u001b[0m\u001b[0;34m.\u001b[0m\u001b[0mexecute\u001b[0m\u001b[0;34m(\u001b[0m\u001b[0mdriver_command\u001b[0m\u001b[0;34m,\u001b[0m \u001b[0mparams\u001b[0m\u001b[0;34m)\u001b[0m\u001b[0;34m\u001b[0m\u001b[0;34m\u001b[0m\u001b[0m\n\u001b[1;32m    427\u001b[0m         \u001b[0;32mif\u001b[0m \u001b[0mresponse\u001b[0m\u001b[0;34m:\u001b[0m\u001b[0;34m\u001b[0m\u001b[0;34m\u001b[0m\u001b[0m\n\u001b[0;32m--> 428\u001b[0;31m             \u001b[0mself\u001b[0m\u001b[0;34m.\u001b[0m\u001b[0merror_handler\u001b[0m\u001b[0;34m.\u001b[0m\u001b[0mcheck_response\u001b[0m\u001b[0;34m(\u001b[0m\u001b[0mresponse\u001b[0m\u001b[0;34m)\u001b[0m\u001b[0;34m\u001b[0m\u001b[0;34m\u001b[0m\u001b[0m\n\u001b[0m\u001b[1;32m    429\u001b[0m             response['value'] = self._unwrap_value(\n\u001b[1;32m    430\u001b[0m                 response.get('value', None))\n",
      "\u001b[0;32m~/opt/anaconda3/lib/python3.9/site-packages/selenium/webdriver/remote/errorhandler.py\u001b[0m in \u001b[0;36mcheck_response\u001b[0;34m(self, response)\u001b[0m\n\u001b[1;32m    241\u001b[0m                 \u001b[0malert_text\u001b[0m \u001b[0;34m=\u001b[0m \u001b[0mvalue\u001b[0m\u001b[0;34m[\u001b[0m\u001b[0;34m'alert'\u001b[0m\u001b[0;34m]\u001b[0m\u001b[0;34m.\u001b[0m\u001b[0mget\u001b[0m\u001b[0;34m(\u001b[0m\u001b[0;34m'text'\u001b[0m\u001b[0;34m)\u001b[0m\u001b[0;34m\u001b[0m\u001b[0;34m\u001b[0m\u001b[0m\n\u001b[1;32m    242\u001b[0m             \u001b[0;32mraise\u001b[0m \u001b[0mexception_class\u001b[0m\u001b[0;34m(\u001b[0m\u001b[0mmessage\u001b[0m\u001b[0;34m,\u001b[0m \u001b[0mscreen\u001b[0m\u001b[0;34m,\u001b[0m \u001b[0mstacktrace\u001b[0m\u001b[0;34m,\u001b[0m \u001b[0malert_text\u001b[0m\u001b[0;34m)\u001b[0m  \u001b[0;31m# type: ignore[call-arg]  # mypy is not smart enough here\u001b[0m\u001b[0;34m\u001b[0m\u001b[0;34m\u001b[0m\u001b[0m\n\u001b[0;32m--> 243\u001b[0;31m         \u001b[0;32mraise\u001b[0m \u001b[0mexception_class\u001b[0m\u001b[0;34m(\u001b[0m\u001b[0mmessage\u001b[0m\u001b[0;34m,\u001b[0m \u001b[0mscreen\u001b[0m\u001b[0;34m,\u001b[0m \u001b[0mstacktrace\u001b[0m\u001b[0;34m)\u001b[0m\u001b[0;34m\u001b[0m\u001b[0;34m\u001b[0m\u001b[0m\n\u001b[0m",
      "\u001b[0;31mNoSuchElementException\u001b[0m: Message: no such element: Unable to locate element: {\"method\":\"css selector\",\"selector\":\"#yDmH0d > c-wiz:nth-child(7) > div > div > c-wiz > c-wiz:nth-child(1) > c-wiz > section > div > div > div > div > div.aoJE7e.b0ZfVe > div:nth-child(1) > div > div > div > a\"}\n  (Session info: chrome=107.0.5304.62)\nStacktrace:\n0   chromedriver                        0x000000010195a598 chromedriver + 4404632\n1   chromedriver                        0x00000001018e1fa3 chromedriver + 3911587\n2   chromedriver                        0x000000010158ee6a chromedriver + 425578\n3   chromedriver                        0x00000001015c6c91 chromedriver + 654481\n4   chromedriver                        0x00000001015c6e91 chromedriver + 654993\n5   chromedriver                        0x00000001015fe274 chromedriver + 881268\n6   chromedriver                        0x00000001015e4dcd chromedriver + 777677\n7   chromedriver                        0x00000001015fbf79 chromedriver + 872313\n8   chromedriver                        0x00000001015e4bd3 chromedriver + 777171\n9   chromedriver                        0x00000001015b9ced chromedriver + 601325\n10  chromedriver                        0x00000001015bae51 chromedriver + 605777\n11  chromedriver                        0x000000010192a0ce chromedriver + 4206798\n12  chromedriver                        0x000000010192e797 chromedriver + 4224919\n13  chromedriver                        0x0000000101935a4f chromedriver + 4254287\n14  chromedriver                        0x000000010192f4da chromedriver + 4228314\n15  chromedriver                        0x000000010190823f chromedriver + 4067903\n16  chromedriver                        0x000000010194c6a8 chromedriver + 4347560\n17  chromedriver                        0x000000010194c816 chromedriver + 4347926\n18  chromedriver                        0x00000001019618fe chromedriver + 4434174\n19  libsystem_pthread.dylib             0x00007fff6c3c3109 _pthread_start + 148\n20  libsystem_pthread.dylib             0x00007fff6c3beb8b thread_start + 15\n"
     ]
    }
   ],
   "source": [
    "search_word = input(\"검색하시고자 하는 앱 이름을 입력하세요.\")\n",
    "url=\"https://play.google.com/store/search?q={}&c=apps\"\n",
    "final_url= url.format(search_word)\n",
    "#print(final_url)\n",
    "time.sleep(3)\n",
    "# 해당 당근마켓 사진 클릭하기\n",
    "browser.find_element(By.CSS_SELECTOR,\"#yDmH0d > c-wiz:nth-child(7) > div > div > c-wiz > c-wiz:nth-child(1) > c-wiz > section > div > div > div > div > div.aoJE7e.b0ZfVe > div:nth-child(1) > div > div > div > a\").click()\n",
    "time.sleep(2)\n",
    "# 화살표 클릭\n",
    "browser.find_element(By.CSS_SELECTOR,\"#ow1672 > section > header > div > div:nth-child(2) > button > i\").click()\n",
    "time.sleep(2)\n",
    "#browser.get(url)"
   ]
  },
  {
   "cell_type": "code",
   "execution_count": 93,
   "id": "10e40ccb",
   "metadata": {},
   "outputs": [
    {
     "name": "stdout",
     "output_type": "stream",
     "text": [
      "검색하시고자 하는 앱 이름을 입력하세요.당근마켓\n"
     ]
    }
   ],
   "source": [
    "search_word = input(\"검색하시고자 하는 앱 이름을 입력하세요.\")\n",
    "url=\"https://play.google.com/store/search?q={}&c=apps\"\n",
    "final_url= url.format(search_word)"
   ]
  },
  {
   "cell_type": "code",
   "execution_count": 43,
   "id": "d3cd74cf",
   "metadata": {},
   "outputs": [
    {
     "name": "stdout",
     "output_type": "stream",
     "text": [
      "정말 잘 사용하고 있습니다. 특히 키워드 알림을 너무 잘 사용하고 있는데요. 특정 단어들은 동작하지 않아서 글을 남깁니다. 스퀘어가든,전천당을 구할려고 검색을 하면 나오나 키워드 알림 등록으로 하면 알림이 안옵니다. 물론 갤럭시 모빌 유모차등 다른 단어들은 잘옵니다. 자동으로 필터링되는건지 이 부분만 불편하네요\n",
      "\n",
      "\n",
      "정말 잘 사용하고 있습니다. 특히 키워드 알림을 너무 잘 사용하고 있는데요. 특정 단어들은 동작하지 않아서 글을 남깁니다. 스퀘어가든,전천당을 구할려고 검색을 하면 나오나 키워드 알림 등록으로 하면 알림이 안옵니다. 물론 갤럭시 모빌 유모차등 다른 단어들은 잘옵니다. 자동으로 필터링되는건지 이 부분만 불편하네요\n",
      "소리모드인 경우에만 당근알림 정상 작동. 진동모드에서 당근진동알림 작동안됨. 블루투스 이어폰으로 교보문고 앱 TTS 읽어주기 기능 이용시 당근알림 안됨. 확인부탁합니다. 당근앱 알림/진동허용. 앱 절전모드 진입해제, 재로그인 등 당근 알림 안됨 조치 방법 모두 시도했으나 동일. 예전버전에서는 블루투스 TTS기능 사용중에도 당근알림이 잘 왔으나 몇 개월 전부터 작동안됨. 휴대폰 살정은 그대로이나 당근 업데이트 후 작동 안되는 것으로 보임.\n",
      "잘 쓰고 있습니다 사용하면서 불편한 점이 있었는데 개선될 수 있으면 좋겠습니다! (1) 근처 동네 4개가 아니라 저희 동 1개만 볼 수 있었으면 좋겠어요. 옆 동네까지 가려면 버스 타고 30분이 걸립니다. 판매자 정보에 xx x동이 아니라 xx동이라고만 뜨면 거래가 꺼려지네요 (2) 관심목록 폴더 기능이 생겼으면 좋겠어요. 관심목록이 많아지니까 보기 너무너무너무 불편해요. 관심 누른 목록 최근순/최신 끌올된 순으로 볼 수 있는 정도로라도요\n",
      "갑자기 어제부턴가 홈 화면에서 물품 리스트가 시간순이 아닌 뒤죽박죽 랜덤으로 정렬됩니다. 몇 번 새로고침을 해도 시간은 몇 초전부터 몇일전까지 완전 뒤죽박죽이고 특정 물품이 계속 최상단에 고정되기도 해요 이미 거래완료 된 물품도 리스트에 섞여나오니 보기가 불편합니다 다른 사람 폰에서도 그러네요\n",
      "잘 사용하고 있었는데 키워드알림 등록 카테고리가 나의알림 메뉴에서 갑작이 없어졌어요 홈화면>우측상단 종모양> 키워드알림 선택> 상단 우측 설정버튼 찾아서 변경하는 방법 뿐인없군요;; 키워드알림 자주 변경하는데 한동안 못 찾아서 아주 불편했어요 업데이트됐는데 키워드알림 설정 메뉴는 아직 따로 안보이네요 이렇게 고정인건지. . .\n",
      "다 좋은데 기능을 추가하거나 보완했으면 좋겠습니다 몇몇 글은 정확히 단어를 썼는데 검색이 안됩니다 판매글 올릴때 최신순으로 정렬해도 제 글이 검색 결과에 안 떠요... 티/티셔츠도 별 차이가 없는 것 같지만 결과가 다르게 나와요 그리고 임시글 저장이 자꾸 날라갑니다 ㅠㅠ 다 쓰고 임시저장까지 했는데 1분만에 지워지네요 단순오류라기엔 몇번씩 겪으니까 좀 귀찮습니다 임시글 예약기능이 있으면 좋겠어요... 나머지는 만족스러워요 감사합니다\n",
      "저 진짜 당근 너무 재밌는데 하면 할수록 느끼는 점은, 구매자 고객이 아닌 판매자 입장에서만 너무 운영되고 있다는 것입니다. 어느정도 둘이 수평을 이뤄야함에도요. 일단, 구매자는 마음에 드는 물품을 위해 시간을 들여 판매자가 있는 곳이 좀 멀더라도 찾아갑니다. 그런데 막상 실물을 보면 아무래도 새상품이 아니어서 실망할 때가 좀 많습니다. 사진 상에서는 좋아보였어도요. 그때, 시간을 들여갔음에도 가격은 중고인 것치고는 높은데 비용을 지불했음에도 감사합니다 한번을 받은 적이 없네요. 엄연히 고객 아닌가요? 솔직히 어차피 버릴 물건인데 알뜰매장에서는 버릴 물건 파는거니까 다 몇천원대였습니다. 근데 당근은 이걸로 장사를 하려는 속이 보이는 판매자들이 너무 많네요 ㅠ 환경과 나눔이라는 선한 목적이 흐려지는 것 같습니다. 어차피 버릴거 사주는건데 비용도 전반적으로 높은 편이고 찾으러가는 것도 구매자니 비용, 거리와 시간 두가지 다 판매자 위주입니다.\n",
      "요새 애용하는 앱인데요. 사용하지 않은 물건을 팔아서 소소하게 용돈으로 잘 쓰고 있습니다.그리고 앱 내에서 옷과 관련하여 많은 거래가 이루어지고 있는데요. 근데 이러한 물품거래량과는 다르게 거래하는 것이 조금 불편합니다. 옷을 거래할때 마음에 드는 물건이 있을 때 옷의 사이즈를 기제를 안해주셔서 불가피하게 채팅을 해드리고 구매까지 이어지지 못하는 경우가 흔한것 같습니다. 저도 얼마 전에도 이러한 상황을 겪었습니다. 그래서 의류에 대한 카테고리를 선택하였을때 의류의 사이즈나 상태를 따로 표시할 수 있게 하면 어떨까요? 만약에 따로 표시하게 된다면 검색시에도 자신의 사이즈의 물품을 바로 확인할수 있을 것이고 이미 있는 검색범위설정 기능을 활용하여 자신의 사이즈 옷의 물건만 찾을 수있을것 같다고 생각합니다. 긴글 읽어주셔서 감사합니다.\n",
      "당근마켓을 이용할 때, 채팅에 주소나 개인정보를 보내고 나서 찝찝하다고 가끔 느낄 때가 있어요. 그럴때 삭제 버튼이 있었으면 좋겠어요. 알고보니 삭제기능이 있기는 하더라고요.. 5분이내이면 삭제가 가능한데 그 이후는 고객센터를 이용해야 한다고...근데 저도 사용한지 몇년 지난 후 처음으로 고객센터에 문의글 남기고 나서 알았습니다;; 그리고 당근알람이 핸드폰은 소리인데 블루투스 이어폰을 연결해놓으면 울리질 않네요.. 그거 외에는 유용하게 쓰고 있습니다.\n",
      "기기바꾸고 당근 보는데 화면 밑으로 내리면 새로고침 되면서 막 올린 것들이 바로바로 떠야하는데 한참전에 본게 계속 올라오고 그러네요. 1초전 10초전 방금 올린게 새로고침하면 떠야하는데 그렇게 안떠요. 아까봤던것들만 계속 새로고침하면 위로 보이고 그런데 뭐가 문제인가요?\n",
      "키워드 알림을 이용해서 원하는 물건 싸게 겟하려고 하는데 일부 물건은 이게 너무 자주 울리거든요. 제가 고려하는 예산 안에 맞는 제품만 알림을 받을 수 있도록 설정 기능을 추가해주시면 더욱 좋을 것 같아요.\n",
      "백그라운드상태에서 당근마켓 알림이 전혀들어오지않습니다. 기기초기화,앱재설치해도 동일합니다. 당근마켓앱을실행해놓은상태 또는 플립화면을 펼친상태로 당근마켓앱을 실행해야지 알림이옵니다. 앱모두닫기하면 즉시 알림안옴. 개선해주세요\n",
      "애용하는 앱이라 우선 평점은 5점 달았는데요. 이번에 업데이트 되면서 나의 당근 메뉴가 인터페이스가 달라졌어요,그라서 고객센터에 문의를 했는데요. 알람이 계속 떠 있는데 이게 어디 무슨 알람인지 알수가 없구요. 고객센터에 문의한 내역도 결과도 알수가 없네요. 같은 버전인데 다른 폰에 설치하면 기존 인터페이스가 같은데 제폰(노트10)만 화면이 바뀌었어요ㅠ너무 답답하네요ㅠ\n",
      "터치민감도 너무 심해요 브라우징 불가능할 정도에요. 대부분 쇼핑앱이 그렇기는하지만 살짝 스처만 가도 페이지로 들어가버리네요. 아래위로 스크롤이 불가능할 정도에요. 조회수 늘릴려고 이렇게 설정한거 같은데 좀 심해요. 폰에서 민감도 설정 바꾸라 하지마세요. 당근 11번가 등등 몇몇 쇼핑앱 빼고 다 정상이니까\n",
      "며칠전까지 잘 오던 알림소리가 오지 않습니다. 다른분이 남기신 같은 리뷰글에 달아주신 답변보고 앱 삭제후 재설치, 설정 모두 다 확인해봤는데 모두 제대로 되있는데 갑자기 알림소리가 안납니다. 그래서 채팅을 계속 뒤늦게 확인하게 됩니다. 뭐 만진게 없는데 갑자기 왜 이러는건가요? 해보라는 방법대로 다 해봤는데 여전히 알림이 안오면 해결 방법 없는건가요??;;\n",
      "원인이 뭔지 모르겠는데 대략 한달전부터 알림이 울리지 않네요 설정을 다 바꾸고 해봐도 안되고 어플을 지웠다가 다시 설치하면 다시 돌아왔다가 또 어느 순간 다시 같은 증상이 반복되네요 기기가 소리, 진동 모드인데도 당근에서 발생하는 알림만 무음으로 표시되네요 기기는 lg g8이고 안드로이드12입니다\n",
      "고객센터가해킹한거같음.거의 반년이상 물건은 일체 사질 않다가 9월 12일 오후 오랜만에 거래약속잡고 물건을 구매했는데 (그날 이후 오늘까지 잡화물건 계속 많이 샀음)근데 오늘 보니 9월 13일에 데이터소진 경고 문자가 왔더라고요. 제가 당근마켓 쓰는 폰이 1G짜리 요금이거든요. 개통 후 한 번도 데이터 소진된 일이 없어요. 와이파이에서만 사용가능하도록 설정해두고 변경한 적이 없기때문이죠. 오늘 114에서온 문자를 보고 혹시나해서 당근마켓 구입시작한 채팅 보니 12일 오후 4시 전후..그때부터 모바일데이터로 설정했다면 대략 13일오후6시에 데이터소진 문자 온 게 맞을거 같음. 답변요망.\n",
      "정말 잘 사용하고 있는 앱입니다. 다만 번개장터처럼 자신의 게시글을 찜한 사람에게 먼저 연락할수있는 기능이 생겼으면 좋겠습니다. 진짜 소원이예요.. 찜을 한사람은 많은데 연락을 안주시니까 게시글을 내려야하나 말아햐하나 엄청 고민되구요..급하게 팔아야하는데 찜해놓고 연락을 안주시니 되게 곤란합니다 😭 이러한 이유때문에 답답한것만 빼면 너무 좋은앱이예요ㅠㅠ 진짜 이기는 만들어주시면 평생 이앱 사용할게요. 글구 한게시물당 등록 가능한 사진을 조금 늘려주셨으면 해요. 여러개 묶어서 팔때 등록을 못해서 따로따로 올려야 하는 경우가 종종 있어요. 이정도만 해주셔도 진짜 너무 감사할거 같습니다ㅠㅠ\n",
      "너무 좋아요 진짜 잘 사용하고 있어요.. 운영정책 너무나도 깐깐하고 사용하기에 속 터지는 번개장터보다 사용하기 편리하고 운영정책이 자세하게 적혀있어서 너무 좋아요 다만 딱 하나 아쉬운 점은 동네에서만 거래할 수 있다는 점이에요..전국적으로 판매할 수 있는 기능을 만들면 어떨까요? 그러면 진짜 너무 좋을 것 같아요ㅠㅠ\n",
      "번호도용이 있었습니다. 고객센터 연결이 정말 어려웠고 돌아오는 답변은 다른 구매자분이 번호를 잘못 기입하셨을 수 있다. 외에는 별 대안이 없더군요. 그게 사실일수 있으나 제 입장에서는 문의한적도 없는 처음보는 번호의 판매자분이 구매의사를 묻는것도 당황스러웠고 그 분도 벙찌시더군요. 같은 일이 자주 발생할 수 있는 어플특성상 이에 관하여 잘못기입을 한 아이디에 직접 연락을 취해주시거나 찝찝한 마음이 남지 않도록 도용인지 실수인지 확실한 피드백 주시기를 개선 바랍니다.\n",
      "당근마켓 잘 이용하고 있는데 사용할때 불편함이 별로 없는거 같아요. 음 그래도 하나만 얘기하자면 가격제안 거절이 있었으면 좋겠어요. 수락은 있는데 거절이 없어서 불편한거 같아요 거절을 누르면 대화창으로 넘어가는데 대화를 안해도 된다고 생각하는 때가 있어서 거절하기를 만들어 주셨으면 좋겠습니다\n",
      "진짜 너무 좋아요!! 아직 거래하는것은 못해봤지만 검색해도 다 나오고, 포카 거래 등등 제가 커서 해보고 싶은것들이 많이 나와요!! 글구 아무리 중고라 해도 어떤분들은 무료로 해주시니깐 너무 좋고요, 제가 사고 싶은것들이 나오니까 좋은거 같아요! 새거래가 아니라 중고 거래라 어색하지만 만나고 그러는게 온라인 택배보단 더 빠르고 좋은거 같아요!!\n",
      "물건을 정리하다보면 버리기는 아깝고 주자니 누가 필요한지 모르니까 계속 집 한쪽 구석에 나두게 되었는데...당근마켓을 이용하면서부터는 잘 안쓰는 물건을 버리는게 아니라 필요한분께 나눔을 할 수도 있고, 저렴하게 팔수도 있어서 집에 물건들이 정리가 되어가는것 같아 참 마음이 가벼지는 느낌입니다. 그리고 당근마켓 덕분에 재사용되는 물건들이 많아지게 되에 환경쓰레기도 줄이는 역활도 톡톡히 하고 있으니 참 생각할수록 이 당근마켓 앱을 만드신분께 감사한 마음이 들었습니다. 이 당근마켓 앱은 다른나라에서도 이용하면 좋겠다는 생각이 듭니다. 많은 물건들이 재사용되어 환경을 살리는데도 큰 도움이 될거라고 생각해요. 어쨌든 감사한 마음으로 앞으로도 당근마켓을 잘 이용하겠습니다. 감사합니다~~♡\n",
      "최고에요~! 그치만 사용하면서 딱하나 아쉬운게? 쬐끔 개발됐으면 하는게 있는데 제가 평소 관심있는 물품을 기반으로 ai가 물건을 자동추천해주는 기능(동네 안에서)이 있었으면 좋겠어요~~ 동네안에 있는 물건이 그냥 선착순으로 올라오니까 정작 제가 필요한 물건을 찾으려고 하면 시간이 너무 많이 걸리는거같아요! 쪼금 더 스마트한 당근🥕원해요😍💕💕\n",
      "다 좋은 것 같은데, 회원가입 할 때 인증 번호가 너무 안 와요.. 그래서 아직 들어가지도 못 하고 있어요 ㅠㅠ 저만 늦게 오는 건가요 | 리뷰 수정 부분: 지우고 다시 깔았는데 계속 인증문자가 안 오네요.. 저희 오빠랑 아빠는 잘 되던데.. ㅠㅠ, 왼쪽 위에 있는 돌아가기 버튼도 가입단계 진행 중에는 돌아갈 수 없다면서 막아놔요..\n",
      "나눔도하고 때론 나눔도받고 필요한 물건들이 올라오면 친절한 당근이웃도 만나서 저렴히 구매하고 매너점수 올라가는게 왜이리 신기한지 정말 유용하게 잘이용하고 있습니다 그런데 요몇일 알림이 안울려서 꽤당황했었네여..덕분에 휴대폰서비스센터 위치도 알게되었지만 전화문제가 아니고 앱문제라서 업뎃되면 될꺼라하여 당근에 문의주니 하루만에 업데이트하여 개선해주셔서 이렇게 알림소리도 잘울리니 뭔가 뻥뚤린기분이네여 앞으로도 중고거래는 당근과함께 쭉이어갈것입니다.\n",
      "일단 광고 자체가 없구요 사람들과 소통하고 비움을 실천할수 있는 좋은 앱 같아요 청소년 들도 쉽고 간단하게 사용할 수 있고요 필요없는 물건을 버리긴 아깝고 공짜로 주긴 싫을 때 이 앱을 사용하시면 분명 만족하실 수 있으실겁니다 제 생각에는 함부로 물건을 쓰레기로 만들지 않으니까 환경에도 좋은 것 같습니다 채팅과 통화 기능도 있어서 편리하구요 고민고민하지 마시고 설치 버튼!\n",
      "게시글 둘러보기만 하려고 설치했는데 동네 설정단계에서 휴대전화 인증을 요구하고 단계를 되돌리는것을 강제로 막아놓는 앱입니다 뒤로가기 아이콘이 있어서 원하지 않으면 되돌아갈 수 있는 것처럼 해놓고 막상 누르면 되돌아가기를 거부하며 휴대전화 인증을 강요하는 이런 앱은 처음 봅니다 다시 확인해보니 휴대전화 인증절차가 가입단계에 포함된 것으로 보이고 아예 정상적인 방법으로는 앱을 끄지 못하게 되어있습니다 대단합니다\n",
      "업데이트하면서 판매내역 구매내역 관심목록 등등 위치가 변경되어 불편해도 이숙하겠죠 그리고 혹시 동영상 추가언제할까요. ?? 추가해주신다고하더니 안해주시네요. 동영상보내기없어 전번받고 문자로 영상 보내고 넘불편해요. 그리고 이모티콘 누르 면자동으로 전송되는데 누르고보내기 변경 하면안될까요. 이모티콘 실수많이해요. ㅜ 그리고 내 물건 팔기 에서 카테고리 선택 누를때 물물교환 추가해주시면안될까요. 물물교환 불법은아니잖아요. 아닌가요. ? 그래도 당근마켓이용 좋아요.\n",
      "잘쓰고있는데요 소리가 나지 않네요..설정에서 알림소리 지정했구요..설정에서 소리설정할때는 당근당근 하는데 정작 메시지가 왔을때는 무음이구요..핸드폰 어플리케이션 관리에서도 알림 전부다 허용으로 해놨는데도 소리가 안나네요..앱을 지웠다가 다시 깔았는데도 안되요ㅠㅠ원래는 소리가 났는데 갑자기 이러네요..어떻게해야하나요..ㅠㅠ\n",
      "채팅올 때 \"당근~!\"하고 울리는 알림음을 다른 걸로 바꿀 수는 없을까요? 폰의 순정 알림음으로 바꾸고 싶은데요. 채팅이 왔을 때 폰에 상단바를 내려서 알림창을 길게 누른 후 설정에 들어가서 메시지 알림음을 다른 걸로 바꿔도 여전히 \"당근~!\"하고 울리네요. 공공장소나 어려운 자리에 있을 때 \"당근~!\"하고 울리면 민망해서요ㅠㅠ\n",
      "다른 시이트와 다름이 확 느껴지는 사이트다. 버리기엔 멀쩡하고 아깝고 당장 구하자니 번거ㄹㆍ운 물건들이 그득하다. 특히 내게 잘 쓰였으나 고장난 게 아니고 자리만 차지하게 됐을 때 가격이 문제가 아니라 제대로 써줄 사람 찾는데 이만한 사이트가 있을까. 환경,사회적으로도 좋은 사이트다. 물푸이 오가며 느끼는 인간미는 더할수없는 덤 아니겠는가\n",
      "최고의 중고거래 앱이에요!동네 근처에서 필요한 물건들을 저렴하게 구매할수 있어요!당근하면서 사람들의 따뜻한 마음과 정을 느낄수 있어서 너무 좋아요~~내겐 필요없지만 남에게 필요한 물건으로 조금씩 들어오는 수입도 짭짤하니 좋아용!강추합니다~ +몇달간 당근앱을 지우고 접속안하다가 얼마전 들어가보니 매너온도가 56정도였는데 50으로 줄어들었네요. 오랫동안 거래 안했다 해서 매너온도 떨어지는건 아닌것 같아요...유일한 아쉬운 점입니다.\n",
      "생활하는데 도움이 많이 되는 어플입니다. 동네 가게 정보와 후기들을 쉽게 접할 수 있고, 일상생활에 올라오는 소소한 이야기들 보는 재미도 있어요. 젤 중요한건 소비습관의 변화입니다. 새물건을 살까 싶다가도 당근을 한번 더 접속하는 습관이 생겼어요. 아마 당근같은 중고시장이 더 발전하고 커져야 환경에도 좋은 영향을 미치지 않을까 싶어요. 마음은 오점만점에 십점을 드리고싶은데 딱 하나 아쉬운점ㅠ 키워드 제외 설정이 있으면 더욱더 만족스럽게 이용할거 같아요♥\n",
      "당근마켓 사용 잘하고있습니다. 캠핑용품, 아기용품 등등 그런데 궁금한게 있어서 글을 올립니다. 아기가 태어난지 100일 조금넘었고, 사용하던 유축기를 판매하려고 올렸는데 숨김게시글이라고 나오네요. 왜 그런걸까요? 제가 업자도 아니고, 이제 필요없어서 저렴한 가격에 다른분이 사용하실수 있도로 하려던건데 이유를 모르겄어요. 왜 숨김처리가 되는지 알려주실수 있을까요?\n",
      "다크모드랑 라이트모드 중에서 설정할 수 있게 해주셨으면 좋겠어요... 분명 기기 설정 그대로 적용된다던데 다크 모드 아닌데도 지웠다가 다시 까니까 다크모드로 적용 되네요... 심지어 다크모드에서는 글씨도 안 보여요... 기본 글씨체 색이 검은색이라서 당근페이 같은 거 필수항목 체크할 때 글씨가 안 보여요\n",
      "일방적으로 다크모드로 변경되게 만들어놓고 다크 모드와 라이트 모드 선택할 수 있게 해달라고 했더니 핸드폰 설정을 바꾸라는둥 좋은 의견이니 다음에 고려하겠다는둥 말만하고 벌써 수개월이 흘렀네요. 사용자의 불편함은 전혀 고려하지 않고 문제를 제기했는데도 사용자가 몰라서 그렇다는듯의 답변은 기가 막힐뿐입니다. 요즘 핸드폰 설정과 별개로 다크와 라이트 모드 변경되는 어플밖에 없는데 관리자는 그걸 모르는건지 알면서 모르는척하는건지 모르겠네요. 못쓰겠으면 사용자가 힘이있나요? 그냥 불편해도 참고 써야지. 의견 수렴은 별로 필요 없어 보이네요. 뻔한 답변이 예상되지만 채팅창 이모티콘 을 선택하면 바로 보내지는데 실수로 엉뚱한 이모티콘 보내는것을 방지하기위해 카카오톡처럼 일단 선택된 이모티콘 확인하고 전송버튼 눌러서 전송 할 수있는 기능도 있으면 좋을듯 하네요. 애들 처럼 떼쓰는것도 아니고 안되면 안되는 이유를 알려주세요. 기술적으로 힘들다면 이해하고 넘어가겠습니다. 사용자 탓 하지 말구요\n",
      "2022/05/28: QA성 리뷰 남깁니다. 검색창 진입 시, 다크모드가 하단 검색어 프레임 혹은 전체 프레임에서 풀리는 경우가 빈번합니다. AdGuard쪽 회선을 빌린 사설 DNS 사용 중인데, 간혹 연결이 불안정해집니다. 사용 기기는 갤럭시 S8이고, 사용중인 터치 키보드는 삼성 기본 쿼티가 아니고 모아키입니다. 제가 FE나 BE는 잘 몰라서 용어가 적합하지 않을 수 있겠지만은... 개발자 분들 패치에 도움될 수 있으면 좋겠습니다. 감사합니다.\n",
      "다크모드 설정이 가능하다해서 업데이트했는데 안드로이드 10이상 지원되는거였네요.. 10이하 기기의 사용자도 어플자체에서 다크모드가 실행가능하게끔 만들어주셨으면 좋겠다는 건의를 해봅니다.. S9+ 사용자라 디스플레이에 다크모드가 아예 없어서 밤에 휴대폰 사용할 때 화면보기가 좀 불편하더라구요..\n",
      "키워드 알림 기능이 유용한데, '제외 키워드' 기능이 추가됐으면 합니다. 예를들어 갤럭시 s20 모델에 관심있어서 S20을 등록해두면, 현재는 s20, s20플러스, s20울트라, s20 FE 등등 온갖 시리즈들이 다같이 알림에 뜨니까 너무 불편하네요.. 플러스, 울트라 같은 단어를 제외 등록해두면 딱 원하는 모델만 필터링이 가능할텐데 말이죠. 요건 그냥 예시로 들은건데, 무튼 추가되면 유용할 것 같은 기능이니 건의 부탁드려요\n"
     ]
    }
   ],
   "source": [
    "# 댓글 가져오기\n",
    "comments=browser.find_elements(By.CLASS_NAME,'h3YV2d')\n",
    "for comment in comments:\n",
    "        print(comment.text)"
   ]
  },
  {
   "cell_type": "code",
   "execution_count": 71,
   "id": "9842a61b",
   "metadata": {},
   "outputs": [
    {
     "ename": "JavascriptException",
     "evalue": "Message: javascript error: Cannot read properties of undefined (reading 'scrollHeight')\n  (Session info: chrome=106.0.5249.119)\nStacktrace:\n0   chromedriver                        0x000000010ab35598 chromedriver + 4404632\n1   chromedriver                        0x000000010aabcfa3 chromedriver + 3911587\n2   chromedriver                        0x000000010a769e6a chromedriver + 425578\n3   chromedriver                        0x000000010a76d037 chromedriver + 438327\n4   chromedriver                        0x000000010a76ced7 chromedriver + 437975\n5   chromedriver                        0x000000010a76db00 chromedriver + 441088\n6   chromedriver                        0x000000010a7d7c1f chromedriver + 875551\n7   chromedriver                        0x000000010a7bfda2 chromedriver + 777634\n8   chromedriver                        0x000000010a7d6f79 chromedriver + 872313\n9   chromedriver                        0x000000010a7bfbd3 chromedriver + 777171\n10  chromedriver                        0x000000010a794ced chromedriver + 601325\n11  chromedriver                        0x000000010a795e51 chromedriver + 605777\n12  chromedriver                        0x000000010ab050ce chromedriver + 4206798\n13  chromedriver                        0x000000010ab09797 chromedriver + 4224919\n14  chromedriver                        0x000000010ab10a4f chromedriver + 4254287\n15  chromedriver                        0x000000010ab0a4da chromedriver + 4228314\n16  chromedriver                        0x000000010aae323f chromedriver + 4067903\n17  chromedriver                        0x000000010ab276a8 chromedriver + 4347560\n18  chromedriver                        0x000000010ab27816 chromedriver + 4347926\n19  chromedriver                        0x000000010ab3c8fe chromedriver + 4434174\n20  libsystem_pthread.dylib             0x00007fff684d0109 _pthread_start + 148\n21  libsystem_pthread.dylib             0x00007fff684cbb8b thread_start + 15\n",
     "output_type": "error",
     "traceback": [
      "\u001b[0;31m---------------------------------------------------------------------------\u001b[0m",
      "\u001b[0;31mJavascriptException\u001b[0m                       Traceback (most recent call last)",
      "\u001b[0;32m/var/folders/l0/rmt5_xrn6vb4901n4j9dj7n40000gn/T/ipykernel_85465/1832231690.py\u001b[0m in \u001b[0;36m<module>\u001b[0;34m\u001b[0m\n\u001b[0;32m----> 1\u001b[0;31m \u001b[0mbrowser\u001b[0m\u001b[0;34m.\u001b[0m\u001b[0mexecute_script\u001b[0m\u001b[0;34m(\u001b[0m\u001b[0;34m\"window.scrollTo(0, document.header.scrollHeight)\"\u001b[0m\u001b[0;34m)\u001b[0m\u001b[0;34m\u001b[0m\u001b[0;34m\u001b[0m\u001b[0m\n\u001b[0m",
      "\u001b[0;32m~/opt/anaconda3/lib/python3.9/site-packages/selenium/webdriver/remote/webdriver.py\u001b[0m in \u001b[0;36mexecute_script\u001b[0;34m(self, script, *args)\u001b[0m\n\u001b[1;32m    489\u001b[0m         \u001b[0mcommand\u001b[0m \u001b[0;34m=\u001b[0m \u001b[0mCommand\u001b[0m\u001b[0;34m.\u001b[0m\u001b[0mW3C_EXECUTE_SCRIPT\u001b[0m\u001b[0;34m\u001b[0m\u001b[0;34m\u001b[0m\u001b[0m\n\u001b[1;32m    490\u001b[0m \u001b[0;34m\u001b[0m\u001b[0m\n\u001b[0;32m--> 491\u001b[0;31m         return self.execute(command, {\n\u001b[0m\u001b[1;32m    492\u001b[0m             \u001b[0;34m'script'\u001b[0m\u001b[0;34m:\u001b[0m \u001b[0mscript\u001b[0m\u001b[0;34m,\u001b[0m\u001b[0;34m\u001b[0m\u001b[0;34m\u001b[0m\u001b[0m\n\u001b[1;32m    493\u001b[0m             'args': converted_args})['value']\n",
      "\u001b[0;32m~/opt/anaconda3/lib/python3.9/site-packages/selenium/webdriver/remote/webdriver.py\u001b[0m in \u001b[0;36mexecute\u001b[0;34m(self, driver_command, params)\u001b[0m\n\u001b[1;32m    426\u001b[0m         \u001b[0mresponse\u001b[0m \u001b[0;34m=\u001b[0m \u001b[0mself\u001b[0m\u001b[0;34m.\u001b[0m\u001b[0mcommand_executor\u001b[0m\u001b[0;34m.\u001b[0m\u001b[0mexecute\u001b[0m\u001b[0;34m(\u001b[0m\u001b[0mdriver_command\u001b[0m\u001b[0;34m,\u001b[0m \u001b[0mparams\u001b[0m\u001b[0;34m)\u001b[0m\u001b[0;34m\u001b[0m\u001b[0;34m\u001b[0m\u001b[0m\n\u001b[1;32m    427\u001b[0m         \u001b[0;32mif\u001b[0m \u001b[0mresponse\u001b[0m\u001b[0;34m:\u001b[0m\u001b[0;34m\u001b[0m\u001b[0;34m\u001b[0m\u001b[0m\n\u001b[0;32m--> 428\u001b[0;31m             \u001b[0mself\u001b[0m\u001b[0;34m.\u001b[0m\u001b[0merror_handler\u001b[0m\u001b[0;34m.\u001b[0m\u001b[0mcheck_response\u001b[0m\u001b[0;34m(\u001b[0m\u001b[0mresponse\u001b[0m\u001b[0;34m)\u001b[0m\u001b[0;34m\u001b[0m\u001b[0;34m\u001b[0m\u001b[0m\n\u001b[0m\u001b[1;32m    429\u001b[0m             response['value'] = self._unwrap_value(\n\u001b[1;32m    430\u001b[0m                 response.get('value', None))\n",
      "\u001b[0;32m~/opt/anaconda3/lib/python3.9/site-packages/selenium/webdriver/remote/errorhandler.py\u001b[0m in \u001b[0;36mcheck_response\u001b[0;34m(self, response)\u001b[0m\n\u001b[1;32m    241\u001b[0m                 \u001b[0malert_text\u001b[0m \u001b[0;34m=\u001b[0m \u001b[0mvalue\u001b[0m\u001b[0;34m[\u001b[0m\u001b[0;34m'alert'\u001b[0m\u001b[0;34m]\u001b[0m\u001b[0;34m.\u001b[0m\u001b[0mget\u001b[0m\u001b[0;34m(\u001b[0m\u001b[0;34m'text'\u001b[0m\u001b[0;34m)\u001b[0m\u001b[0;34m\u001b[0m\u001b[0;34m\u001b[0m\u001b[0m\n\u001b[1;32m    242\u001b[0m             \u001b[0;32mraise\u001b[0m \u001b[0mexception_class\u001b[0m\u001b[0;34m(\u001b[0m\u001b[0mmessage\u001b[0m\u001b[0;34m,\u001b[0m \u001b[0mscreen\u001b[0m\u001b[0;34m,\u001b[0m \u001b[0mstacktrace\u001b[0m\u001b[0;34m,\u001b[0m \u001b[0malert_text\u001b[0m\u001b[0;34m)\u001b[0m  \u001b[0;31m# type: ignore[call-arg]  # mypy is not smart enough here\u001b[0m\u001b[0;34m\u001b[0m\u001b[0;34m\u001b[0m\u001b[0m\n\u001b[0;32m--> 243\u001b[0;31m         \u001b[0;32mraise\u001b[0m \u001b[0mexception_class\u001b[0m\u001b[0;34m(\u001b[0m\u001b[0mmessage\u001b[0m\u001b[0;34m,\u001b[0m \u001b[0mscreen\u001b[0m\u001b[0;34m,\u001b[0m \u001b[0mstacktrace\u001b[0m\u001b[0;34m)\u001b[0m\u001b[0;34m\u001b[0m\u001b[0;34m\u001b[0m\u001b[0m\n\u001b[0m",
      "\u001b[0;31mJavascriptException\u001b[0m: Message: javascript error: Cannot read properties of undefined (reading 'scrollHeight')\n  (Session info: chrome=106.0.5249.119)\nStacktrace:\n0   chromedriver                        0x000000010ab35598 chromedriver + 4404632\n1   chromedriver                        0x000000010aabcfa3 chromedriver + 3911587\n2   chromedriver                        0x000000010a769e6a chromedriver + 425578\n3   chromedriver                        0x000000010a76d037 chromedriver + 438327\n4   chromedriver                        0x000000010a76ced7 chromedriver + 437975\n5   chromedriver                        0x000000010a76db00 chromedriver + 441088\n6   chromedriver                        0x000000010a7d7c1f chromedriver + 875551\n7   chromedriver                        0x000000010a7bfda2 chromedriver + 777634\n8   chromedriver                        0x000000010a7d6f79 chromedriver + 872313\n9   chromedriver                        0x000000010a7bfbd3 chromedriver + 777171\n10  chromedriver                        0x000000010a794ced chromedriver + 601325\n11  chromedriver                        0x000000010a795e51 chromedriver + 605777\n12  chromedriver                        0x000000010ab050ce chromedriver + 4206798\n13  chromedriver                        0x000000010ab09797 chromedriver + 4224919\n14  chromedriver                        0x000000010ab10a4f chromedriver + 4254287\n15  chromedriver                        0x000000010ab0a4da chromedriver + 4228314\n16  chromedriver                        0x000000010aae323f chromedriver + 4067903\n17  chromedriver                        0x000000010ab276a8 chromedriver + 4347560\n18  chromedriver                        0x000000010ab27816 chromedriver + 4347926\n19  chromedriver                        0x000000010ab3c8fe chromedriver + 4434174\n20  libsystem_pthread.dylib             0x00007fff684d0109 _pthread_start + 148\n21  libsystem_pthread.dylib             0x00007fff684cbb8b thread_start + 15\n"
     ]
    }
   ],
   "source": []
  },
  {
   "cell_type": "code",
   "execution_count": 80,
   "id": "227b0731",
   "metadata": {},
   "outputs": [
    {
     "ename": "IndentationError",
     "evalue": "expected an indented block (2929290900.py, line 15)",
     "output_type": "error",
     "traceback": [
      "\u001b[0;36m  File \u001b[0;32m\"/var/folders/l0/rmt5_xrn6vb4901n4j9dj7n40000gn/T/ipykernel_85465/2929290900.py\"\u001b[0;36m, line \u001b[0;32m15\u001b[0m\n\u001b[0;31m    break\u001b[0m\n\u001b[0m    ^\u001b[0m\n\u001b[0;31mIndentationError\u001b[0m\u001b[0;31m:\u001b[0m expected an indented block\n"
     ]
    }
   ],
   "source": []
  },
  {
   "cell_type": "code",
   "execution_count": null,
   "id": "71a233a5",
   "metadata": {},
   "outputs": [],
   "source": []
  }
 ],
 "metadata": {
  "kernelspec": {
   "display_name": "Python 3 (ipykernel)",
   "language": "python",
   "name": "python3"
  },
  "language_info": {
   "codemirror_mode": {
    "name": "ipython",
    "version": 3
   },
   "file_extension": ".py",
   "mimetype": "text/x-python",
   "name": "python",
   "nbconvert_exporter": "python",
   "pygments_lexer": "ipython3",
   "version": "3.9.7"
  }
 },
 "nbformat": 4,
 "nbformat_minor": 5
}
