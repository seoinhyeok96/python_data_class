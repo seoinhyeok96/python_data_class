{
 "cells": [
  {
   "cell_type": "markdown",
   "id": "9e5eee70",
   "metadata": {},
   "source": [
    "### 구글 뉴스 크롤링(10페이지까지)\n",
    "- 목적: 구글 뉴스를 10페이지 까지 긁어 오는것"
   ]
  },
  {
   "cell_type": "code",
   "execution_count": 84,
   "id": "e003f9dd",
   "metadata": {},
   "outputs": [],
   "source": [
    "from selenium.webdriver.common.by import By\n",
    "from selenium.webdriver.common.keys import Keys\n",
    "import time"
   ]
  },
  {
   "cell_type": "code",
   "execution_count": 87,
   "id": "134464f9",
   "metadata": {
    "scrolled": true
   },
   "outputs": [
    {
     "name": "stderr",
     "output_type": "stream",
     "text": [
      "/var/folders/l0/rmt5_xrn6vb4901n4j9dj7n40000gn/T/ipykernel_76191/2263641955.py:4: DeprecationWarning: executable_path has been deprecated, please pass in a Service object\n",
      "  browser = webdriver.Chrome(PATH)\n"
     ]
    }
   ],
   "source": [
    "#크롬드라이버를 데스크탑으로 옮겨  패스라는 변수로 담아서 지정해줌 \n",
    "from selenium import webdriver\n",
    "PATH = \"/Users/seoinhyeog/Desktop/chromedriver\"\n",
    "browser = webdriver.Chrome(PATH)"
   ]
  },
  {
   "cell_type": "code",
   "execution_count": 88,
   "id": "4b8a9751",
   "metadata": {
    "scrolled": true
   },
   "outputs": [
    {
     "name": "stdout",
     "output_type": "stream",
     "text": [
      "크롤링하고자 하는 단어를 입력하세요.자동화\n",
      "크롤링하고자 하는 페이지수를 입력하세요.5\n",
      "[올쇼TV] \"FortiSOAR를 활용한 자동화 위협 대응 사례\" 11월 2일 웨비나 생방송\n",
      "창원시, 창원국제용접 및 절단자동화전 성료\n",
      "[비즈&] 롯데홈쇼핑, 물류센터에 업계 최초 자동화 시스템 도입 外\n",
      "제이엔피글로벌, 도로 시공 무인자동화 기업 충청에 시드투자\n",
      "한화생명, 청약자동화 솔루션 특허 취득 -\n",
      "한화생명, 보험 계약 자동화 솔루션 특허 취득\n",
      "[보험 현미경] 한화생명, '청약자동화 솔루션' 특허 취득\n",
      "'창원국제용접 및 절단자동화전' 328억 수출 상담 달성\n",
      "디티앤씨알오 “자동화 CRO 플랫폼으로 성장할 것”\n",
      "포스코 ICT, 업무자동화 솔루션 A.WORKS 3.0 출시\n",
      "포스코ICT, 업무 자동화 솔루션 '에이웍스 3.0' 출시\n",
      "포스코 ICT, 업무자동화 솔루션 A.WORKS 3.0 출시\n",
      "[비즈&] 롯데홈쇼핑, 물류센터에 업계 최초 자동화 시스템 도입 外\n",
      "'5분이면 청약 끝'…한화생명, 청약자동화 솔루션 특허 취득\n",
      "롯데홈쇼핑, 이천 물류센터 오픈...최첨단 자동화 시스템 갖춰\n",
      "[AI 기반 제조혁신-②] 조선업계, 업황 개선에 인력 부족은 더욱 ...\n",
      "포스코ICT, 업무자동화 솔루션 A.WORKS 3.0 출시\n",
      "‘2022 국제 공구 및 스마트 용접 자동화전’ 성료\n",
      "유아이패스 “자동화 시장, RPA에서 지능형 프로세스 자동화(IPA ...\n",
      "롯데홈쇼핑, 이천 물류센터 오픈…자동화 시스템 도입\n",
      "셀텍월드' 축분뇨 자동화처리기'' 폐우유 처리기'\n",
      "창원시 \"국내 최대 용접 및 절단자동화전 328억 수출상담\"\n",
      "CJ대한통운, '디지털트윈' 기술로 자동화 박차\n",
      "블루프리즘, 전사적 자동화 지원하는 통합 지능형 자동화 플랫폼 출시\n",
      "최고의 회사, 판매, 소비, 가격 및 성장률과 함께 광업 실험실 ...\n",
      "[기고] Digital Labor와 사람이 공생하는 '미래'가 아닌 '현실 ...\n",
      "BIkorea 모바일 사이트, 블루프리즘, '통합 지능형 자동화' 플랫폼 ...\n",
      "[유통가Info.] 롯데홈쇼핑, 자동화 시스템 도입한 '이천 물류센터 ...\n",
      "물류 가성비 맛집 ② - 물류자동화 토탈솔루션 '모비어스앤밸류 ...\n",
      "산업자동화 TSN 공통 적합성 시험 개발 위한 TIACC 출범.. CC ...\n",
      "유엔디, 자동 툴체인저 활용해 바베큐 로봇 자동화 플랫폼 개발\n",
      "보험계약 단 5분… 한화생명, 청약자동화 솔루션 기술특허 취득\n",
      "엔터프라이즈 로봇 프로세스 자동화 시장 2022 성장, 최신 동향 ...\n",
      "백오피스 자동화 시장(2022~2028) – 산업 분야 전반에 걸쳐 ...\n",
      "슈나이더, '이지 시리즈' 자동화 제품군 온라인몰 판매 강화\n",
      "한화생명, 청약 자동화 솔루션 특허 취득 < 금융.증권 < 경제 ...\n",
      "창원특례시서 ‘2022 창원국제용접 및 절단자동화전’ 개최\n",
      "인공지능팩토리, AI모델 추론 자동화 'AF-플레이' 개발\n",
      "두산로보틱스, 로봇용접 자동화 솔루션 선보인다\n",
      "블루프리즘, 전사적 자동화 확산 돕는 '통합 지능형 자동화 ...\n",
      "로봇신문사 모바일 모바일 사이트, 화낙, 아일랜드 로봇·자동화 ...\n",
      "유아이패스, 세종병원의 디지털 혁신 위한 업무자동화 지원\n",
      "'코스닥 상장' 앞둔 뉴로메카 \"로봇 자동화로 글로벌 본격 공략\"\n",
      "물류 가성비 맛집 ④ - 친환경 포장자동화 솔루션 '솔버스'\n",
      "[2022 로보월드 특집] 산업용 로봇 시장 동향\n",
      "롯데홈쇼핑, 자동화 설비 갖춘 이천 물류센터 오픈\n",
      "아마존, 물류 자동화기업 ‘Cloostermans’ 인수 < BIz&Info < 기사 ...\n",
      "수출입 업무 자동화 플랫폼 씨에어허브, '메인비즈' 인증 획득\n",
      "지능형 프로세스 자동화(IPA) 시장 2022 글로벌 통찰력 및 ...\n",
      "그루밍 지역의 필드 포스 자동화 시장 경쟁 통찰력 및 기회 ...\n",
      "IT 자동화 플랫폼 점점 진화...레드햇도 대공세\n",
      "카카오 홍은택 \"복구 지연 원인은 서버 자동화 배포 시스템\"\n"
     ]
    }
   ],
   "source": [
    "search_word= input(\"크롤링하고자 하는 단어를 입력하세요.\")\n",
    "page = int(input(\"크롤링하고자 하는 페이지수를 입력하세요.\"))\n",
    "title = []\n",
    "url=\"https://www.google.com/search?q={}&tbm=nws&sxsrf=ALiCzsYCoSIq1MecL8QoDRHtLzhoNMDOgg:1666758532810&ei=hLdYY7aJMc6woASszbagDQ&start={}&sa=N&ved=2ahUKEwi225iyh_36AhVOGIgKHaymDdQQ8tMDegQIARAE&biw=1394&bih=714&dpr=2\"\n",
    "\n",
    "for i in range(0,page*10,10):\n",
    "    final_url=url.format(search_word,i)\n",
    "    browser.get(final_url)\n",
    "    time.sleep(3)\n",
    "    browser.implicitly_wait(10)#5초를 기다려봐 안되면 오류를 뱉어내고, 만약에 그전에 로딩이 되면 진행해도됨\n",
    "    titles = browser.find_elements(By.CLASS_NAME, 'mCBkyc')\n",
    "    for title in titles:\n",
    "        print(title.text)\n",
    "    \n",
    "    \n",
    "    \n",
    "\n"
   ]
  },
  {
   "cell_type": "code",
   "execution_count": 77,
   "id": "1c9323ae",
   "metadata": {},
   "outputs": [
    {
     "ename": "AttributeError",
     "evalue": "'list' object has no attribute 'text'",
     "output_type": "error",
     "traceback": [
      "\u001b[0;31m---------------------------------------------------------------------------\u001b[0m",
      "\u001b[0;31mAttributeError\u001b[0m                            Traceback (most recent call last)",
      "\u001b[0;32m/var/folders/l0/rmt5_xrn6vb4901n4j9dj7n40000gn/T/ipykernel_76191/2630558729.py\u001b[0m in \u001b[0;36m<module>\u001b[0;34m\u001b[0m\n\u001b[0;32m----> 1\u001b[0;31m \u001b[0mprint\u001b[0m\u001b[0;34m(\u001b[0m\u001b[0mtitles\u001b[0m\u001b[0;34m.\u001b[0m\u001b[0mtext\u001b[0m\u001b[0;34m)\u001b[0m\u001b[0;34m\u001b[0m\u001b[0;34m\u001b[0m\u001b[0m\n\u001b[0m",
      "\u001b[0;31mAttributeError\u001b[0m: 'list' object has no attribute 'text'"
     ]
    }
   ],
   "source": []
  },
  {
   "cell_type": "code",
   "execution_count": 37,
   "id": "66c318d6",
   "metadata": {},
   "outputs": [
    {
     "data": {
      "text/plain": [
       "['KAIT-컴퓨터교육협의회 파이썬 교육 인재 양성 ‘맞손’',\n",
       " '파이썬과 고 무엇이 다를까?',\n",
       " '메타·MS 등 글로벌 기업 취업 돕는 파이썬 관련 기술',\n",
       " \"요기요 파이썬 개발자 컨퍼런스 '파이콘 한국 2022' 후원\",\n",
       " \"IT 개발 입문 돕는다…코드스테이츠 '4주 완성 파이썬'\",\n",
       " '요기요 파이썬 백엔드 신입 개발자 공개 채용',\n",
       " \"요기요 '파이콘 한국 2022' 공식 후원사 참가\",\n",
       " \"에이다푸르츠 '써킷파이썬' 8.0.0 베타 버전 출시\",\n",
       " \"수십 년째 요지부동 'C 언어'가 왕좌 지키는 이유\",\n",
       " '[온라인 교육 영토 확장하는 교수들-②윤태진 성신여대 교수 ...']"
      ]
     },
     "execution_count": 37,
     "metadata": {},
     "output_type": "execute_result"
    }
   ],
   "source": [
    "titles = browser.find_elements(By.CLASS_NAME, 'mCBkyc')\n",
    "\n",
    "title = []\n",
    "for i in titles:\n",
    "    temp_title = i.text\n",
    "    temp_title = temp_title.replace(\",\", \"\")\n",
    "    title.append(temp_title)\n",
    "\n",
    "title"
   ]
  },
  {
   "cell_type": "code",
   "execution_count": 47,
   "id": "c5adce5b",
   "metadata": {},
   "outputs": [
    {
     "data": {
      "text/plain": [
       "[<selenium.webdriver.remote.webelement.WebElement (session=\"393277d084e24db0544c25bc34e608db\", element=\"190dd33f-30bc-4ee2-bef4-0a8bffc12ad4\")>,\n",
       " <selenium.webdriver.remote.webelement.WebElement (session=\"393277d084e24db0544c25bc34e608db\", element=\"9faf1d77-1609-48a1-b06f-f36e546ab23b\")>,\n",
       " <selenium.webdriver.remote.webelement.WebElement (session=\"393277d084e24db0544c25bc34e608db\", element=\"04b7cf6b-c8b9-4c8f-833f-40d39c9403f1\")>,\n",
       " <selenium.webdriver.remote.webelement.WebElement (session=\"393277d084e24db0544c25bc34e608db\", element=\"45d66b32-c593-4eec-aea0-f4df12908ad6\")>,\n",
       " <selenium.webdriver.remote.webelement.WebElement (session=\"393277d084e24db0544c25bc34e608db\", element=\"fa39ec4c-ae13-4c31-a583-3e7bdaef0d68\")>,\n",
       " <selenium.webdriver.remote.webelement.WebElement (session=\"393277d084e24db0544c25bc34e608db\", element=\"b5728ab5-160f-4b00-bce2-39d5539ec8df\")>,\n",
       " <selenium.webdriver.remote.webelement.WebElement (session=\"393277d084e24db0544c25bc34e608db\", element=\"9b2d996c-7f78-4e0a-ad9b-229cf8b8c7a1\")>,\n",
       " <selenium.webdriver.remote.webelement.WebElement (session=\"393277d084e24db0544c25bc34e608db\", element=\"09171d0b-1809-46b7-9e91-2a1acafadc58\")>,\n",
       " <selenium.webdriver.remote.webelement.WebElement (session=\"393277d084e24db0544c25bc34e608db\", element=\"63cacf69-cc38-465a-9212-d1b8825dd209\")>,\n",
       " <selenium.webdriver.remote.webelement.WebElement (session=\"393277d084e24db0544c25bc34e608db\", element=\"9e1ff85b-51b4-493a-8dd8-3eb7a93630d9\")>]"
      ]
     },
     "execution_count": 47,
     "metadata": {},
     "output_type": "execute_result"
    }
   ],
   "source": [
    "titles = browser.find_elements(By.CLASS_NAME, 'mCBkyc')\n",
    "titles"
   ]
  },
  {
   "cell_type": "code",
   "execution_count": null,
   "id": "221da3bc",
   "metadata": {},
   "outputs": [],
   "source": []
  },
  {
   "cell_type": "code",
   "execution_count": null,
   "id": "379bc04e",
   "metadata": {},
   "outputs": [],
   "source": []
  },
  {
   "cell_type": "code",
   "execution_count": null,
   "id": "6c2012a7",
   "metadata": {},
   "outputs": [],
   "source": []
  },
  {
   "cell_type": "code",
   "execution_count": null,
   "id": "dca73b46",
   "metadata": {},
   "outputs": [],
   "source": []
  },
  {
   "cell_type": "code",
   "execution_count": null,
   "id": "27a9ab6d",
   "metadata": {},
   "outputs": [],
   "source": []
  },
  {
   "cell_type": "code",
   "execution_count": 21,
   "id": "e76319fc",
   "metadata": {
    "scrolled": true
   },
   "outputs": [
    {
     "name": "stdout",
     "output_type": "stream",
     "text": [
      "0\n",
      "10\n",
      "20\n",
      "30\n",
      "40\n",
      "50\n",
      "60\n",
      "70\n",
      "80\n",
      "90\n"
     ]
    }
   ],
   "source": [
    "for i in range(0,100,10):\n",
    "    print(i)"
   ]
  },
  {
   "cell_type": "code",
   "execution_count": null,
   "id": "f260580a",
   "metadata": {},
   "outputs": [],
   "source": []
  },
  {
   "cell_type": "code",
   "execution_count": null,
   "id": "ac9f2775",
   "metadata": {},
   "outputs": [],
   "source": []
  }
 ],
 "metadata": {
  "kernelspec": {
   "display_name": "Python 3 (ipykernel)",
   "language": "python",
   "name": "python3"
  },
  "language_info": {
   "codemirror_mode": {
    "name": "ipython",
    "version": 3
   },
   "file_extension": ".py",
   "mimetype": "text/x-python",
   "name": "python",
   "nbconvert_exporter": "python",
   "pygments_lexer": "ipython3",
   "version": "3.9.7"
  }
 },
 "nbformat": 4,
 "nbformat_minor": 5
}
