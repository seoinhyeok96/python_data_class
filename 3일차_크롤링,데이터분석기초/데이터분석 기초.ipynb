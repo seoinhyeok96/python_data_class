{
 "cells": [
  {
   "cell_type": "markdown",
   "id": "065c2849",
   "metadata": {},
   "source": [
    "## Numpy"
   ]
  },
  {
   "cell_type": "markdown",
   "id": "d2917e4c",
   "metadata": {},
   "source": [
    "파이썬에서 수학적 계산을 쉽게 할 수 있도록 가져오는 라이브러리 입니다.\n",
    "\n",
    "ndarray: 행렬이라고 생각하면 된다.\n",
    "nd는 n차원을 의미 (n dimensional)\n",
    "\n",
    "주로 Tensorflow 나 pytorch, keras 등의 머신러닝 프레임워크에서 ndarray를 사용\n"
   ]
  },
  {
   "cell_type": "code",
   "execution_count": 6,
   "id": "79af2647",
   "metadata": {},
   "outputs": [],
   "source": [
    "# 모듈 불러오기\n",
    "import numpy as np"
   ]
  },
  {
   "cell_type": "code",
   "execution_count": null,
   "id": "02e12e56",
   "metadata": {},
   "outputs": [],
   "source": [
    "# 1차원 배열 생성\n",
    "array = np.array([\"A\",\"B\",\"C\",\"D\",\"E\",\"F\"])\n",
    "array"
   ]
  },
  {
   "cell_type": "code",
   "execution_count": 2,
   "id": "5ea1563e",
   "metadata": {},
   "outputs": [
    {
     "data": {
      "text/plain": [
       "array([1, 2, 3])"
      ]
     },
     "execution_count": 2,
     "metadata": {},
     "output_type": "execute_result"
    }
   ],
   "source": [
    "list = [\"A\",\"B\",\"C\",\"D\",\"E\"]\n",
    "list2=[1,2,3]\n",
    "array=np.array(list2)\n",
    "array"
   ]
  },
  {
   "cell_type": "code",
   "execution_count": 4,
   "id": "4cd79368",
   "metadata": {},
   "outputs": [
    {
     "name": "stdout",
     "output_type": "stream",
     "text": [
      "(3,)\n",
      "1\n",
      "int64\n"
     ]
    }
   ],
   "source": [
    "print(array.shape) # 차원의 요소 개수\n",
    "print(array.ndim) # 차원\n",
    "print(array.dtype) # data type -> 공통적인 데이터 타입"
   ]
  },
  {
   "cell_type": "code",
   "execution_count": 8,
   "id": "ac015722",
   "metadata": {},
   "outputs": [
    {
     "data": {
      "text/plain": [
       "array([['A', 'B', 'C'],\n",
       "       ['D', 'E', 'F']], dtype='<U1')"
      ]
     },
     "execution_count": 8,
     "metadata": {},
     "output_type": "execute_result"
    }
   ],
   "source": [
    "# 2차원 배열 생성\n",
    "array2=np.array([[\"A\",\"B\",\"C\"],[\"D\",\"E\",\"F\"]])\n",
    "array2"
   ]
  },
  {
   "cell_type": "markdown",
   "id": "3dabec56",
   "metadata": {},
   "source": [
    "## 2.Numpy 형상 관련 함수"
   ]
  },
  {
   "cell_type": "code",
   "execution_count": null,
   "id": "2fff2900",
   "metadata": {},
   "outputs": [],
   "source": [
    "# astype() - ndarray 타입변환\n",
    "array5 = np.array([1,2,3,4,5])\n",
    "print(array5.dtype)"
   ]
  },
  {
   "cell_type": "code",
   "execution_count": null,
   "id": "0af4791e",
   "metadata": {},
   "outputs": [],
   "source": [
    "#* astype()\n",
    "    #* ndarray의 타입을 변경 (int -> str, str -> int)"
   ]
  },
  {
   "cell_type": "code",
   "execution_count": 9,
   "id": "1c1dfa52",
   "metadata": {},
   "outputs": [
    {
     "data": {
      "text/plain": [
       "array([1, 2, 3, 4, 5, 6, 7, 8, 9])"
      ]
     },
     "execution_count": 9,
     "metadata": {},
     "output_type": "execute_result"
    }
   ],
   "source": [
    "#각각\n",
    "arr= np.arange(1,10)\n",
    "arr"
   ]
  },
  {
   "cell_type": "code",
   "execution_count": 11,
   "id": "a25f79f4",
   "metadata": {},
   "outputs": [
    {
     "name": "stdout",
     "output_type": "stream",
     "text": [
      "[False False False False False False  True  True  True]\n",
      "[7 8 9]\n"
     ]
    }
   ],
   "source": [
    "print(arr>6)\n",
    "print(arr[arr>6])"
   ]
  },
  {
   "cell_type": "code",
   "execution_count": 14,
   "id": "49da83aa",
   "metadata": {},
   "outputs": [
    {
     "ename": "TypeError",
     "evalue": "'builtin_function_or_method' object is not subscriptable",
     "output_type": "error",
     "traceback": [
      "\u001b[0;31m---------------------------------------------------------------------------\u001b[0m",
      "\u001b[0;31mTypeError\u001b[0m                                 Traceback (most recent call last)",
      "\u001b[0;32m/var/folders/l0/rmt5_xrn6vb4901n4j9dj7n40000gn/T/ipykernel_22176/3177359576.py\u001b[0m in \u001b[0;36m<module>\u001b[0;34m\u001b[0m\n\u001b[1;32m      1\u001b[0m \u001b[0;31m# 배열의 연산\u001b[0m\u001b[0;34m\u001b[0m\u001b[0;34m\u001b[0m\u001b[0m\n\u001b[0;32m----> 2\u001b[0;31m \u001b[0marr1\u001b[0m\u001b[0;34m=\u001b[0m\u001b[0mnp\u001b[0m\u001b[0;34m.\u001b[0m\u001b[0marray\u001b[0m\u001b[0;34m[\u001b[0m\u001b[0;34m[\u001b[0m\u001b[0;36m1\u001b[0m\u001b[0;34m,\u001b[0m\u001b[0;36m2\u001b[0m\u001b[0;34m]\u001b[0m\u001b[0;34m,\u001b[0m\u001b[0;34m[\u001b[0m\u001b[0;36m3\u001b[0m\u001b[0;34m,\u001b[0m\u001b[0;36m4\u001b[0m\u001b[0;34m]\u001b[0m\u001b[0;34m]\u001b[0m\u001b[0;34m\u001b[0m\u001b[0;34m\u001b[0m\u001b[0m\n\u001b[0m\u001b[1;32m      3\u001b[0m \u001b[0marr2\u001b[0m\u001b[0;34m=\u001b[0m\u001b[0mnp\u001b[0m\u001b[0;34m.\u001b[0m\u001b[0marray\u001b[0m\u001b[0;34m[\u001b[0m\u001b[0;34m[\u001b[0m\u001b[0;36m5\u001b[0m\u001b[0;34m,\u001b[0m\u001b[0;36m6\u001b[0m\u001b[0;34m]\u001b[0m\u001b[0;34m,\u001b[0m\u001b[0;34m[\u001b[0m\u001b[0;36m7\u001b[0m\u001b[0;34m,\u001b[0m\u001b[0;36m8\u001b[0m\u001b[0;34m]\u001b[0m\u001b[0;34m]\u001b[0m\u001b[0;34m\u001b[0m\u001b[0;34m\u001b[0m\u001b[0m\n\u001b[1;32m      4\u001b[0m \u001b[0;34m\u001b[0m\u001b[0m\n\u001b[1;32m      5\u001b[0m \u001b[0madd\u001b[0m\u001b[0;34m=\u001b[0m\u001b[0mnp\u001b[0m\u001b[0;34m.\u001b[0m\u001b[0madd\u001b[0m\u001b[0;34m(\u001b[0m\u001b[0marr1\u001b[0m\u001b[0;34m,\u001b[0m\u001b[0marr2\u001b[0m\u001b[0;34m)\u001b[0m\u001b[0;34m\u001b[0m\u001b[0;34m\u001b[0m\u001b[0m\n",
      "\u001b[0;31mTypeError\u001b[0m: 'builtin_function_or_method' object is not subscriptable"
     ]
    }
   ],
   "source": [
    "# 배열 연산\n",
    "arr1 = np.array([[1,2], [3,4]])\n",
    "arr2 = np.array([[5,6], [7,8]])\n",
    "\n",
    "\n",
    "add = np.add(arr1,arr2)\n",
    "print(add)\n",
    "print(arr1+arr2)"
   ]
  },
  {
   "cell_type": "code",
   "execution_count": null,
   "id": "89fda8a9",
   "metadata": {},
   "outputs": [],
   "source": []
  }
 ],
 "metadata": {
  "kernelspec": {
   "display_name": "Python 3 (ipykernel)",
   "language": "python",
   "name": "python3"
  },
  "language_info": {
   "codemirror_mode": {
    "name": "ipython",
    "version": 3
   },
   "file_extension": ".py",
   "mimetype": "text/x-python",
   "name": "python",
   "nbconvert_exporter": "python",
   "pygments_lexer": "ipython3",
   "version": "3.10.0"
  },
  "vscode": {
   "interpreter": {
    "hash": "aee8b7b246df8f9039afb4144a1f6fd8d2ca17a180786b69acc140d282b71a49"
   }
  }
 },
 "nbformat": 4,
 "nbformat_minor": 5
}
