{
 "cells": [
  {
   "cell_type": "markdown",
   "id": "3c459a49",
   "metadata": {},
   "source": [
    "## DBPIA 논문 데이터 크롤링\n",
    "- 기본 페이지 정보 외에 상세 페이지로 접근을 해서 이름 과 설명 데이터를 가져오는 크롤링 코드입니다."
   ]
  },
  {
   "cell_type": "code",
   "execution_count": 2,
   "id": "2b9d0831",
   "metadata": {},
   "outputs": [],
   "source": [
    "from selenium.webdriver.common.by import By\n",
    "from selenium.webdriver.common.keys import Keys\n",
    "import time\n",
    "from selenium import webdriver\n",
    "from selenium.webdriver import ActionChains\n",
    "import time\n",
    "import pandas as pd"
   ]
  },
  {
   "cell_type": "code",
   "execution_count": 30,
   "id": "32a1d8e8",
   "metadata": {},
   "outputs": [
    {
     "name": "stderr",
     "output_type": "stream",
     "text": [
      "/var/folders/l0/rmt5_xrn6vb4901n4j9dj7n40000gn/T/ipykernel_37800/2307485504.py:3: DeprecationWarning: executable_path has been deprecated, please pass in a Service object\n",
      "  browser = webdriver.Chrome(PATH)\n"
     ]
    }
   ],
   "source": [
    "from selenium import webdriver\n",
    "PATH = \"/Users/seoinhyeog/Desktop/chromedriver\"\n",
    "browser = webdriver.Chrome(PATH)"
   ]
  },
  {
   "cell_type": "code",
   "execution_count": 22,
   "id": "99a94895",
   "metadata": {},
   "outputs": [
    {
     "ename": "KeyboardInterrupt",
     "evalue": "",
     "output_type": "error",
     "traceback": [
      "\u001b[0;31m---------------------------------------------------------------------------\u001b[0m",
      "\u001b[0;31mKeyboardInterrupt\u001b[0m                         Traceback (most recent call last)",
      "\u001b[0;32m/var/folders/l0/rmt5_xrn6vb4901n4j9dj7n40000gn/T/ipykernel_53792/891926854.py\u001b[0m in \u001b[0;36m<module>\u001b[0;34m\u001b[0m\n\u001b[1;32m      2\u001b[0m     \u001b[0mxpath\u001b[0m\u001b[0;34m=\u001b[0m \u001b[0;34m'//*[@id=\"pageList\"]/a[{}]'\u001b[0m\u001b[0;34m.\u001b[0m\u001b[0mformat\u001b[0m\u001b[0;34m(\u001b[0m\u001b[0mstr\u001b[0m\u001b[0;34m(\u001b[0m\u001b[0mi\u001b[0m\u001b[0;34m)\u001b[0m\u001b[0;34m)\u001b[0m\u001b[0;34m\u001b[0m\u001b[0;34m\u001b[0m\u001b[0m\n\u001b[1;32m      3\u001b[0m     \u001b[0mbrowser\u001b[0m\u001b[0;34m.\u001b[0m\u001b[0mfind_element\u001b[0m\u001b[0;34m(\u001b[0m\u001b[0mBy\u001b[0m\u001b[0;34m.\u001b[0m\u001b[0mXPATH\u001b[0m\u001b[0;34m,\u001b[0m\u001b[0mxpath\u001b[0m\u001b[0;34m)\u001b[0m\u001b[0;34m.\u001b[0m\u001b[0mclick\u001b[0m\u001b[0;34m(\u001b[0m\u001b[0;34m)\u001b[0m\u001b[0;34m\u001b[0m\u001b[0;34m\u001b[0m\u001b[0m\n\u001b[0;32m----> 4\u001b[0;31m     \u001b[0mtime\u001b[0m\u001b[0;34m.\u001b[0m\u001b[0msleep\u001b[0m\u001b[0;34m(\u001b[0m\u001b[0;36m5\u001b[0m\u001b[0;34m)\u001b[0m\u001b[0;34m\u001b[0m\u001b[0;34m\u001b[0m\u001b[0m\n\u001b[0m",
      "\u001b[0;31mKeyboardInterrupt\u001b[0m: "
     ]
    }
   ],
   "source": [
    "for i in range(1,11):\n",
    "    xpath= '//*[@id=\"pageList\"]/a[{}]'.format(str(i))\n",
    "    browser.find_element(By.XPATH,xpath).click()\n",
    "    time.sleep(5)\n"
   ]
  },
  {
   "cell_type": "code",
   "execution_count": 5,
   "id": "825c67fc",
   "metadata": {},
   "outputs": [
    {
     "data": {
      "text/plain": [
       "'https://www.dbpia.co.kr/journal/articleDetail?nodeId=NODE11103328'"
      ]
     },
     "execution_count": 5,
     "metadata": {},
     "output_type": "execute_result"
    }
   ],
   "source": [
    "browser.find_element(By.CLASS_NAME, 'thesis__link').get_attribute(\"href\")"
   ]
  },
  {
   "cell_type": "code",
   "execution_count": 31,
   "id": "09b0b36a",
   "metadata": {},
   "outputs": [
    {
     "name": "stdout",
     "output_type": "stream",
     "text": [
      "검색하시고자 하는 논문 제목을 입력하세요.자동화\n",
      "https://www.dbpia.co.kr/search/topSearch?startCount=0&collection=ALL&range=A&searchField=ALL&sort=RANK&query=자동화&srchOption=*&includeAr=false\n",
      "====pass========pass========pass========pass========pass========pass========pass========pass========pass========pass====\n",
      "대용량 데이터 전송을 위한 오픈 API 기반 가상 네트워크 프로비저닝 자동화 플랫폼 구현\n",
      "현재 선도국가연구망 그룹에서 SDN/NFV 기반의 네트워크 자동화·지능화 기술을 사용자에게 서비스 형태로 제공하기 위한 요구가 지속적으로 발생함에 따라 관련 연구개발이 추진되고 있다. 또한, 선도국가연구망에서는 일반 네트워크 환경보다 대용량 데이터 전송을 고성능으로 제공해야 한다는 요구사항이 점차 더 커지고 있는 실정이다. 이에 따라, 본 논문에서는 이러한 국가연구망의 네트워킹 요구사항들에 대응하기 위하여 연구 개발한 대용량 데이터 전송을 위한 오픈 API 기반 가상 네트워크 프로비저닝 자동화 플랫폼을 제안하고 이의 구현 결과를 제시한다. 해당 플랫폼에는 SDN 기반의 네트워크 가상화 기술을 제공하는 KREONET-S의 VDN 시스템, 컨테이너 중심의 서버 가상화 기술을 제공하는 Kubernetes 시스템, 그리고 고성능 데이터 전송 시스템인 Globus Online이 포함되어 있다. 본 논문에서는 이러한 상이한 시스템 간의 연계를 위한 환경 설정 및 시스템 연동 결과, 가상 네트워크 프로비저닝 자동화 구현 결과 및 성능에 대하여 보인다.\n",
      "\n",
      "Currently, advanced national research network groups are continuously conducting R&D for the requirement to provide SDN/NFV-based network automation and intelligence technology for R&E users. In addition, the requirement for providing large-scale data transmission with the high performance networking facility, compared to general network environments, is gradually increasing in the advanced national research networks. Accordingly, in this paper, we propose an open API-based virtual network provisioning automation platform for large data transmission researched and developed to respond to the networking requirements of the national research network and present the implementation results. The platform includes the KREONET-S VDN system that provides SDN-based network virtualization technology, and the Kubernetes system that provides container-oriented server virtualization technology, and the Globus Online, a high-performance data transmission system. In this paper, the environment configurations, the system implemetation results for the interworking between the heterogeneous systems, and the automated virtual network provisioning implementation results are presented. Currently, advanced national research network groups are continuously conducting R&D for the requirement to provide SDN/NFV-based network automation and intelligence technology for R&E users. In addition, the requirement for providing large-scale data transmission with the high performance networking facility, compared to general network environments, is gradually increasing in the advanced national research networks. Accordingly, in this paper, we propose an open API-based virtual network provisioning automation platform for large data transmission researched and developed to respond to the networking requirements of the national research network and present the implementation results. The platform includes the KREONET-S VDN system that provides SDN-based network virtualization technology, and the Kubernetes system that provides container-oriented server virtualization technology, and the Globus Online, a high-performance data transmission system. In this paper, the environment configurations, the system implemetation results for the interworking between the heterogeneous systems, and the automated virtual network provisioning implementation results are presented.\n",
      "=========================================================================================================\n",
      "철도시설물 무인 자동화 점검용 드론의 내풍성 평가 연구\n",
      "본 연구에서는 철도시설물의 무인자동화 점검을 위해 선로에서 발생하는 강한 바람에 견딜 수 있는 헥사콥터형식의 드론을 개발하였다. 본 드론은 총 중량은 약 16㎏이고, 최대 비행속도는 10.7㎧이다. 또한, 3차원 자율항법을 기반으로 하여 여러대의 드론이 연속적으로 철도시설물을 점검할 수 있고, 교량하부와 같은 GPS 음영구역에서도 운용이 가능하도록 개발되었다. 또한, 철도차량 운행중 발생할 수 있는 드론의 사고를 예방하기 위해 철도운영환경하에서 드론에 대한 내풍성 성능을 평가하였다. 내풍성 평가는 철도차량 운행중 발생하는 상승풍, 상승풍 돌풍, 측풍 및 측풍 돌풍에 대해서 수행하였다. 시험결과 상승풍에서의 최대변위는 풍속 8㎧에서 z방향으로 약 39㎝ 였고, 측풍에서의 최대 변위는 풍속 8㎧에서 x방향 및 z방향으로 각각 43㎝와 45㎝ 였다. 본 시험을 통해 개발된 드론은 본 연구의 성능요구조건인 풍속 8㎧하에서 최대변위 50㎝ 조건을 만족함을 확인할 수 있었다.\n",
      "\n",
      "In this study, a hexacopter-type drone that can withstand strong winds generated from railway trains was developed for unmanned automated inspection of railway facilities. This drone has a total weight of about 16 ㎏ and a maximum flight speed of 10.7 ㎧. In addition, based on 3D autonomous navigation, several drones can continuously inspect railway facilities and have been developed to operate in GPS shadow areas such as under bridges. In addition, to prevent drone accidents that may occur during operation of railroad vehicles, the wind resistance performance of the drones under railroad operating environment was evaluated. Wind resistance evaluation was performed for conditions of upwinds, upwind gusts, crosswinds and crosswind gusts generated during the operation of railroad vehicles. As a result of the test, the maximum displacement for an upward wind was found to be about 39 ㎝ in the z direction at a wind speed of 8 ㎧, the maximum displacement in a crosswind was 43 ㎝ and 45 ㎝ in the x and z directions, respectively, at a wind speed of 8 ㎧. It was confirmed that the drone developed through this test satisfies the condition of maximum displacement of 50 ㎝ under wind speed of 8 ㎧, which were the performance requirements of this study. In this study, a hexacopter-type drone that can withstand strong winds generated from railway trains was developed for unmanned automated inspection of railway facilities. This drone has a total weight of about 16 ㎏ and a maximum flight speed of 10.7 ㎧. In addition, based on 3D autonomous navigation, several drones can continuously inspect railway facilities and have been developed to operate in GPS shadow areas such as under bridges. In addition, to prevent drone accidents that may occur during operation of railroad vehicles, the wind resistance performance of the drones under railroad operating environment was evaluated. Wind resistance evaluation was performed for conditions of upwinds, upwind gusts, crosswinds and crosswind gusts generated during the operation of railroad vehicles. As a result of the test, the maximum displacement for an upward wind was found to be about 39 ㎝ in the z direction at a wind speed of 8 ㎧, the maximum displacement in a crosswind was 43 ㎝ and 45 ㎝ in the x and z directions, respectively, at a wind speed of 8 ㎧. It was confirmed that the drone developed through this test satisfies the condition of maximum displacement of 50 ㎝ under wind speed of 8 ㎧, which were the performance requirements of this study.\n",
      "=========================================================================================================\n",
      "====pass========pass========pass========pass========pass========pass========pass========pass========pass========pass====\n",
      "Haziness Degree Evaluator를 적용한 Hazy Particle Map 기반 자동화 안개 제거 방법\n",
      "With the recent development of computer vision technology, image processing-based mechanical devices are being developed to realize autonomous driving. The camera-taken images of image processing-based machines are invisible due to scattering and absorption of light in foggy conditions. This lowers the object recognition rate and causes malfunction. The safety of the technology is very important because the malfunction of autonomous driving leads to human casualties. In order to increase the stability of the technology, it is necessary to apply an efficient haze removal algorithm to the camera. In the conventional haze removal method, since the haze removal operation is performed regardless of the haze concentration of the input image, excessive haze is removed and the quality of the resulting image is deteriorated. In this paper, we propose an automatic haze removal method that removes haze according to the haze density of the input image by applying Ngo\"s Haziness Degree Evaluator (HDE) to Kim\"s haze removal algorithm using Hazy Particle Map. The proposed haze removal method removes the haze according to the haze concentration of the input image, thereby preventing the quality degradation of the input image that does not require haze removal and solving the problem of excessive haze removal. The superiority of the proposed haze removal method is verified through qualitative and quantitative evaluation.\n",
      "=========================================================================================================\n"
     ]
    },
    {
     "name": "stdout",
     "output_type": "stream",
     "text": [
      "====pass========pass========pass========pass========pass========pass========pass========pass========pass========pass====\n",
      "Hazy Particle Map 기반 실시간 처리 가능한 자동화 안개 제거방법의 하드웨어 구현\n",
      "최근 자율주행 자동차를 구현하기 위해 카메라 영상을 통해 객체 및 차선을 인식하여 자율주행하는 영상처리 기술이 연구되고 있다. 안개는 카메라 촬영 영상의 가시성을 떨어뜨리기 때문에 자율주행 자동차 오작동의 원인이 된다. 이를 해결하기 위해 카메라에 실시간 처리가 가능한 안개 제거 기능을 적용하는 것이 필요하다. 따라서 본 논문에서는 성능이 우수한 Sim의 안개 제거방법을 실시간 처리가 가능한 하드웨어로 구현한다. 제안하는 하드웨어는 Verilog HDL을 사용하여 설계하였고, Xilinx사의 xc7z045-2ffg900을 Target device로 설정하여 FPGA 구현하였다. Xilinx Vivado 프로그램을 이용한 논리합성 결과 4K(4096×2160) 고해상도 환경에서 최대 동작 주파수 276.932MHz, 최대 처리 속도 31.279fps를 가짐으로써 실시간 처리 기준을 만족한다.\n",
      "\n",
      "Recently, image processing technology for autonomous driving by recognizing objects and lanes through camera images to realize autonomous vehicles is being studied. Haze reduces the visibility of images captured by the camera and causes malfunctions of autonomous vehicles. To solve this, it is necessary to apply the haze removal function that can be processed in real time to the camera. Therefore, in this paper, the fog removal method of Sim with excellent performance is implemented with hardware capable of real-time processing. The proposed hardware was designed using Verilog HDL, and FPGA was implemented by setting Xilinx’s xc7z045-2ffg900 as the target device. As a result of logic synthesis using Xilinx Vivado program, it has a maximum operating frequency of 276.932MHz and a maximum processing speed of 31.279fps in a 4K (4096×2160) high-resolution environment, thus satisfying the real-time processing standard. Recently, image processing technology for autonomous driving by recognizing objects and lanes through camera images to realize autonomous vehicles is being studied. Haze reduces the visibility of images captured by the camera and causes malfunctions of autonomous vehicles. To solve this, it is necessary to apply the haze removal function that can be processed in real time to the camera. Therefore, in this paper, the fog removal method of Sim with excellent performance is implemented with hardware capable of real-time processing. The proposed hardware was designed using Verilog HDL, and FPGA was implemented by setting Xilinx’s xc7z045-2ffg900 as the target device. As a result of logic synthesis using Xilinx Vivado program, it has a maximum operating frequency of 276.932MHz and a maximum processing speed of 31.279fps in a 4K (4096×2160) high-resolution environment, thus satisfying the real-time processing standard.\n",
      "=========================================================================================================\n",
      "산업 자동화 시스템을 위한 AoI 기반 데이터 신선도 향상 가능성 분석\n",
      "최근 산업 자동화 시스템은 다양한 장비 및 산업용 프로토콜이 함께 사용되어 고수준의 공정자동화를 제공하고 있다. 다양한 프로토콜로 구성된 네트워크에서 실시간 상태 정보 업데이트를 수행할 때, 이종 프로토콜 간 데이터 송수신 시 각 프로토콜의 데이터 처리 속도를 고려하지 않으면 전송 지연이 발생할 수 있다. 이는 오래된 상태 정보를 바탕으로 모니터링 및 제어하는 문제를 야기한다. 그러므로 목적지 시스템이 신선한 정보를 수신하도록 적절한 주기로 상태 정보 업데이트하는 것이 중요하다. 본 논문에서는 이종 프로토콜인 EtherCAT과 OPC UA 통신 시 각 프로토콜의 데이터 처리 속도 차이에 의해서 발생하는 문제를 데이터의 신선도를 측정하는 지표인 AoI(Age of Information)를 이용하여 분석하고 적절한 업데이트 주기를 찾는 방법을 제안한다.\n",
      "\n",
      "Recently, industrial automation systems have been used with various equipment and industrial protocols to provide high-level process automation. When performing real-time status information update in a network composed of various protocols, transmission delay can occur if the data processing speed of each protocol is not considered when transmitting and receiving data between heterogeneous protocols. Transmission delay causes problems with monitoring and controlling based on the old state information. Therefore, it is important to update the status information at appropriate intervals so that the destination system receives fresh information. In this paper, we analyze the problem caused by the difference in the data processing speed of each protocol during heterogeneous EtherCAT and OPC UA protocol communication using AoI (Age of Information), a metric of data freshness, and then we propose a method to find an appropriate update cycle. Recently, industrial automation systems have been used with various equipment and industrial protocols to provide high-level process automation. When performing real-time status information update in a network composed of various protocols, transmission delay can occur if the data processing speed of each protocol is not considered when transmitting and receiving data between heterogeneous protocols. Transmission delay causes problems with monitoring and controlling based on the old state information. Therefore, it is important to update the status information at appropriate intervals so that the destination system receives fresh information. In this paper, we analyze the problem caused by the difference in the data processing speed of each protocol during heterogeneous EtherCAT and OPC UA protocol communication using AoI (Age of Information), a metric of data freshness, and then we propose a method to find an appropriate update cycle.\n",
      "=========================================================================================================\n",
      "====pass========pass========pass========pass========pass========pass========pass========pass========pass========pass====\n",
      "능동 위상배열 안테나 장치용 송수신모듈 자동화 측정 및 보정\n",
      "최근 들어 중요성 및 소요성이 증가되고 있는 능동 위상배열 안테나장치의 송수신모듈 자동화 측정 방안 및 위상/크기 보정 알고리즘에 관해 연구하였다. 송수신모듈은 송신부와 수신부로 구성되어 있으며 자동화 시험장비(ATE, Automated Test Equipment)를 통해 별도의 시험 구성 변경 없이 모든 시험이 가능하도록 스위치 매트릭스 및 계측기 간 통신을 이용하여 설계 및 제작되었다. 자동화 시험 진행 시 균일한 환경을 제공하기 위해 수냉식 냉각장치를 이용하였으며 ATE 운용을 위한 절차를 수립하여 시험 항목의 추가 및 삭제를 쉽도록 사용자 중심의 GUI(Graiphic User Interface)를 제작하였다. 자동화 측정 시간은 수동 측정과 비교하여 약 3.8배의 시간 단축을 확보하였으며 위상/크기 보정 알고리즘을 이용하여 위상 오차 ±6° 이내, 크기 오차 ±1dBp-p이내로 측정되는 것을 확인할 수 있다.\n",
      "\n",
      "This paper proposed an automatic measurement and phase/amplitude correction algorithm about TRM(Transmit Receive Module) of active phased array antenna system, which are in increasing demand recently. Transceiver module consists of a transmitter and a receiver, and is designed to enable all tests through automated test equipment without changing the test configuration using switch matrix and communication between instruments. In order to provide a uniform environment, a separate water-cooled cooling device was used during the automated test. Through the user-oriented GUI, the procedure for automated test equipment operation was established so that test items can be freely changed. Automated measurement time was reduced by about 3.4 times compared to manual measurement. Using the phase/magnitude correction algorithm, the phase error was measured within ±6° and the magnitude error within ±1dBp-p. This paper proposed an automatic measurement and phase/amplitude correction algorithm about TRM(Transmit Receive Module) of active phased array antenna system, which are in increasing demand recently. Transceiver module consists of a transmitter and a receiver, and is designed to enable all tests through automated test equipment without changing the test configuration using switch matrix and communication between instruments. In order to provide a uniform environment, a separate water-cooled cooling device was used during the automated test. Through the user-oriented GUI, the procedure for automated test equipment operation was established so that test items can be freely changed. Automated measurement time was reduced by about 3.4 times compared to manual measurement. Using the phase/magnitude correction algorithm, the phase error was measured within ±6° and the magnitude error within ±1dBp-p.\n",
      "=========================================================================================================\n",
      "규칙기반진단 자동화를 위한 Signal Recognition 기술개발\n",
      "Rule based diagnosis is a machine condition diagnostic technology, and the result obtain through its responses to attributes consists of expert knowledge and experience. Accordingly, unlike machine learning, data and general-purpose aspects have advantages as they do not require big data and learning. However, rule-based diagnosis requires the user to respond to attributes, resulting in individual errors or time costs. Hence, it needs to be performed automatically. This paper develops a signal recognition technique by analyzing the diagnostic parameters of the rule-based diagnostic attributes. The diagnostic parameter consists of two characteristics and is recognized using different techniques. It is based on signal recognition, confirming its diagnostic potential, Further, this study is expected to enhance the automation of this diagnosis.\n",
      "=========================================================================================================\n"
     ]
    },
    {
     "name": "stdout",
     "output_type": "stream",
     "text": [
      "FCT 검사 자동화 System의 구조해석 및 구조 안전성에 관한 연구\n",
      "The analysis conditions were established using the self-weight of the FCT automation equipment, and natural frequency analysis was performed under the same conditions. For the structural analysis, 3D modeling was performed using Inventor, and structural analysis was performed using the Ansys workbench. From the structural analysis, it was concluded that the resulting values of the stress and deformation of the equipment do not affect the equipment. From the dynamic analysis, the resonance does not occur in the equipment driving area, and thus it is judged to be stable.\n",
      "=========================================================================================================\n",
      "====pass========pass========pass========pass========pass========pass========pass========pass========pass========pass====\n",
      "====pass========pass========pass========pass========pass========pass========pass========pass========pass========pass====\n",
      "====pass========pass========pass========pass========pass========pass========pass========pass========pass========pass====\n"
     ]
    },
    {
     "ename": "MaxRetryError",
     "evalue": "HTTPConnectionPool(host='localhost', port=57210): Max retries exceeded with url: /session/763c59e62879d8d3ff9bb11b909b7d70/url (Caused by NewConnectionError('<urllib3.connection.HTTPConnection object at 0x7f8c75e443d0>: Failed to establish a new connection: [Errno 61] Connection refused'))",
     "output_type": "error",
     "traceback": [
      "\u001b[0;31m---------------------------------------------------------------------------\u001b[0m",
      "\u001b[0;31mConnectionRefusedError\u001b[0m                    Traceback (most recent call last)",
      "\u001b[0;32m~/opt/anaconda3/lib/python3.9/site-packages/urllib3/connection.py\u001b[0m in \u001b[0;36m_new_conn\u001b[0;34m(self)\u001b[0m\n\u001b[1;32m    173\u001b[0m         \u001b[0;32mtry\u001b[0m\u001b[0;34m:\u001b[0m\u001b[0;34m\u001b[0m\u001b[0;34m\u001b[0m\u001b[0m\n\u001b[0;32m--> 174\u001b[0;31m             conn = connection.create_connection(\n\u001b[0m\u001b[1;32m    175\u001b[0m                 \u001b[0;34m(\u001b[0m\u001b[0mself\u001b[0m\u001b[0;34m.\u001b[0m\u001b[0m_dns_host\u001b[0m\u001b[0;34m,\u001b[0m \u001b[0mself\u001b[0m\u001b[0;34m.\u001b[0m\u001b[0mport\u001b[0m\u001b[0;34m)\u001b[0m\u001b[0;34m,\u001b[0m \u001b[0mself\u001b[0m\u001b[0;34m.\u001b[0m\u001b[0mtimeout\u001b[0m\u001b[0;34m,\u001b[0m \u001b[0;34m**\u001b[0m\u001b[0mextra_kw\u001b[0m\u001b[0;34m\u001b[0m\u001b[0;34m\u001b[0m\u001b[0m\n",
      "\u001b[0;32m~/opt/anaconda3/lib/python3.9/site-packages/urllib3/util/connection.py\u001b[0m in \u001b[0;36mcreate_connection\u001b[0;34m(address, timeout, source_address, socket_options)\u001b[0m\n\u001b[1;32m     95\u001b[0m     \u001b[0;32mif\u001b[0m \u001b[0merr\u001b[0m \u001b[0;32mis\u001b[0m \u001b[0;32mnot\u001b[0m \u001b[0;32mNone\u001b[0m\u001b[0;34m:\u001b[0m\u001b[0;34m\u001b[0m\u001b[0;34m\u001b[0m\u001b[0m\n\u001b[0;32m---> 96\u001b[0;31m         \u001b[0;32mraise\u001b[0m \u001b[0merr\u001b[0m\u001b[0;34m\u001b[0m\u001b[0;34m\u001b[0m\u001b[0m\n\u001b[0m\u001b[1;32m     97\u001b[0m \u001b[0;34m\u001b[0m\u001b[0m\n",
      "\u001b[0;32m~/opt/anaconda3/lib/python3.9/site-packages/urllib3/util/connection.py\u001b[0m in \u001b[0;36mcreate_connection\u001b[0;34m(address, timeout, source_address, socket_options)\u001b[0m\n\u001b[1;32m     85\u001b[0m                 \u001b[0msock\u001b[0m\u001b[0;34m.\u001b[0m\u001b[0mbind\u001b[0m\u001b[0;34m(\u001b[0m\u001b[0msource_address\u001b[0m\u001b[0;34m)\u001b[0m\u001b[0;34m\u001b[0m\u001b[0;34m\u001b[0m\u001b[0m\n\u001b[0;32m---> 86\u001b[0;31m             \u001b[0msock\u001b[0m\u001b[0;34m.\u001b[0m\u001b[0mconnect\u001b[0m\u001b[0;34m(\u001b[0m\u001b[0msa\u001b[0m\u001b[0;34m)\u001b[0m\u001b[0;34m\u001b[0m\u001b[0;34m\u001b[0m\u001b[0m\n\u001b[0m\u001b[1;32m     87\u001b[0m             \u001b[0;32mreturn\u001b[0m \u001b[0msock\u001b[0m\u001b[0;34m\u001b[0m\u001b[0;34m\u001b[0m\u001b[0m\n",
      "\u001b[0;31mConnectionRefusedError\u001b[0m: [Errno 61] Connection refused",
      "\nDuring handling of the above exception, another exception occurred:\n",
      "\u001b[0;31mNewConnectionError\u001b[0m                        Traceback (most recent call last)",
      "\u001b[0;32m~/opt/anaconda3/lib/python3.9/site-packages/urllib3/connectionpool.py\u001b[0m in \u001b[0;36murlopen\u001b[0;34m(self, method, url, body, headers, retries, redirect, assert_same_host, timeout, pool_timeout, release_conn, chunked, body_pos, **response_kw)\u001b[0m\n\u001b[1;32m    698\u001b[0m             \u001b[0;31m# Make the request on the httplib connection object.\u001b[0m\u001b[0;34m\u001b[0m\u001b[0;34m\u001b[0m\u001b[0m\n\u001b[0;32m--> 699\u001b[0;31m             httplib_response = self._make_request(\n\u001b[0m\u001b[1;32m    700\u001b[0m                 \u001b[0mconn\u001b[0m\u001b[0;34m,\u001b[0m\u001b[0;34m\u001b[0m\u001b[0;34m\u001b[0m\u001b[0m\n",
      "\u001b[0;32m~/opt/anaconda3/lib/python3.9/site-packages/urllib3/connectionpool.py\u001b[0m in \u001b[0;36m_make_request\u001b[0;34m(self, conn, method, url, timeout, chunked, **httplib_request_kw)\u001b[0m\n\u001b[1;32m    393\u001b[0m             \u001b[0;32melse\u001b[0m\u001b[0;34m:\u001b[0m\u001b[0;34m\u001b[0m\u001b[0;34m\u001b[0m\u001b[0m\n\u001b[0;32m--> 394\u001b[0;31m                 \u001b[0mconn\u001b[0m\u001b[0;34m.\u001b[0m\u001b[0mrequest\u001b[0m\u001b[0;34m(\u001b[0m\u001b[0mmethod\u001b[0m\u001b[0;34m,\u001b[0m \u001b[0murl\u001b[0m\u001b[0;34m,\u001b[0m \u001b[0;34m**\u001b[0m\u001b[0mhttplib_request_kw\u001b[0m\u001b[0;34m)\u001b[0m\u001b[0;34m\u001b[0m\u001b[0;34m\u001b[0m\u001b[0m\n\u001b[0m\u001b[1;32m    395\u001b[0m \u001b[0;34m\u001b[0m\u001b[0m\n",
      "\u001b[0;32m~/opt/anaconda3/lib/python3.9/site-packages/urllib3/connection.py\u001b[0m in \u001b[0;36mrequest\u001b[0;34m(self, method, url, body, headers)\u001b[0m\n\u001b[1;32m    238\u001b[0m             \u001b[0mheaders\u001b[0m\u001b[0;34m[\u001b[0m\u001b[0;34m\"User-Agent\"\u001b[0m\u001b[0;34m]\u001b[0m \u001b[0;34m=\u001b[0m \u001b[0m_get_default_user_agent\u001b[0m\u001b[0;34m(\u001b[0m\u001b[0;34m)\u001b[0m\u001b[0;34m\u001b[0m\u001b[0;34m\u001b[0m\u001b[0m\n\u001b[0;32m--> 239\u001b[0;31m         \u001b[0msuper\u001b[0m\u001b[0;34m(\u001b[0m\u001b[0mHTTPConnection\u001b[0m\u001b[0;34m,\u001b[0m \u001b[0mself\u001b[0m\u001b[0;34m)\u001b[0m\u001b[0;34m.\u001b[0m\u001b[0mrequest\u001b[0m\u001b[0;34m(\u001b[0m\u001b[0mmethod\u001b[0m\u001b[0;34m,\u001b[0m \u001b[0murl\u001b[0m\u001b[0;34m,\u001b[0m \u001b[0mbody\u001b[0m\u001b[0;34m=\u001b[0m\u001b[0mbody\u001b[0m\u001b[0;34m,\u001b[0m \u001b[0mheaders\u001b[0m\u001b[0;34m=\u001b[0m\u001b[0mheaders\u001b[0m\u001b[0;34m)\u001b[0m\u001b[0;34m\u001b[0m\u001b[0;34m\u001b[0m\u001b[0m\n\u001b[0m\u001b[1;32m    240\u001b[0m \u001b[0;34m\u001b[0m\u001b[0m\n",
      "\u001b[0;32m~/opt/anaconda3/lib/python3.9/http/client.py\u001b[0m in \u001b[0;36mrequest\u001b[0;34m(self, method, url, body, headers, encode_chunked)\u001b[0m\n\u001b[1;32m   1278\u001b[0m         \u001b[0;34m\"\"\"Send a complete request to the server.\"\"\"\u001b[0m\u001b[0;34m\u001b[0m\u001b[0;34m\u001b[0m\u001b[0m\n\u001b[0;32m-> 1279\u001b[0;31m         \u001b[0mself\u001b[0m\u001b[0;34m.\u001b[0m\u001b[0m_send_request\u001b[0m\u001b[0;34m(\u001b[0m\u001b[0mmethod\u001b[0m\u001b[0;34m,\u001b[0m \u001b[0murl\u001b[0m\u001b[0;34m,\u001b[0m \u001b[0mbody\u001b[0m\u001b[0;34m,\u001b[0m \u001b[0mheaders\u001b[0m\u001b[0;34m,\u001b[0m \u001b[0mencode_chunked\u001b[0m\u001b[0;34m)\u001b[0m\u001b[0;34m\u001b[0m\u001b[0;34m\u001b[0m\u001b[0m\n\u001b[0m\u001b[1;32m   1280\u001b[0m \u001b[0;34m\u001b[0m\u001b[0m\n",
      "\u001b[0;32m~/opt/anaconda3/lib/python3.9/http/client.py\u001b[0m in \u001b[0;36m_send_request\u001b[0;34m(self, method, url, body, headers, encode_chunked)\u001b[0m\n\u001b[1;32m   1324\u001b[0m             \u001b[0mbody\u001b[0m \u001b[0;34m=\u001b[0m \u001b[0m_encode\u001b[0m\u001b[0;34m(\u001b[0m\u001b[0mbody\u001b[0m\u001b[0;34m,\u001b[0m \u001b[0;34m'body'\u001b[0m\u001b[0;34m)\u001b[0m\u001b[0;34m\u001b[0m\u001b[0;34m\u001b[0m\u001b[0m\n\u001b[0;32m-> 1325\u001b[0;31m         \u001b[0mself\u001b[0m\u001b[0;34m.\u001b[0m\u001b[0mendheaders\u001b[0m\u001b[0;34m(\u001b[0m\u001b[0mbody\u001b[0m\u001b[0;34m,\u001b[0m \u001b[0mencode_chunked\u001b[0m\u001b[0;34m=\u001b[0m\u001b[0mencode_chunked\u001b[0m\u001b[0;34m)\u001b[0m\u001b[0;34m\u001b[0m\u001b[0;34m\u001b[0m\u001b[0m\n\u001b[0m\u001b[1;32m   1326\u001b[0m \u001b[0;34m\u001b[0m\u001b[0m\n",
      "\u001b[0;32m~/opt/anaconda3/lib/python3.9/http/client.py\u001b[0m in \u001b[0;36mendheaders\u001b[0;34m(self, message_body, encode_chunked)\u001b[0m\n\u001b[1;32m   1273\u001b[0m             \u001b[0;32mraise\u001b[0m \u001b[0mCannotSendHeader\u001b[0m\u001b[0;34m(\u001b[0m\u001b[0;34m)\u001b[0m\u001b[0;34m\u001b[0m\u001b[0;34m\u001b[0m\u001b[0m\n\u001b[0;32m-> 1274\u001b[0;31m         \u001b[0mself\u001b[0m\u001b[0;34m.\u001b[0m\u001b[0m_send_output\u001b[0m\u001b[0;34m(\u001b[0m\u001b[0mmessage_body\u001b[0m\u001b[0;34m,\u001b[0m \u001b[0mencode_chunked\u001b[0m\u001b[0;34m=\u001b[0m\u001b[0mencode_chunked\u001b[0m\u001b[0;34m)\u001b[0m\u001b[0;34m\u001b[0m\u001b[0;34m\u001b[0m\u001b[0m\n\u001b[0m\u001b[1;32m   1275\u001b[0m \u001b[0;34m\u001b[0m\u001b[0m\n",
      "\u001b[0;32m~/opt/anaconda3/lib/python3.9/http/client.py\u001b[0m in \u001b[0;36m_send_output\u001b[0;34m(self, message_body, encode_chunked)\u001b[0m\n\u001b[1;32m   1033\u001b[0m         \u001b[0;32mdel\u001b[0m \u001b[0mself\u001b[0m\u001b[0;34m.\u001b[0m\u001b[0m_buffer\u001b[0m\u001b[0;34m[\u001b[0m\u001b[0;34m:\u001b[0m\u001b[0;34m]\u001b[0m\u001b[0;34m\u001b[0m\u001b[0;34m\u001b[0m\u001b[0m\n\u001b[0;32m-> 1034\u001b[0;31m         \u001b[0mself\u001b[0m\u001b[0;34m.\u001b[0m\u001b[0msend\u001b[0m\u001b[0;34m(\u001b[0m\u001b[0mmsg\u001b[0m\u001b[0;34m)\u001b[0m\u001b[0;34m\u001b[0m\u001b[0;34m\u001b[0m\u001b[0m\n\u001b[0m\u001b[1;32m   1035\u001b[0m \u001b[0;34m\u001b[0m\u001b[0m\n",
      "\u001b[0;32m~/opt/anaconda3/lib/python3.9/http/client.py\u001b[0m in \u001b[0;36msend\u001b[0;34m(self, data)\u001b[0m\n\u001b[1;32m    973\u001b[0m             \u001b[0;32mif\u001b[0m \u001b[0mself\u001b[0m\u001b[0;34m.\u001b[0m\u001b[0mauto_open\u001b[0m\u001b[0;34m:\u001b[0m\u001b[0;34m\u001b[0m\u001b[0;34m\u001b[0m\u001b[0m\n\u001b[0;32m--> 974\u001b[0;31m                 \u001b[0mself\u001b[0m\u001b[0;34m.\u001b[0m\u001b[0mconnect\u001b[0m\u001b[0;34m(\u001b[0m\u001b[0;34m)\u001b[0m\u001b[0;34m\u001b[0m\u001b[0;34m\u001b[0m\u001b[0m\n\u001b[0m\u001b[1;32m    975\u001b[0m             \u001b[0;32melse\u001b[0m\u001b[0;34m:\u001b[0m\u001b[0;34m\u001b[0m\u001b[0;34m\u001b[0m\u001b[0m\n",
      "\u001b[0;32m~/opt/anaconda3/lib/python3.9/site-packages/urllib3/connection.py\u001b[0m in \u001b[0;36mconnect\u001b[0;34m(self)\u001b[0m\n\u001b[1;32m    204\u001b[0m     \u001b[0;32mdef\u001b[0m \u001b[0mconnect\u001b[0m\u001b[0;34m(\u001b[0m\u001b[0mself\u001b[0m\u001b[0;34m)\u001b[0m\u001b[0;34m:\u001b[0m\u001b[0;34m\u001b[0m\u001b[0;34m\u001b[0m\u001b[0m\n\u001b[0;32m--> 205\u001b[0;31m         \u001b[0mconn\u001b[0m \u001b[0;34m=\u001b[0m \u001b[0mself\u001b[0m\u001b[0;34m.\u001b[0m\u001b[0m_new_conn\u001b[0m\u001b[0;34m(\u001b[0m\u001b[0;34m)\u001b[0m\u001b[0;34m\u001b[0m\u001b[0;34m\u001b[0m\u001b[0m\n\u001b[0m\u001b[1;32m    206\u001b[0m         \u001b[0mself\u001b[0m\u001b[0;34m.\u001b[0m\u001b[0m_prepare_conn\u001b[0m\u001b[0;34m(\u001b[0m\u001b[0mconn\u001b[0m\u001b[0;34m)\u001b[0m\u001b[0;34m\u001b[0m\u001b[0;34m\u001b[0m\u001b[0m\n",
      "\u001b[0;32m~/opt/anaconda3/lib/python3.9/site-packages/urllib3/connection.py\u001b[0m in \u001b[0;36m_new_conn\u001b[0;34m(self)\u001b[0m\n\u001b[1;32m    185\u001b[0m         \u001b[0;32mexcept\u001b[0m \u001b[0mSocketError\u001b[0m \u001b[0;32mas\u001b[0m \u001b[0me\u001b[0m\u001b[0;34m:\u001b[0m\u001b[0;34m\u001b[0m\u001b[0;34m\u001b[0m\u001b[0m\n\u001b[0;32m--> 186\u001b[0;31m             raise NewConnectionError(\n\u001b[0m\u001b[1;32m    187\u001b[0m                 \u001b[0mself\u001b[0m\u001b[0;34m,\u001b[0m \u001b[0;34m\"Failed to establish a new connection: %s\"\u001b[0m \u001b[0;34m%\u001b[0m \u001b[0me\u001b[0m\u001b[0;34m\u001b[0m\u001b[0;34m\u001b[0m\u001b[0m\n",
      "\u001b[0;31mNewConnectionError\u001b[0m: <urllib3.connection.HTTPConnection object at 0x7f8c75e443d0>: Failed to establish a new connection: [Errno 61] Connection refused",
      "\nDuring handling of the above exception, another exception occurred:\n",
      "\u001b[0;31mMaxRetryError\u001b[0m                             Traceback (most recent call last)",
      "\u001b[0;32m/var/folders/l0/rmt5_xrn6vb4901n4j9dj7n40000gn/T/ipykernel_37800/3627243898.py\u001b[0m in \u001b[0;36m<module>\u001b[0;34m\u001b[0m\n\u001b[1;32m     20\u001b[0m \u001b[0mcontent_list\u001b[0m \u001b[0;34m=\u001b[0m \u001b[0;34m[\u001b[0m\u001b[0;34m]\u001b[0m\u001b[0;34m\u001b[0m\u001b[0;34m\u001b[0m\u001b[0m\n\u001b[1;32m     21\u001b[0m \u001b[0;32mfor\u001b[0m \u001b[0mlink\u001b[0m \u001b[0;32min\u001b[0m \u001b[0mlink_list\u001b[0m\u001b[0;34m:\u001b[0m\u001b[0;34m\u001b[0m\u001b[0;34m\u001b[0m\u001b[0m\n\u001b[0;32m---> 22\u001b[0;31m     \u001b[0mbrowser\u001b[0m\u001b[0;34m.\u001b[0m\u001b[0mget\u001b[0m\u001b[0;34m(\u001b[0m\u001b[0mlink\u001b[0m\u001b[0;34m)\u001b[0m\u001b[0;34m\u001b[0m\u001b[0;34m\u001b[0m\u001b[0m\n\u001b[0m\u001b[1;32m     23\u001b[0m     \u001b[0mtime\u001b[0m\u001b[0;34m.\u001b[0m\u001b[0msleep\u001b[0m\u001b[0;34m(\u001b[0m\u001b[0;36m3\u001b[0m\u001b[0;34m)\u001b[0m\u001b[0;34m\u001b[0m\u001b[0;34m\u001b[0m\u001b[0m\n\u001b[1;32m     24\u001b[0m     \u001b[0;32mtry\u001b[0m\u001b[0;34m:\u001b[0m\u001b[0;34m\u001b[0m\u001b[0;34m\u001b[0m\u001b[0m\n",
      "\u001b[0;32m~/opt/anaconda3/lib/python3.9/site-packages/selenium/webdriver/remote/webdriver.py\u001b[0m in \u001b[0;36mget\u001b[0;34m(self, url)\u001b[0m\n\u001b[1;32m    438\u001b[0m         \u001b[0mLoads\u001b[0m \u001b[0ma\u001b[0m \u001b[0mweb\u001b[0m \u001b[0mpage\u001b[0m \u001b[0;32min\u001b[0m \u001b[0mthe\u001b[0m \u001b[0mcurrent\u001b[0m \u001b[0mbrowser\u001b[0m \u001b[0msession\u001b[0m\u001b[0;34m.\u001b[0m\u001b[0;34m\u001b[0m\u001b[0;34m\u001b[0m\u001b[0m\n\u001b[1;32m    439\u001b[0m         \"\"\"\n\u001b[0;32m--> 440\u001b[0;31m         \u001b[0mself\u001b[0m\u001b[0;34m.\u001b[0m\u001b[0mexecute\u001b[0m\u001b[0;34m(\u001b[0m\u001b[0mCommand\u001b[0m\u001b[0;34m.\u001b[0m\u001b[0mGET\u001b[0m\u001b[0;34m,\u001b[0m \u001b[0;34m{\u001b[0m\u001b[0;34m'url'\u001b[0m\u001b[0;34m:\u001b[0m \u001b[0murl\u001b[0m\u001b[0;34m}\u001b[0m\u001b[0;34m)\u001b[0m\u001b[0;34m\u001b[0m\u001b[0;34m\u001b[0m\u001b[0m\n\u001b[0m\u001b[1;32m    441\u001b[0m \u001b[0;34m\u001b[0m\u001b[0m\n\u001b[1;32m    442\u001b[0m     \u001b[0;34m@\u001b[0m\u001b[0mproperty\u001b[0m\u001b[0;34m\u001b[0m\u001b[0;34m\u001b[0m\u001b[0m\n",
      "\u001b[0;32m~/opt/anaconda3/lib/python3.9/site-packages/selenium/webdriver/remote/webdriver.py\u001b[0m in \u001b[0;36mexecute\u001b[0;34m(self, driver_command, params)\u001b[0m\n\u001b[1;32m    424\u001b[0m \u001b[0;34m\u001b[0m\u001b[0m\n\u001b[1;32m    425\u001b[0m         \u001b[0mparams\u001b[0m \u001b[0;34m=\u001b[0m \u001b[0mself\u001b[0m\u001b[0;34m.\u001b[0m\u001b[0m_wrap_value\u001b[0m\u001b[0;34m(\u001b[0m\u001b[0mparams\u001b[0m\u001b[0;34m)\u001b[0m\u001b[0;34m\u001b[0m\u001b[0;34m\u001b[0m\u001b[0m\n\u001b[0;32m--> 426\u001b[0;31m         \u001b[0mresponse\u001b[0m \u001b[0;34m=\u001b[0m \u001b[0mself\u001b[0m\u001b[0;34m.\u001b[0m\u001b[0mcommand_executor\u001b[0m\u001b[0;34m.\u001b[0m\u001b[0mexecute\u001b[0m\u001b[0;34m(\u001b[0m\u001b[0mdriver_command\u001b[0m\u001b[0;34m,\u001b[0m \u001b[0mparams\u001b[0m\u001b[0;34m)\u001b[0m\u001b[0;34m\u001b[0m\u001b[0;34m\u001b[0m\u001b[0m\n\u001b[0m\u001b[1;32m    427\u001b[0m         \u001b[0;32mif\u001b[0m \u001b[0mresponse\u001b[0m\u001b[0;34m:\u001b[0m\u001b[0;34m\u001b[0m\u001b[0;34m\u001b[0m\u001b[0m\n\u001b[1;32m    428\u001b[0m             \u001b[0mself\u001b[0m\u001b[0;34m.\u001b[0m\u001b[0merror_handler\u001b[0m\u001b[0;34m.\u001b[0m\u001b[0mcheck_response\u001b[0m\u001b[0;34m(\u001b[0m\u001b[0mresponse\u001b[0m\u001b[0;34m)\u001b[0m\u001b[0;34m\u001b[0m\u001b[0;34m\u001b[0m\u001b[0m\n",
      "\u001b[0;32m~/opt/anaconda3/lib/python3.9/site-packages/selenium/webdriver/remote/remote_connection.py\u001b[0m in \u001b[0;36mexecute\u001b[0;34m(self, command, params)\u001b[0m\n\u001b[1;32m    342\u001b[0m         \u001b[0mdata\u001b[0m \u001b[0;34m=\u001b[0m \u001b[0mutils\u001b[0m\u001b[0;34m.\u001b[0m\u001b[0mdump_json\u001b[0m\u001b[0;34m(\u001b[0m\u001b[0mparams\u001b[0m\u001b[0;34m)\u001b[0m\u001b[0;34m\u001b[0m\u001b[0;34m\u001b[0m\u001b[0m\n\u001b[1;32m    343\u001b[0m         \u001b[0murl\u001b[0m \u001b[0;34m=\u001b[0m \u001b[0;34mf\"{self._url}{path}\"\u001b[0m\u001b[0;34m\u001b[0m\u001b[0;34m\u001b[0m\u001b[0m\n\u001b[0;32m--> 344\u001b[0;31m         \u001b[0;32mreturn\u001b[0m \u001b[0mself\u001b[0m\u001b[0;34m.\u001b[0m\u001b[0m_request\u001b[0m\u001b[0;34m(\u001b[0m\u001b[0mcommand_info\u001b[0m\u001b[0;34m[\u001b[0m\u001b[0;36m0\u001b[0m\u001b[0;34m]\u001b[0m\u001b[0;34m,\u001b[0m \u001b[0murl\u001b[0m\u001b[0;34m,\u001b[0m \u001b[0mbody\u001b[0m\u001b[0;34m=\u001b[0m\u001b[0mdata\u001b[0m\u001b[0;34m)\u001b[0m\u001b[0;34m\u001b[0m\u001b[0;34m\u001b[0m\u001b[0m\n\u001b[0m\u001b[1;32m    345\u001b[0m \u001b[0;34m\u001b[0m\u001b[0m\n\u001b[1;32m    346\u001b[0m     \u001b[0;32mdef\u001b[0m \u001b[0m_request\u001b[0m\u001b[0;34m(\u001b[0m\u001b[0mself\u001b[0m\u001b[0;34m,\u001b[0m \u001b[0mmethod\u001b[0m\u001b[0;34m,\u001b[0m \u001b[0murl\u001b[0m\u001b[0;34m,\u001b[0m \u001b[0mbody\u001b[0m\u001b[0;34m=\u001b[0m\u001b[0;32mNone\u001b[0m\u001b[0;34m)\u001b[0m\u001b[0;34m:\u001b[0m\u001b[0;34m\u001b[0m\u001b[0;34m\u001b[0m\u001b[0m\n",
      "\u001b[0;32m~/opt/anaconda3/lib/python3.9/site-packages/selenium/webdriver/remote/remote_connection.py\u001b[0m in \u001b[0;36m_request\u001b[0;34m(self, method, url, body)\u001b[0m\n\u001b[1;32m    364\u001b[0m \u001b[0;34m\u001b[0m\u001b[0m\n\u001b[1;32m    365\u001b[0m         \u001b[0;32mif\u001b[0m \u001b[0mself\u001b[0m\u001b[0;34m.\u001b[0m\u001b[0mkeep_alive\u001b[0m\u001b[0;34m:\u001b[0m\u001b[0;34m\u001b[0m\u001b[0;34m\u001b[0m\u001b[0m\n\u001b[0;32m--> 366\u001b[0;31m             \u001b[0mresponse\u001b[0m \u001b[0;34m=\u001b[0m \u001b[0mself\u001b[0m\u001b[0;34m.\u001b[0m\u001b[0m_conn\u001b[0m\u001b[0;34m.\u001b[0m\u001b[0mrequest\u001b[0m\u001b[0;34m(\u001b[0m\u001b[0mmethod\u001b[0m\u001b[0;34m,\u001b[0m \u001b[0murl\u001b[0m\u001b[0;34m,\u001b[0m \u001b[0mbody\u001b[0m\u001b[0;34m=\u001b[0m\u001b[0mbody\u001b[0m\u001b[0;34m,\u001b[0m \u001b[0mheaders\u001b[0m\u001b[0;34m=\u001b[0m\u001b[0mheaders\u001b[0m\u001b[0;34m)\u001b[0m\u001b[0;34m\u001b[0m\u001b[0;34m\u001b[0m\u001b[0m\n\u001b[0m\u001b[1;32m    367\u001b[0m             \u001b[0mstatuscode\u001b[0m \u001b[0;34m=\u001b[0m \u001b[0mresponse\u001b[0m\u001b[0;34m.\u001b[0m\u001b[0mstatus\u001b[0m\u001b[0;34m\u001b[0m\u001b[0;34m\u001b[0m\u001b[0m\n\u001b[1;32m    368\u001b[0m         \u001b[0;32melse\u001b[0m\u001b[0;34m:\u001b[0m\u001b[0;34m\u001b[0m\u001b[0;34m\u001b[0m\u001b[0m\n",
      "\u001b[0;32m~/opt/anaconda3/lib/python3.9/site-packages/urllib3/request.py\u001b[0m in \u001b[0;36mrequest\u001b[0;34m(self, method, url, fields, headers, **urlopen_kw)\u001b[0m\n\u001b[1;32m     76\u001b[0m             )\n\u001b[1;32m     77\u001b[0m         \u001b[0;32melse\u001b[0m\u001b[0;34m:\u001b[0m\u001b[0;34m\u001b[0m\u001b[0;34m\u001b[0m\u001b[0m\n\u001b[0;32m---> 78\u001b[0;31m             return self.request_encode_body(\n\u001b[0m\u001b[1;32m     79\u001b[0m                 \u001b[0mmethod\u001b[0m\u001b[0;34m,\u001b[0m \u001b[0murl\u001b[0m\u001b[0;34m,\u001b[0m \u001b[0mfields\u001b[0m\u001b[0;34m=\u001b[0m\u001b[0mfields\u001b[0m\u001b[0;34m,\u001b[0m \u001b[0mheaders\u001b[0m\u001b[0;34m=\u001b[0m\u001b[0mheaders\u001b[0m\u001b[0;34m,\u001b[0m \u001b[0;34m**\u001b[0m\u001b[0murlopen_kw\u001b[0m\u001b[0;34m\u001b[0m\u001b[0;34m\u001b[0m\u001b[0m\n\u001b[1;32m     80\u001b[0m             )\n",
      "\u001b[0;32m~/opt/anaconda3/lib/python3.9/site-packages/urllib3/request.py\u001b[0m in \u001b[0;36mrequest_encode_body\u001b[0;34m(self, method, url, fields, headers, encode_multipart, multipart_boundary, **urlopen_kw)\u001b[0m\n\u001b[1;32m    168\u001b[0m         \u001b[0mextra_kw\u001b[0m\u001b[0;34m.\u001b[0m\u001b[0mupdate\u001b[0m\u001b[0;34m(\u001b[0m\u001b[0murlopen_kw\u001b[0m\u001b[0;34m)\u001b[0m\u001b[0;34m\u001b[0m\u001b[0;34m\u001b[0m\u001b[0m\n\u001b[1;32m    169\u001b[0m \u001b[0;34m\u001b[0m\u001b[0m\n\u001b[0;32m--> 170\u001b[0;31m         \u001b[0;32mreturn\u001b[0m \u001b[0mself\u001b[0m\u001b[0;34m.\u001b[0m\u001b[0murlopen\u001b[0m\u001b[0;34m(\u001b[0m\u001b[0mmethod\u001b[0m\u001b[0;34m,\u001b[0m \u001b[0murl\u001b[0m\u001b[0;34m,\u001b[0m \u001b[0;34m**\u001b[0m\u001b[0mextra_kw\u001b[0m\u001b[0;34m)\u001b[0m\u001b[0;34m\u001b[0m\u001b[0;34m\u001b[0m\u001b[0m\n\u001b[0m",
      "\u001b[0;32m~/opt/anaconda3/lib/python3.9/site-packages/urllib3/poolmanager.py\u001b[0m in \u001b[0;36murlopen\u001b[0;34m(self, method, url, redirect, **kw)\u001b[0m\n\u001b[1;32m    373\u001b[0m             \u001b[0mresponse\u001b[0m \u001b[0;34m=\u001b[0m \u001b[0mconn\u001b[0m\u001b[0;34m.\u001b[0m\u001b[0murlopen\u001b[0m\u001b[0;34m(\u001b[0m\u001b[0mmethod\u001b[0m\u001b[0;34m,\u001b[0m \u001b[0murl\u001b[0m\u001b[0;34m,\u001b[0m \u001b[0;34m**\u001b[0m\u001b[0mkw\u001b[0m\u001b[0;34m)\u001b[0m\u001b[0;34m\u001b[0m\u001b[0;34m\u001b[0m\u001b[0m\n\u001b[1;32m    374\u001b[0m         \u001b[0;32melse\u001b[0m\u001b[0;34m:\u001b[0m\u001b[0;34m\u001b[0m\u001b[0;34m\u001b[0m\u001b[0m\n\u001b[0;32m--> 375\u001b[0;31m             \u001b[0mresponse\u001b[0m \u001b[0;34m=\u001b[0m \u001b[0mconn\u001b[0m\u001b[0;34m.\u001b[0m\u001b[0murlopen\u001b[0m\u001b[0;34m(\u001b[0m\u001b[0mmethod\u001b[0m\u001b[0;34m,\u001b[0m \u001b[0mu\u001b[0m\u001b[0;34m.\u001b[0m\u001b[0mrequest_uri\u001b[0m\u001b[0;34m,\u001b[0m \u001b[0;34m**\u001b[0m\u001b[0mkw\u001b[0m\u001b[0;34m)\u001b[0m\u001b[0;34m\u001b[0m\u001b[0;34m\u001b[0m\u001b[0m\n\u001b[0m\u001b[1;32m    376\u001b[0m \u001b[0;34m\u001b[0m\u001b[0m\n\u001b[1;32m    377\u001b[0m         \u001b[0mredirect_location\u001b[0m \u001b[0;34m=\u001b[0m \u001b[0mredirect\u001b[0m \u001b[0;32mand\u001b[0m \u001b[0mresponse\u001b[0m\u001b[0;34m.\u001b[0m\u001b[0mget_redirect_location\u001b[0m\u001b[0;34m(\u001b[0m\u001b[0;34m)\u001b[0m\u001b[0;34m\u001b[0m\u001b[0;34m\u001b[0m\u001b[0m\n",
      "\u001b[0;32m~/opt/anaconda3/lib/python3.9/site-packages/urllib3/connectionpool.py\u001b[0m in \u001b[0;36murlopen\u001b[0;34m(self, method, url, body, headers, retries, redirect, assert_same_host, timeout, pool_timeout, release_conn, chunked, body_pos, **response_kw)\u001b[0m\n\u001b[1;32m    781\u001b[0m                 \u001b[0;34m\"Retrying (%r) after connection broken by '%r': %s\"\u001b[0m\u001b[0;34m,\u001b[0m \u001b[0mretries\u001b[0m\u001b[0;34m,\u001b[0m \u001b[0merr\u001b[0m\u001b[0;34m,\u001b[0m \u001b[0murl\u001b[0m\u001b[0;34m\u001b[0m\u001b[0;34m\u001b[0m\u001b[0m\n\u001b[1;32m    782\u001b[0m             )\n\u001b[0;32m--> 783\u001b[0;31m             return self.urlopen(\n\u001b[0m\u001b[1;32m    784\u001b[0m                 \u001b[0mmethod\u001b[0m\u001b[0;34m,\u001b[0m\u001b[0;34m\u001b[0m\u001b[0;34m\u001b[0m\u001b[0m\n\u001b[1;32m    785\u001b[0m                 \u001b[0murl\u001b[0m\u001b[0;34m,\u001b[0m\u001b[0;34m\u001b[0m\u001b[0;34m\u001b[0m\u001b[0m\n",
      "\u001b[0;32m~/opt/anaconda3/lib/python3.9/site-packages/urllib3/connectionpool.py\u001b[0m in \u001b[0;36murlopen\u001b[0;34m(self, method, url, body, headers, retries, redirect, assert_same_host, timeout, pool_timeout, release_conn, chunked, body_pos, **response_kw)\u001b[0m\n\u001b[1;32m    781\u001b[0m                 \u001b[0;34m\"Retrying (%r) after connection broken by '%r': %s\"\u001b[0m\u001b[0;34m,\u001b[0m \u001b[0mretries\u001b[0m\u001b[0;34m,\u001b[0m \u001b[0merr\u001b[0m\u001b[0;34m,\u001b[0m \u001b[0murl\u001b[0m\u001b[0;34m\u001b[0m\u001b[0;34m\u001b[0m\u001b[0m\n\u001b[1;32m    782\u001b[0m             )\n\u001b[0;32m--> 783\u001b[0;31m             return self.urlopen(\n\u001b[0m\u001b[1;32m    784\u001b[0m                 \u001b[0mmethod\u001b[0m\u001b[0;34m,\u001b[0m\u001b[0;34m\u001b[0m\u001b[0;34m\u001b[0m\u001b[0m\n\u001b[1;32m    785\u001b[0m                 \u001b[0murl\u001b[0m\u001b[0;34m,\u001b[0m\u001b[0;34m\u001b[0m\u001b[0;34m\u001b[0m\u001b[0m\n",
      "\u001b[0;32m~/opt/anaconda3/lib/python3.9/site-packages/urllib3/connectionpool.py\u001b[0m in \u001b[0;36murlopen\u001b[0;34m(self, method, url, body, headers, retries, redirect, assert_same_host, timeout, pool_timeout, release_conn, chunked, body_pos, **response_kw)\u001b[0m\n\u001b[1;32m    781\u001b[0m                 \u001b[0;34m\"Retrying (%r) after connection broken by '%r': %s\"\u001b[0m\u001b[0;34m,\u001b[0m \u001b[0mretries\u001b[0m\u001b[0;34m,\u001b[0m \u001b[0merr\u001b[0m\u001b[0;34m,\u001b[0m \u001b[0murl\u001b[0m\u001b[0;34m\u001b[0m\u001b[0;34m\u001b[0m\u001b[0m\n\u001b[1;32m    782\u001b[0m             )\n\u001b[0;32m--> 783\u001b[0;31m             return self.urlopen(\n\u001b[0m\u001b[1;32m    784\u001b[0m                 \u001b[0mmethod\u001b[0m\u001b[0;34m,\u001b[0m\u001b[0;34m\u001b[0m\u001b[0;34m\u001b[0m\u001b[0m\n\u001b[1;32m    785\u001b[0m                 \u001b[0murl\u001b[0m\u001b[0;34m,\u001b[0m\u001b[0;34m\u001b[0m\u001b[0;34m\u001b[0m\u001b[0m\n",
      "\u001b[0;32m~/opt/anaconda3/lib/python3.9/site-packages/urllib3/connectionpool.py\u001b[0m in \u001b[0;36murlopen\u001b[0;34m(self, method, url, body, headers, retries, redirect, assert_same_host, timeout, pool_timeout, release_conn, chunked, body_pos, **response_kw)\u001b[0m\n\u001b[1;32m    753\u001b[0m                 \u001b[0me\u001b[0m \u001b[0;34m=\u001b[0m \u001b[0mProtocolError\u001b[0m\u001b[0;34m(\u001b[0m\u001b[0;34m\"Connection aborted.\"\u001b[0m\u001b[0;34m,\u001b[0m \u001b[0me\u001b[0m\u001b[0;34m)\u001b[0m\u001b[0;34m\u001b[0m\u001b[0;34m\u001b[0m\u001b[0m\n\u001b[1;32m    754\u001b[0m \u001b[0;34m\u001b[0m\u001b[0m\n\u001b[0;32m--> 755\u001b[0;31m             retries = retries.increment(\n\u001b[0m\u001b[1;32m    756\u001b[0m                 \u001b[0mmethod\u001b[0m\u001b[0;34m,\u001b[0m \u001b[0murl\u001b[0m\u001b[0;34m,\u001b[0m \u001b[0merror\u001b[0m\u001b[0;34m=\u001b[0m\u001b[0me\u001b[0m\u001b[0;34m,\u001b[0m \u001b[0m_pool\u001b[0m\u001b[0;34m=\u001b[0m\u001b[0mself\u001b[0m\u001b[0;34m,\u001b[0m \u001b[0m_stacktrace\u001b[0m\u001b[0;34m=\u001b[0m\u001b[0msys\u001b[0m\u001b[0;34m.\u001b[0m\u001b[0mexc_info\u001b[0m\u001b[0;34m(\u001b[0m\u001b[0;34m)\u001b[0m\u001b[0;34m[\u001b[0m\u001b[0;36m2\u001b[0m\u001b[0;34m]\u001b[0m\u001b[0;34m\u001b[0m\u001b[0;34m\u001b[0m\u001b[0m\n\u001b[1;32m    757\u001b[0m             )\n",
      "\u001b[0;32m~/opt/anaconda3/lib/python3.9/site-packages/urllib3/util/retry.py\u001b[0m in \u001b[0;36mincrement\u001b[0;34m(self, method, url, response, error, _pool, _stacktrace)\u001b[0m\n\u001b[1;32m    572\u001b[0m \u001b[0;34m\u001b[0m\u001b[0m\n\u001b[1;32m    573\u001b[0m         \u001b[0;32mif\u001b[0m \u001b[0mnew_retry\u001b[0m\u001b[0;34m.\u001b[0m\u001b[0mis_exhausted\u001b[0m\u001b[0;34m(\u001b[0m\u001b[0;34m)\u001b[0m\u001b[0;34m:\u001b[0m\u001b[0;34m\u001b[0m\u001b[0;34m\u001b[0m\u001b[0m\n\u001b[0;32m--> 574\u001b[0;31m             \u001b[0;32mraise\u001b[0m \u001b[0mMaxRetryError\u001b[0m\u001b[0;34m(\u001b[0m\u001b[0m_pool\u001b[0m\u001b[0;34m,\u001b[0m \u001b[0murl\u001b[0m\u001b[0;34m,\u001b[0m \u001b[0merror\u001b[0m \u001b[0;32mor\u001b[0m \u001b[0mResponseError\u001b[0m\u001b[0;34m(\u001b[0m\u001b[0mcause\u001b[0m\u001b[0;34m)\u001b[0m\u001b[0;34m)\u001b[0m\u001b[0;34m\u001b[0m\u001b[0;34m\u001b[0m\u001b[0m\n\u001b[0m\u001b[1;32m    575\u001b[0m \u001b[0;34m\u001b[0m\u001b[0m\n\u001b[1;32m    576\u001b[0m         \u001b[0mlog\u001b[0m\u001b[0;34m.\u001b[0m\u001b[0mdebug\u001b[0m\u001b[0;34m(\u001b[0m\u001b[0;34m\"Incremented Retry for (url='%s'): %r\"\u001b[0m\u001b[0;34m,\u001b[0m \u001b[0murl\u001b[0m\u001b[0;34m,\u001b[0m \u001b[0mnew_retry\u001b[0m\u001b[0;34m)\u001b[0m\u001b[0;34m\u001b[0m\u001b[0;34m\u001b[0m\u001b[0m\n",
      "\u001b[0;31mMaxRetryError\u001b[0m: HTTPConnectionPool(host='localhost', port=57210): Max retries exceeded with url: /session/763c59e62879d8d3ff9bb11b909b7d70/url (Caused by NewConnectionError('<urllib3.connection.HTTPConnection object at 0x7f8c75e443d0>: Failed to establish a new connection: [Errno 61] Connection refused'))"
     ]
    }
   ],
   "source": [
    "search_word = input(\"검색하시고자 하는 논문 제목을 입력하세요.\")\n",
    "\n",
    "url = 'https://www.dbpia.co.kr/search/topSearch?startCount=0&collection=ALL&range=A&searchField=ALL&sort=RANK&query={}&srchOption=*&includeAr=false' \n",
    "final_url = url.format(search_word)\n",
    "browser.get(final_url)\n",
    "print(final_url)\n",
    "browser.implicitly_wait(5)\n",
    "\n",
    "pages = browser.find_elements(By.CLASS_NAME, 'dpPaging__link')\n",
    "\n",
    "\n",
    "link_list = []\n",
    "\n",
    "links = browser.find_elements(By.CLASS_NAME, 'thesis__link')\n",
    "\n",
    "for i in links:\n",
    "    link_list.append(i.get_attribute('href'))\n",
    "        \n",
    "title_list= []\n",
    "content_list = []\n",
    "for link in link_list:\n",
    "    browser.get(link)\n",
    "    time.sleep(3)\n",
    "    try:\n",
    "        content = browser.find_element(By.CLASS_NAME, 'abstractTxt').text\n",
    "        title = browser.find_element(By.CLASS_NAME, 'thesisDetail__tit').text\n",
    "        print(title)\n",
    "        print(content)\n",
    "        print(\"===\"*35)\n",
    "        content_list.append(content)\n",
    "        title_list.append(title)\n",
    "    except:\n",
    "        print(\"====pass====\"*10)\n",
    "        content_list.append(\"empty\")\n",
    "    \n",
    "print(content_list)\n",
    "\n",
    "        \n",
    "    "
   ]
  },
  {
   "cell_type": "code",
   "execution_count": 35,
   "id": "94ab076b",
   "metadata": {
    "scrolled": true
   },
   "outputs": [
    {
     "data": {
      "text/plain": [
       "['empty',\n",
       " '현재 선도국가연구망 그룹에서 SDN/NFV 기반의 네트워크 자동화·지능화 기술을 사용자에게 서비스 형태로 제공하기 위한 요구가 지속적으로 발생함에 따라 관련 연구개발이 추진되고 있다. 또한, 선도국가연구망에서는 일반 네트워크 환경보다 대용량 데이터 전송을 고성능으로 제공해야 한다는 요구사항이 점차 더 커지고 있는 실정이다. 이에 따라, 본 논문에서는 이러한 국가연구망의 네트워킹 요구사항들에 대응하기 위하여 연구 개발한 대용량 데이터 전송을 위한 오픈 API 기반 가상 네트워크 프로비저닝 자동화 플랫폼을 제안하고 이의 구현 결과를 제시한다. 해당 플랫폼에는 SDN 기반의 네트워크 가상화 기술을 제공하는 KREONET-S의 VDN 시스템, 컨테이너 중심의 서버 가상화 기술을 제공하는 Kubernetes 시스템, 그리고 고성능 데이터 전송 시스템인 Globus Online이 포함되어 있다. 본 논문에서는 이러한 상이한 시스템 간의 연계를 위한 환경 설정 및 시스템 연동 결과, 가상 네트워크 프로비저닝 자동화 구현 결과 및 성능에 대하여 보인다.\\n\\nCurrently, advanced national research network groups are continuously conducting R&D for the requirement to provide SDN/NFV-based network automation and intelligence technology for R&E users. In addition, the requirement for providing large-scale data transmission with the high performance networking facility, compared to general network environments, is gradually increasing in the advanced national research networks. Accordingly, in this paper, we propose an open API-based virtual network provisioning automation platform for large data transmission researched and developed to respond to the networking requirements of the national research network and present the implementation results. The platform includes the KREONET-S VDN system that provides SDN-based network virtualization technology, and the Kubernetes system that provides container-oriented server virtualization technology, and the Globus Online, a high-performance data transmission system. In this paper, the environment configurations, the system implemetation results for the interworking between the heterogeneous systems, and the automated virtual network provisioning implementation results are presented. Currently, advanced national research network groups are continuously conducting R&D for the requirement to provide SDN/NFV-based network automation and intelligence technology for R&E users. In addition, the requirement for providing large-scale data transmission with the high performance networking facility, compared to general network environments, is gradually increasing in the advanced national research networks. Accordingly, in this paper, we propose an open API-based virtual network provisioning automation platform for large data transmission researched and developed to respond to the networking requirements of the national research network and present the implementation results. The platform includes the KREONET-S VDN system that provides SDN-based network virtualization technology, and the Kubernetes system that provides container-oriented server virtualization technology, and the Globus Online, a high-performance data transmission system. In this paper, the environment configurations, the system implemetation results for the interworking between the heterogeneous systems, and the automated virtual network provisioning implementation results are presented.',\n",
       " '본 연구에서는 철도시설물의 무인자동화 점검을 위해 선로에서 발생하는 강한 바람에 견딜 수 있는 헥사콥터형식의 드론을 개발하였다. 본 드론은 총 중량은 약 16㎏이고, 최대 비행속도는 10.7㎧이다. 또한, 3차원 자율항법을 기반으로 하여 여러대의 드론이 연속적으로 철도시설물을 점검할 수 있고, 교량하부와 같은 GPS 음영구역에서도 운용이 가능하도록 개발되었다. 또한, 철도차량 운행중 발생할 수 있는 드론의 사고를 예방하기 위해 철도운영환경하에서 드론에 대한 내풍성 성능을 평가하였다. 내풍성 평가는 철도차량 운행중 발생하는 상승풍, 상승풍 돌풍, 측풍 및 측풍 돌풍에 대해서 수행하였다. 시험결과 상승풍에서의 최대변위는 풍속 8㎧에서 z방향으로 약 39㎝ 였고, 측풍에서의 최대 변위는 풍속 8㎧에서 x방향 및 z방향으로 각각 43㎝와 45㎝ 였다. 본 시험을 통해 개발된 드론은 본 연구의 성능요구조건인 풍속 8㎧하에서 최대변위 50㎝ 조건을 만족함을 확인할 수 있었다.\\n\\nIn this study, a hexacopter-type drone that can withstand strong winds generated from railway trains was developed for unmanned automated inspection of railway facilities. This drone has a total weight of about 16 ㎏ and a maximum flight speed of 10.7 ㎧. In addition, based on 3D autonomous navigation, several drones can continuously inspect railway facilities and have been developed to operate in GPS shadow areas such as under bridges. In addition, to prevent drone accidents that may occur during operation of railroad vehicles, the wind resistance performance of the drones under railroad operating environment was evaluated. Wind resistance evaluation was performed for conditions of upwinds, upwind gusts, crosswinds and crosswind gusts generated during the operation of railroad vehicles. As a result of the test, the maximum displacement for an upward wind was found to be about 39 ㎝ in the z direction at a wind speed of 8 ㎧, the maximum displacement in a crosswind was 43 ㎝ and 45 ㎝ in the x and z directions, respectively, at a wind speed of 8 ㎧. It was confirmed that the drone developed through this test satisfies the condition of maximum displacement of 50 ㎝ under wind speed of 8 ㎧, which were the performance requirements of this study. In this study, a hexacopter-type drone that can withstand strong winds generated from railway trains was developed for unmanned automated inspection of railway facilities. This drone has a total weight of about 16 ㎏ and a maximum flight speed of 10.7 ㎧. In addition, based on 3D autonomous navigation, several drones can continuously inspect railway facilities and have been developed to operate in GPS shadow areas such as under bridges. In addition, to prevent drone accidents that may occur during operation of railroad vehicles, the wind resistance performance of the drones under railroad operating environment was evaluated. Wind resistance evaluation was performed for conditions of upwinds, upwind gusts, crosswinds and crosswind gusts generated during the operation of railroad vehicles. As a result of the test, the maximum displacement for an upward wind was found to be about 39 ㎝ in the z direction at a wind speed of 8 ㎧, the maximum displacement in a crosswind was 43 ㎝ and 45 ㎝ in the x and z directions, respectively, at a wind speed of 8 ㎧. It was confirmed that the drone developed through this test satisfies the condition of maximum displacement of 50 ㎝ under wind speed of 8 ㎧, which were the performance requirements of this study.',\n",
       " 'empty',\n",
       " 'With the recent development of computer vision technology, image processing-based mechanical devices are being developed to realize autonomous driving. The camera-taken images of image processing-based machines are invisible due to scattering and absorption of light in foggy conditions. This lowers the object recognition rate and causes malfunction. The safety of the technology is very important because the malfunction of autonomous driving leads to human casualties. In order to increase the stability of the technology, it is necessary to apply an efficient haze removal algorithm to the camera. In the conventional haze removal method, since the haze removal operation is performed regardless of the haze concentration of the input image, excessive haze is removed and the quality of the resulting image is deteriorated. In this paper, we propose an automatic haze removal method that removes haze according to the haze density of the input image by applying Ngo\"s Haziness Degree Evaluator (HDE) to Kim\"s haze removal algorithm using Hazy Particle Map. The proposed haze removal method removes the haze according to the haze concentration of the input image, thereby preventing the quality degradation of the input image that does not require haze removal and solving the problem of excessive haze removal. The superiority of the proposed haze removal method is verified through qualitative and quantitative evaluation.',\n",
       " 'empty',\n",
       " '최근 자율주행 자동차를 구현하기 위해 카메라 영상을 통해 객체 및 차선을 인식하여 자율주행하는 영상처리 기술이 연구되고 있다. 안개는 카메라 촬영 영상의 가시성을 떨어뜨리기 때문에 자율주행 자동차 오작동의 원인이 된다. 이를 해결하기 위해 카메라에 실시간 처리가 가능한 안개 제거 기능을 적용하는 것이 필요하다. 따라서 본 논문에서는 성능이 우수한 Sim의 안개 제거방법을 실시간 처리가 가능한 하드웨어로 구현한다. 제안하는 하드웨어는 Verilog HDL을 사용하여 설계하였고, Xilinx사의 xc7z045-2ffg900을 Target device로 설정하여 FPGA 구현하였다. Xilinx Vivado 프로그램을 이용한 논리합성 결과 4K(4096×2160) 고해상도 환경에서 최대 동작 주파수 276.932MHz, 최대 처리 속도 31.279fps를 가짐으로써 실시간 처리 기준을 만족한다.\\n\\nRecently, image processing technology for autonomous driving by recognizing objects and lanes through camera images to realize autonomous vehicles is being studied. Haze reduces the visibility of images captured by the camera and causes malfunctions of autonomous vehicles. To solve this, it is necessary to apply the haze removal function that can be processed in real time to the camera. Therefore, in this paper, the fog removal method of Sim with excellent performance is implemented with hardware capable of real-time processing. The proposed hardware was designed using Verilog HDL, and FPGA was implemented by setting Xilinx’s xc7z045-2ffg900 as the target device. As a result of logic synthesis using Xilinx Vivado program, it has a maximum operating frequency of 276.932MHz and a maximum processing speed of 31.279fps in a 4K (4096×2160) high-resolution environment, thus satisfying the real-time processing standard. Recently, image processing technology for autonomous driving by recognizing objects and lanes through camera images to realize autonomous vehicles is being studied. Haze reduces the visibility of images captured by the camera and causes malfunctions of autonomous vehicles. To solve this, it is necessary to apply the haze removal function that can be processed in real time to the camera. Therefore, in this paper, the fog removal method of Sim with excellent performance is implemented with hardware capable of real-time processing. The proposed hardware was designed using Verilog HDL, and FPGA was implemented by setting Xilinx’s xc7z045-2ffg900 as the target device. As a result of logic synthesis using Xilinx Vivado program, it has a maximum operating frequency of 276.932MHz and a maximum processing speed of 31.279fps in a 4K (4096×2160) high-resolution environment, thus satisfying the real-time processing standard.',\n",
       " '최근 산업 자동화 시스템은 다양한 장비 및 산업용 프로토콜이 함께 사용되어 고수준의 공정자동화를 제공하고 있다. 다양한 프로토콜로 구성된 네트워크에서 실시간 상태 정보 업데이트를 수행할 때, 이종 프로토콜 간 데이터 송수신 시 각 프로토콜의 데이터 처리 속도를 고려하지 않으면 전송 지연이 발생할 수 있다. 이는 오래된 상태 정보를 바탕으로 모니터링 및 제어하는 문제를 야기한다. 그러므로 목적지 시스템이 신선한 정보를 수신하도록 적절한 주기로 상태 정보 업데이트하는 것이 중요하다. 본 논문에서는 이종 프로토콜인 EtherCAT과 OPC UA 통신 시 각 프로토콜의 데이터 처리 속도 차이에 의해서 발생하는 문제를 데이터의 신선도를 측정하는 지표인 AoI(Age of Information)를 이용하여 분석하고 적절한 업데이트 주기를 찾는 방법을 제안한다.\\n\\nRecently, industrial automation systems have been used with various equipment and industrial protocols to provide high-level process automation. When performing real-time status information update in a network composed of various protocols, transmission delay can occur if the data processing speed of each protocol is not considered when transmitting and receiving data between heterogeneous protocols. Transmission delay causes problems with monitoring and controlling based on the old state information. Therefore, it is important to update the status information at appropriate intervals so that the destination system receives fresh information. In this paper, we analyze the problem caused by the difference in the data processing speed of each protocol during heterogeneous EtherCAT and OPC UA protocol communication using AoI (Age of Information), a metric of data freshness, and then we propose a method to find an appropriate update cycle. Recently, industrial automation systems have been used with various equipment and industrial protocols to provide high-level process automation. When performing real-time status information update in a network composed of various protocols, transmission delay can occur if the data processing speed of each protocol is not considered when transmitting and receiving data between heterogeneous protocols. Transmission delay causes problems with monitoring and controlling based on the old state information. Therefore, it is important to update the status information at appropriate intervals so that the destination system receives fresh information. In this paper, we analyze the problem caused by the difference in the data processing speed of each protocol during heterogeneous EtherCAT and OPC UA protocol communication using AoI (Age of Information), a metric of data freshness, and then we propose a method to find an appropriate update cycle.',\n",
       " 'empty',\n",
       " '최근 들어 중요성 및 소요성이 증가되고 있는 능동 위상배열 안테나장치의 송수신모듈 자동화 측정 방안 및 위상/크기 보정 알고리즘에 관해 연구하였다. 송수신모듈은 송신부와 수신부로 구성되어 있으며 자동화 시험장비(ATE, Automated Test Equipment)를 통해 별도의 시험 구성 변경 없이 모든 시험이 가능하도록 스위치 매트릭스 및 계측기 간 통신을 이용하여 설계 및 제작되었다. 자동화 시험 진행 시 균일한 환경을 제공하기 위해 수냉식 냉각장치를 이용하였으며 ATE 운용을 위한 절차를 수립하여 시험 항목의 추가 및 삭제를 쉽도록 사용자 중심의 GUI(Graiphic User Interface)를 제작하였다. 자동화 측정 시간은 수동 측정과 비교하여 약 3.8배의 시간 단축을 확보하였으며 위상/크기 보정 알고리즘을 이용하여 위상 오차 ±6° 이내, 크기 오차 ±1dBp-p이내로 측정되는 것을 확인할 수 있다.\\n\\nThis paper proposed an automatic measurement and phase/amplitude correction algorithm about TRM(Transmit Receive Module) of active phased array antenna system, which are in increasing demand recently. Transceiver module consists of a transmitter and a receiver, and is designed to enable all tests through automated test equipment without changing the test configuration using switch matrix and communication between instruments. In order to provide a uniform environment, a separate water-cooled cooling device was used during the automated test. Through the user-oriented GUI, the procedure for automated test equipment operation was established so that test items can be freely changed. Automated measurement time was reduced by about 3.4 times compared to manual measurement. Using the phase/magnitude correction algorithm, the phase error was measured within ±6° and the magnitude error within ±1dBp-p. This paper proposed an automatic measurement and phase/amplitude correction algorithm about TRM(Transmit Receive Module) of active phased array antenna system, which are in increasing demand recently. Transceiver module consists of a transmitter and a receiver, and is designed to enable all tests through automated test equipment without changing the test configuration using switch matrix and communication between instruments. In order to provide a uniform environment, a separate water-cooled cooling device was used during the automated test. Through the user-oriented GUI, the procedure for automated test equipment operation was established so that test items can be freely changed. Automated measurement time was reduced by about 3.4 times compared to manual measurement. Using the phase/magnitude correction algorithm, the phase error was measured within ±6° and the magnitude error within ±1dBp-p.',\n",
       " 'Rule based diagnosis is a machine condition diagnostic technology, and the result obtain through its responses to attributes consists of expert knowledge and experience. Accordingly, unlike machine learning, data and general-purpose aspects have advantages as they do not require big data and learning. However, rule-based diagnosis requires the user to respond to attributes, resulting in individual errors or time costs. Hence, it needs to be performed automatically. This paper develops a signal recognition technique by analyzing the diagnostic parameters of the rule-based diagnostic attributes. The diagnostic parameter consists of two characteristics and is recognized using different techniques. It is based on signal recognition, confirming its diagnostic potential, Further, this study is expected to enhance the automation of this diagnosis.',\n",
       " 'The analysis conditions were established using the self-weight of the FCT automation equipment, and natural frequency analysis was performed under the same conditions. For the structural analysis, 3D modeling was performed using Inventor, and structural analysis was performed using the Ansys workbench. From the structural analysis, it was concluded that the resulting values of the stress and deformation of the equipment do not affect the equipment. From the dynamic analysis, the resonance does not occur in the equipment driving area, and thus it is judged to be stable.',\n",
       " 'empty',\n",
       " 'empty',\n",
       " 'empty']"
      ]
     },
     "execution_count": 35,
     "metadata": {},
     "output_type": "execute_result"
    }
   ],
   "source": [
    "content_list"
   ]
  },
  {
   "cell_type": "code",
   "execution_count": 43,
   "id": "a4fdae4f",
   "metadata": {},
   "outputs": [
    {
     "name": "stdout",
     "output_type": "stream",
     "text": [
      "https://www.dbpia.co.kr/journal/articleDetail?nodeId=NODE11139855\n",
      "https://www.dbpia.co.kr/journal/articleDetail?nodeId=NODE11138506\n",
      "https://www.dbpia.co.kr/journal/articleDetail?nodeId=NODE11139397\n",
      "https://www.dbpia.co.kr/journal/articleDetail?nodeId=NODE11144464\n",
      "https://www.dbpia.co.kr/journal/articleDetail?nodeId=NODE11140220\n",
      "https://www.dbpia.co.kr/journal/articleDetail?nodeId=NODE11136896\n",
      "https://www.dbpia.co.kr/journal/articleDetail?nodeId=NODE11143603\n",
      "https://www.dbpia.co.kr/journal/articleDetail?nodeId=NODE11140186\n",
      "https://www.dbpia.co.kr/journal/articleDetail?nodeId=NODE11143234\n",
      "https://www.dbpia.co.kr/journal/articleDetail?nodeId=NODE11139981\n",
      "https://www.dbpia.co.kr/journal/articleDetail?nodeId=NODE11139969\n",
      "https://www.dbpia.co.kr/journal/articleDetail?nodeId=NODE11138316\n",
      "https://www.dbpia.co.kr/journal/articleDetail?nodeId=NODE11140185\n",
      "https://www.dbpia.co.kr/journal/articleDetail?nodeId=NODE11143185\n",
      "https://www.dbpia.co.kr/journal/articleDetail?nodeId=NODE11139716\n",
      "https://www.dbpia.co.kr/journal/articleDetail?nodeId=NODE11139709\n",
      "https://www.dbpia.co.kr/journal/articleDetail?nodeId=NODE11144116\n",
      "https://www.dbpia.co.kr/journal/articleDetail?nodeId=NODE11135038\n",
      "https://www.dbpia.co.kr/journal/articleDetail?nodeId=NODE11142008\n",
      "https://www.dbpia.co.kr/journal/articleDetail?nodeId=NODE11137764\n"
     ]
    }
   ],
   "source": [
    "#링크 데이터 찾기\n",
    "links = browser.find_elements(By.CLASS_NAME, 'thesis__link')\n",
    "for i in links:\n",
    "    link=(i.get_attribute('href'))\n",
    "    browser.get(link)\n",
    "    time.sleep(3)\n",
    "    \n",
    "    try:\n",
    "        content=content=browser.find_element(By.CLASS_NAME,\"abstractTxt\").text\n",
    "    \n",
    "#print(links)"
   ]
  },
  {
   "cell_type": "code",
   "execution_count": 36,
   "id": "d2f55238",
   "metadata": {},
   "outputs": [
    {
     "data": {
      "text/plain": [
       "['대용량 데이터 전송을 위한 오픈 API 기반 가상 네트워크 프로비저닝 자동화 플랫폼 구현',\n",
       " '철도시설물 무인 자동화 점검용 드론의 내풍성 평가 연구',\n",
       " 'Haziness Degree Evaluator를 적용한 Hazy Particle Map 기반 자동화 안개 제거 방법',\n",
       " 'Hazy Particle Map 기반 실시간 처리 가능한 자동화 안개 제거방법의 하드웨어 구현',\n",
       " '산업 자동화 시스템을 위한 AoI 기반 데이터 신선도 향상 가능성 분석',\n",
       " '능동 위상배열 안테나 장치용 송수신모듈 자동화 측정 및 보정',\n",
       " '규칙기반진단 자동화를 위한 Signal Recognition 기술개발',\n",
       " 'FCT 검사 자동화 System의 구조해석 및 구조 안전성에 관한 연구']"
      ]
     },
     "execution_count": 36,
     "metadata": {},
     "output_type": "execute_result"
    }
   ],
   "source": [
    "title_list"
   ]
  },
  {
   "cell_type": "code",
   "execution_count": 37,
   "id": "25699165",
   "metadata": {},
   "outputs": [],
   "source": [
    "data={\"title\":title_list,\"content\":content_list}"
   ]
  },
  {
   "cell_type": "code",
   "execution_count": 39,
   "id": "1fd227e2",
   "metadata": {},
   "outputs": [
    {
     "ename": "ValueError",
     "evalue": "All arrays must be of the same length",
     "output_type": "error",
     "traceback": [
      "\u001b[0;31m---------------------------------------------------------------------------\u001b[0m",
      "\u001b[0;31mValueError\u001b[0m                                Traceback (most recent call last)",
      "\u001b[0;32m/var/folders/l0/rmt5_xrn6vb4901n4j9dj7n40000gn/T/ipykernel_37800/914841323.py\u001b[0m in \u001b[0;36m<module>\u001b[0;34m\u001b[0m\n\u001b[0;32m----> 1\u001b[0;31m \u001b[0mdf\u001b[0m\u001b[0;34m=\u001b[0m\u001b[0mpd\u001b[0m\u001b[0;34m.\u001b[0m\u001b[0mDataFrame\u001b[0m\u001b[0;34m(\u001b[0m\u001b[0mdata\u001b[0m\u001b[0;34m)\u001b[0m\u001b[0;34m\u001b[0m\u001b[0;34m\u001b[0m\u001b[0m\n\u001b[0m",
      "\u001b[0;32m~/opt/anaconda3/lib/python3.9/site-packages/pandas/core/frame.py\u001b[0m in \u001b[0;36m__init__\u001b[0;34m(self, data, index, columns, dtype, copy)\u001b[0m\n\u001b[1;32m    612\u001b[0m         \u001b[0;32melif\u001b[0m \u001b[0misinstance\u001b[0m\u001b[0;34m(\u001b[0m\u001b[0mdata\u001b[0m\u001b[0;34m,\u001b[0m \u001b[0mdict\u001b[0m\u001b[0;34m)\u001b[0m\u001b[0;34m:\u001b[0m\u001b[0;34m\u001b[0m\u001b[0;34m\u001b[0m\u001b[0m\n\u001b[1;32m    613\u001b[0m             \u001b[0;31m# GH#38939 de facto copy defaults to False only in non-dict cases\u001b[0m\u001b[0;34m\u001b[0m\u001b[0;34m\u001b[0m\u001b[0m\n\u001b[0;32m--> 614\u001b[0;31m             \u001b[0mmgr\u001b[0m \u001b[0;34m=\u001b[0m \u001b[0mdict_to_mgr\u001b[0m\u001b[0;34m(\u001b[0m\u001b[0mdata\u001b[0m\u001b[0;34m,\u001b[0m \u001b[0mindex\u001b[0m\u001b[0;34m,\u001b[0m \u001b[0mcolumns\u001b[0m\u001b[0;34m,\u001b[0m \u001b[0mdtype\u001b[0m\u001b[0;34m=\u001b[0m\u001b[0mdtype\u001b[0m\u001b[0;34m,\u001b[0m \u001b[0mcopy\u001b[0m\u001b[0;34m=\u001b[0m\u001b[0mcopy\u001b[0m\u001b[0;34m,\u001b[0m \u001b[0mtyp\u001b[0m\u001b[0;34m=\u001b[0m\u001b[0mmanager\u001b[0m\u001b[0;34m)\u001b[0m\u001b[0;34m\u001b[0m\u001b[0;34m\u001b[0m\u001b[0m\n\u001b[0m\u001b[1;32m    615\u001b[0m         \u001b[0;32melif\u001b[0m \u001b[0misinstance\u001b[0m\u001b[0;34m(\u001b[0m\u001b[0mdata\u001b[0m\u001b[0;34m,\u001b[0m \u001b[0mma\u001b[0m\u001b[0;34m.\u001b[0m\u001b[0mMaskedArray\u001b[0m\u001b[0;34m)\u001b[0m\u001b[0;34m:\u001b[0m\u001b[0;34m\u001b[0m\u001b[0;34m\u001b[0m\u001b[0m\n\u001b[1;32m    616\u001b[0m             \u001b[0;32mimport\u001b[0m \u001b[0mnumpy\u001b[0m\u001b[0;34m.\u001b[0m\u001b[0mma\u001b[0m\u001b[0;34m.\u001b[0m\u001b[0mmrecords\u001b[0m \u001b[0;32mas\u001b[0m \u001b[0mmrecords\u001b[0m\u001b[0;34m\u001b[0m\u001b[0;34m\u001b[0m\u001b[0m\n",
      "\u001b[0;32m~/opt/anaconda3/lib/python3.9/site-packages/pandas/core/internals/construction.py\u001b[0m in \u001b[0;36mdict_to_mgr\u001b[0;34m(data, index, columns, dtype, typ, copy)\u001b[0m\n\u001b[1;32m    462\u001b[0m         \u001b[0;31m# TODO: can we get rid of the dt64tz special case above?\u001b[0m\u001b[0;34m\u001b[0m\u001b[0;34m\u001b[0m\u001b[0m\n\u001b[1;32m    463\u001b[0m \u001b[0;34m\u001b[0m\u001b[0m\n\u001b[0;32m--> 464\u001b[0;31m     return arrays_to_mgr(\n\u001b[0m\u001b[1;32m    465\u001b[0m         \u001b[0marrays\u001b[0m\u001b[0;34m,\u001b[0m \u001b[0mdata_names\u001b[0m\u001b[0;34m,\u001b[0m \u001b[0mindex\u001b[0m\u001b[0;34m,\u001b[0m \u001b[0mcolumns\u001b[0m\u001b[0;34m,\u001b[0m \u001b[0mdtype\u001b[0m\u001b[0;34m=\u001b[0m\u001b[0mdtype\u001b[0m\u001b[0;34m,\u001b[0m \u001b[0mtyp\u001b[0m\u001b[0;34m=\u001b[0m\u001b[0mtyp\u001b[0m\u001b[0;34m,\u001b[0m \u001b[0mconsolidate\u001b[0m\u001b[0;34m=\u001b[0m\u001b[0mcopy\u001b[0m\u001b[0;34m\u001b[0m\u001b[0;34m\u001b[0m\u001b[0m\n\u001b[1;32m    466\u001b[0m     )\n",
      "\u001b[0;32m~/opt/anaconda3/lib/python3.9/site-packages/pandas/core/internals/construction.py\u001b[0m in \u001b[0;36marrays_to_mgr\u001b[0;34m(arrays, arr_names, index, columns, dtype, verify_integrity, typ, consolidate)\u001b[0m\n\u001b[1;32m    117\u001b[0m         \u001b[0;31m# figure out the index, if necessary\u001b[0m\u001b[0;34m\u001b[0m\u001b[0;34m\u001b[0m\u001b[0m\n\u001b[1;32m    118\u001b[0m         \u001b[0;32mif\u001b[0m \u001b[0mindex\u001b[0m \u001b[0;32mis\u001b[0m \u001b[0;32mNone\u001b[0m\u001b[0;34m:\u001b[0m\u001b[0;34m\u001b[0m\u001b[0;34m\u001b[0m\u001b[0m\n\u001b[0;32m--> 119\u001b[0;31m             \u001b[0mindex\u001b[0m \u001b[0;34m=\u001b[0m \u001b[0m_extract_index\u001b[0m\u001b[0;34m(\u001b[0m\u001b[0marrays\u001b[0m\u001b[0;34m)\u001b[0m\u001b[0;34m\u001b[0m\u001b[0;34m\u001b[0m\u001b[0m\n\u001b[0m\u001b[1;32m    120\u001b[0m         \u001b[0;32melse\u001b[0m\u001b[0;34m:\u001b[0m\u001b[0;34m\u001b[0m\u001b[0;34m\u001b[0m\u001b[0m\n\u001b[1;32m    121\u001b[0m             \u001b[0mindex\u001b[0m \u001b[0;34m=\u001b[0m \u001b[0mensure_index\u001b[0m\u001b[0;34m(\u001b[0m\u001b[0mindex\u001b[0m\u001b[0;34m)\u001b[0m\u001b[0;34m\u001b[0m\u001b[0;34m\u001b[0m\u001b[0m\n",
      "\u001b[0;32m~/opt/anaconda3/lib/python3.9/site-packages/pandas/core/internals/construction.py\u001b[0m in \u001b[0;36m_extract_index\u001b[0;34m(data)\u001b[0m\n\u001b[1;32m    633\u001b[0m             \u001b[0mlengths\u001b[0m \u001b[0;34m=\u001b[0m \u001b[0mlist\u001b[0m\u001b[0;34m(\u001b[0m\u001b[0mset\u001b[0m\u001b[0;34m(\u001b[0m\u001b[0mraw_lengths\u001b[0m\u001b[0;34m)\u001b[0m\u001b[0;34m)\u001b[0m\u001b[0;34m\u001b[0m\u001b[0;34m\u001b[0m\u001b[0m\n\u001b[1;32m    634\u001b[0m             \u001b[0;32mif\u001b[0m \u001b[0mlen\u001b[0m\u001b[0;34m(\u001b[0m\u001b[0mlengths\u001b[0m\u001b[0;34m)\u001b[0m \u001b[0;34m>\u001b[0m \u001b[0;36m1\u001b[0m\u001b[0;34m:\u001b[0m\u001b[0;34m\u001b[0m\u001b[0;34m\u001b[0m\u001b[0m\n\u001b[0;32m--> 635\u001b[0;31m                 \u001b[0;32mraise\u001b[0m \u001b[0mValueError\u001b[0m\u001b[0;34m(\u001b[0m\u001b[0;34m\"All arrays must be of the same length\"\u001b[0m\u001b[0;34m)\u001b[0m\u001b[0;34m\u001b[0m\u001b[0;34m\u001b[0m\u001b[0m\n\u001b[0m\u001b[1;32m    636\u001b[0m \u001b[0;34m\u001b[0m\u001b[0m\n\u001b[1;32m    637\u001b[0m             \u001b[0;32mif\u001b[0m \u001b[0mhave_dicts\u001b[0m\u001b[0;34m:\u001b[0m\u001b[0;34m\u001b[0m\u001b[0;34m\u001b[0m\u001b[0m\n",
      "\u001b[0;31mValueError\u001b[0m: All arrays must be of the same length"
     ]
    }
   ],
   "source": [
    "df=pd.DataFrame(data)"
   ]
  },
  {
   "cell_type": "code",
   "execution_count": null,
   "id": "61bbe956",
   "metadata": {},
   "outputs": [],
   "source": []
  }
 ],
 "metadata": {
  "kernelspec": {
   "display_name": "Python 3 (ipykernel)",
   "language": "python",
   "name": "python3"
  },
  "language_info": {
   "codemirror_mode": {
    "name": "ipython",
    "version": 3
   },
   "file_extension": ".py",
   "mimetype": "text/x-python",
   "name": "python",
   "nbconvert_exporter": "python",
   "pygments_lexer": "ipython3",
   "version": "3.9.7"
  }
 },
 "nbformat": 4,
 "nbformat_minor": 5
}
