{
 "cells": [
  {
   "cell_type": "markdown",
   "id": "3c459a49",
   "metadata": {},
   "source": [
    "## DBPIA 논문 데이터 크롤링\n",
    "- 기본 페이지 정보 외에 상세 페이지로 접근을 해서 이름 과 설명 데이터를 가져오는 크롤링 코드입니다."
   ]
  },
  {
   "cell_type": "code",
   "execution_count": 2,
   "id": "2b9d0831",
   "metadata": {},
   "outputs": [],
   "source": [
    "from selenium.webdriver.common.by import By\n",
    "from selenium.webdriver.common.keys import Keys\n",
    "import time\n",
    "from selenium import webdriver\n",
    "from selenium.webdriver import ActionChains\n",
    "import time\n",
    "import pandas as pd"
   ]
  },
  {
   "cell_type": "code",
   "execution_count": 52,
   "id": "32a1d8e8",
   "metadata": {},
   "outputs": [
    {
     "name": "stderr",
     "output_type": "stream",
     "text": [
      "/var/folders/l0/rmt5_xrn6vb4901n4j9dj7n40000gn/T/ipykernel_87608/2307485504.py:3: DeprecationWarning: executable_path has been deprecated, please pass in a Service object\n",
      "  browser = webdriver.Chrome(PATH)\n"
     ]
    }
   ],
   "source": [
    "from selenium import webdriver\n",
    "PATH = \"/Users/seoinhyeog/Desktop/chromedriver\"\n",
    "browser = webdriver.Chrome(PATH)"
   ]
  },
  {
   "cell_type": "code",
   "execution_count": 53,
   "id": "4912d515",
   "metadata": {},
   "outputs": [
    {
     "name": "stdout",
     "output_type": "stream",
     "text": [
      "검색하고자하는 논문 제목을 입력해 주세요  인공지능\n",
      "https://www.dbpia.co.kr/search/topSearch?startCount=0&collection=ALL&range=A&searchField=ALL&sort=RANK&query=인공지능\n"
     ]
    }
   ],
   "source": [
    "seach_world= input(\"검색하고자하는 논문 제목을 입력해 주세요  \"  )\n",
    "url=\"https://www.dbpia.co.kr/search/topSearch?startCount=0&collection=ALL&range=A&searchField=ALL&sort=RANK&query={}\"\n",
    "final_url=url.format(seach_world)\n",
    "print(final_url)\n",
    "browser.get(final_url)\n"
   ]
  },
  {
   "cell_type": "code",
   "execution_count": 47,
   "id": "99a94895",
   "metadata": {},
   "outputs": [],
   "source": [
    "for i in range(1,11):\n",
    "    xpath= '//*[@id=\"pageList\"]/a[{}]'.format(str(i))\n",
    "    browser.find_element(By.XPATH,xpath).click()\n",
    "    time.sleep(5)\n"
   ]
  },
  {
   "cell_type": "code",
   "execution_count": 37,
   "id": "825c67fc",
   "metadata": {},
   "outputs": [
    {
     "data": {
      "text/plain": [
       "'https://www.dbpia.co.kr/journal/articleDetail?nodeId=NODE11139855'"
      ]
     },
     "execution_count": 37,
     "metadata": {},
     "output_type": "execute_result"
    }
   ],
   "source": [
    "browser.find_element(By.CLASS_NAME, 'thesis__link').get_attribute(\"href\")"
   ]
  },
  {
   "cell_type": "code",
   "execution_count": 54,
   "id": "09b0b36a",
   "metadata": {},
   "outputs": [
    {
     "name": "stdout",
     "output_type": "stream",
     "text": [
      "['https://www.dbpia.co.kr/journal/articleDetail?nodeId=NODE11139855', 'https://www.dbpia.co.kr/journal/articleDetail?nodeId=NODE11138506', 'https://www.dbpia.co.kr/journal/articleDetail?nodeId=NODE11139397', 'https://www.dbpia.co.kr/journal/articleDetail?nodeId=NODE11144464', 'https://www.dbpia.co.kr/journal/articleDetail?nodeId=NODE11140220', 'https://www.dbpia.co.kr/journal/articleDetail?nodeId=NODE11136896', 'https://www.dbpia.co.kr/journal/articleDetail?nodeId=NODE11143603', 'https://www.dbpia.co.kr/journal/articleDetail?nodeId=NODE11140186', 'https://www.dbpia.co.kr/journal/articleDetail?nodeId=NODE11143234', 'https://www.dbpia.co.kr/journal/articleDetail?nodeId=NODE11139981', 'https://www.dbpia.co.kr/journal/articleDetail?nodeId=NODE11139969', 'https://www.dbpia.co.kr/journal/articleDetail?nodeId=NODE11138316', 'https://www.dbpia.co.kr/journal/articleDetail?nodeId=NODE11140185', 'https://www.dbpia.co.kr/journal/articleDetail?nodeId=NODE11143185', 'https://www.dbpia.co.kr/journal/articleDetail?nodeId=NODE11139716', 'https://www.dbpia.co.kr/journal/articleDetail?nodeId=NODE11139709', 'https://www.dbpia.co.kr/journal/articleDetail?nodeId=NODE11144116', 'https://www.dbpia.co.kr/journal/articleDetail?nodeId=NODE11135038', 'https://www.dbpia.co.kr/journal/articleDetail?nodeId=NODE11142008', 'https://www.dbpia.co.kr/journal/articleDetail?nodeId=NODE11137764']\n"
     ]
    }
   ],
   "source": [
    "containers = browser.find_elements(By.CLASS_NAME, 'thesis__summary')\n",
    "\n",
    "link_list=[]\n",
    "for i in containers:\n",
    "    link = i.find_element(By.CLASS_NAME, 'thesis__link').get_attribute('href')\n",
    "    link_list.append(link)\n",
    "\n",
    "print(link_list)\n",
    "\n",
    "content_list= []\n",
    "for e in link_list:\n",
    "    browser.get(link)\n",
    "    time.sleep(2)\n",
    "    \n",
    "    try:\n",
    "        content=browser.find_element(By.CLASS_NAME,\"abstractTxt\").text\n",
    "    except:\n",
    "        content=\"vacant\"\n",
    "        \n",
    "    content_list.append(content)"
   ]
  },
  {
   "cell_type": "code",
   "execution_count": 43,
   "id": "a4fdae4f",
   "metadata": {},
   "outputs": [
    {
     "name": "stdout",
     "output_type": "stream",
     "text": [
      "https://www.dbpia.co.kr/journal/articleDetail?nodeId=NODE11139855\n",
      "https://www.dbpia.co.kr/journal/articleDetail?nodeId=NODE11138506\n",
      "https://www.dbpia.co.kr/journal/articleDetail?nodeId=NODE11139397\n",
      "https://www.dbpia.co.kr/journal/articleDetail?nodeId=NODE11144464\n",
      "https://www.dbpia.co.kr/journal/articleDetail?nodeId=NODE11140220\n",
      "https://www.dbpia.co.kr/journal/articleDetail?nodeId=NODE11136896\n",
      "https://www.dbpia.co.kr/journal/articleDetail?nodeId=NODE11143603\n",
      "https://www.dbpia.co.kr/journal/articleDetail?nodeId=NODE11140186\n",
      "https://www.dbpia.co.kr/journal/articleDetail?nodeId=NODE11143234\n",
      "https://www.dbpia.co.kr/journal/articleDetail?nodeId=NODE11139981\n",
      "https://www.dbpia.co.kr/journal/articleDetail?nodeId=NODE11139969\n",
      "https://www.dbpia.co.kr/journal/articleDetail?nodeId=NODE11138316\n",
      "https://www.dbpia.co.kr/journal/articleDetail?nodeId=NODE11140185\n",
      "https://www.dbpia.co.kr/journal/articleDetail?nodeId=NODE11143185\n",
      "https://www.dbpia.co.kr/journal/articleDetail?nodeId=NODE11139716\n",
      "https://www.dbpia.co.kr/journal/articleDetail?nodeId=NODE11139709\n",
      "https://www.dbpia.co.kr/journal/articleDetail?nodeId=NODE11144116\n",
      "https://www.dbpia.co.kr/journal/articleDetail?nodeId=NODE11135038\n",
      "https://www.dbpia.co.kr/journal/articleDetail?nodeId=NODE11142008\n",
      "https://www.dbpia.co.kr/journal/articleDetail?nodeId=NODE11137764\n"
     ]
    }
   ],
   "source": [
    "#링크 데이터 찾기\n",
    "links = browser.find_elements(By.CLASS_NAME, 'thesis__link')\n",
    "for i in links:\n",
    "    link=(i.get_attribute('href'))\n",
    "    browser.get(link)\n",
    "    time.sleep(3)\n",
    "    \n",
    "    try:\n",
    "        content=\n",
    "    \n",
    "#print(links)"
   ]
  },
  {
   "cell_type": "code",
   "execution_count": null,
   "id": "d2f55238",
   "metadata": {},
   "outputs": [],
   "source": []
  }
 ],
 "metadata": {
  "kernelspec": {
   "display_name": "Python 3 (ipykernel)",
   "language": "python",
   "name": "python3"
  },
  "language_info": {
   "codemirror_mode": {
    "name": "ipython",
    "version": 3
   },
   "file_extension": ".py",
   "mimetype": "text/x-python",
   "name": "python",
   "nbconvert_exporter": "python",
   "pygments_lexer": "ipython3",
   "version": "3.9.7"
  }
 },
 "nbformat": 4,
 "nbformat_minor": 5
}
