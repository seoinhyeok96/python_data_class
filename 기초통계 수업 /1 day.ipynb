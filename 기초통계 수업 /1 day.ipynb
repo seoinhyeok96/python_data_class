{
 "cells": [
  {
   "cell_type": "code",
   "execution_count": 75,
   "id": "df392dd7",
   "metadata": {},
   "outputs": [],
   "source": [
    "import time\n",
    "import pandas as pd\n",
    "import seaborn as sns\n",
    "import numpy as np\n",
    "import matplotlib.pyplot"
   ]
  },
  {
   "cell_type": "markdown",
   "id": "555b7453",
   "metadata": {},
   "source": [
    "# 시그마 실습"
   ]
  },
  {
   "cell_type": "code",
   "execution_count": 11,
   "id": "3376fe04",
   "metadata": {},
   "outputs": [
    {
     "name": "stdout",
     "output_type": "stream",
     "text": [
      "1\n",
      "3\n",
      "6\n",
      "10\n",
      "15\n",
      "21\n",
      "28\n",
      "36\n",
      "45\n",
      "55\n"
     ]
    }
   ],
   "source": [
    "res=0\n",
    "for i in range(1,11):\n",
    "    res=res+i\n",
    "    print(res)"
   ]
  },
  {
   "cell_type": "code",
   "execution_count": 10,
   "id": "2e50e291",
   "metadata": {
    "scrolled": true
   },
   "outputs": [
    {
     "data": {
      "text/plain": [
       "55"
      ]
     },
     "execution_count": 10,
     "metadata": {},
     "output_type": "execute_result"
    }
   ],
   "source": [
    "res=0\n",
    "for i in range(1,11):\n",
    "    res=res+i\n",
    "res\n"
   ]
  },
  {
   "cell_type": "code",
   "execution_count": 12,
   "id": "3a2ba509",
   "metadata": {},
   "outputs": [
    {
     "data": {
      "text/plain": [
       "24"
      ]
     },
     "execution_count": 12,
     "metadata": {},
     "output_type": "execute_result"
    }
   ],
   "source": [
    "res=0\n",
    "for i in range(7,10):\n",
    "    res=res+i\n",
    "res"
   ]
  },
  {
   "cell_type": "code",
   "execution_count": 13,
   "id": "ee5872c2",
   "metadata": {},
   "outputs": [
    {
     "data": {
      "text/plain": [
       "27"
      ]
     },
     "execution_count": 13,
     "metadata": {},
     "output_type": "execute_result"
    }
   ],
   "source": [
    "res=0\n",
    "for i in range(1,10):\n",
    "    res=res+3\n",
    "res"
   ]
  },
  {
   "cell_type": "code",
   "execution_count": 14,
   "id": "3b34b6fe",
   "metadata": {},
   "outputs": [
    {
     "data": {
      "text/plain": [
       "165"
      ]
     },
     "execution_count": 14,
     "metadata": {},
     "output_type": "execute_result"
    }
   ],
   "source": [
    "res=0 #0부터 시작\n",
    "for i in range(1,11): #1~10번 반복\n",
    "    res=res+3*i\n",
    "res"
   ]
  },
  {
   "cell_type": "code",
   "execution_count": 22,
   "id": "ea1826dd",
   "metadata": {},
   "outputs": [
    {
     "data": {
      "text/plain": [
       "-3"
      ]
     },
     "execution_count": 22,
     "metadata": {},
     "output_type": "execute_result"
    }
   ],
   "source": [
    "res=0\n",
    "for i in range(1, 3):\n",
    "    for j in range(1, 4):\n",
    "        res+= i-j\n",
    "res"
   ]
  },
  {
   "cell_type": "markdown",
   "id": "54645808",
   "metadata": {},
   "source": [
    "# 파이 "
   ]
  },
  {
   "cell_type": "code",
   "execution_count": 23,
   "id": "7b221d13",
   "metadata": {},
   "outputs": [
    {
     "data": {
      "text/plain": [
       "1"
      ]
     },
     "execution_count": 23,
     "metadata": {},
     "output_type": "execute_result"
    }
   ],
   "source": [
    "res=1\n",
    "for i in range(1,11):\n",
    "    res=res*1\n",
    "res"
   ]
  },
  {
   "cell_type": "code",
   "execution_count": 27,
   "id": "21836e07",
   "metadata": {},
   "outputs": [
    {
     "data": {
      "text/plain": [
       "144"
      ]
     },
     "execution_count": 27,
     "metadata": {},
     "output_type": "execute_result"
    }
   ],
   "source": [
    "res=1\n",
    "for i in range(1,4):\n",
    "    for j in range(4,6):\n",
    "        res*=i-j\n",
    "res"
   ]
  },
  {
   "cell_type": "code",
   "execution_count": 28,
   "id": "5a3ef189",
   "metadata": {},
   "outputs": [
    {
     "data": {
      "text/plain": [
       "120"
      ]
     },
     "execution_count": 28,
     "metadata": {},
     "output_type": "execute_result"
    }
   ],
   "source": [
    "5*4*3*2*1"
   ]
  },
  {
   "cell_type": "markdown",
   "id": "9f11e878",
   "metadata": {},
   "source": [
    "# 팩토리"
   ]
  },
  {
   "cell_type": "code",
   "execution_count": 32,
   "id": "6736bb93",
   "metadata": {},
   "outputs": [],
   "source": [
    "def factorial(n):\n",
    "    res=1\n",
    "    for i in range(1,n+1):\n",
    "        res*= i\n",
    "    return res"
   ]
  },
  {
   "cell_type": "code",
   "execution_count": 33,
   "id": "dd59c5d6",
   "metadata": {},
   "outputs": [
    {
     "data": {
      "text/plain": [
       "120"
      ]
     },
     "execution_count": 33,
     "metadata": {},
     "output_type": "execute_result"
    }
   ],
   "source": [
    "factorial(5)"
   ]
  },
  {
   "cell_type": "code",
   "execution_count": 34,
   "id": "77fc73a8",
   "metadata": {},
   "outputs": [
    {
     "data": {
      "text/plain": [
       "6.0"
      ]
     },
     "execution_count": 34,
     "metadata": {},
     "output_type": "execute_result"
    }
   ],
   "source": [
    "factorial(4)/(factorial(2)*factorial(4-2))"
   ]
  },
  {
   "cell_type": "markdown",
   "id": "756d30d1",
   "metadata": {},
   "source": [
    "# 이항 함수"
   ]
  },
  {
   "cell_type": "code",
   "execution_count": 44,
   "id": "a8cdd3ca",
   "metadata": {},
   "outputs": [],
   "source": [
    "res=1\n",
    "def binomal(n,x):\n",
    "    res= factorial(n)/(factorial(x)*factorial(n-x))\n",
    "    return res"
   ]
  },
  {
   "cell_type": "code",
   "execution_count": 45,
   "id": "2c440406",
   "metadata": {},
   "outputs": [
    {
     "data": {
      "text/plain": [
       "6.0"
      ]
     },
     "execution_count": 45,
     "metadata": {},
     "output_type": "execute_result"
    }
   ],
   "source": [
    "binomal(4,2)"
   ]
  },
  {
   "cell_type": "markdown",
   "id": "524b3b17",
   "metadata": {},
   "source": [
    "# 지시 함수"
   ]
  },
  {
   "cell_type": "code",
   "execution_count": 46,
   "id": "b4fadeb5",
   "metadata": {},
   "outputs": [
    {
     "data": {
      "text/plain": [
       "False"
      ]
     },
     "execution_count": 46,
     "metadata": {},
     "output_type": "execute_result"
    }
   ],
   "source": [
    "x=13\n",
    "x<10"
   ]
  },
  {
   "cell_type": "code",
   "execution_count": 47,
   "id": "13bc455d",
   "metadata": {},
   "outputs": [
    {
     "data": {
      "text/plain": [
       "0"
      ]
     },
     "execution_count": 47,
     "metadata": {},
     "output_type": "execute_result"
    }
   ],
   "source": [
    "int(x<10)"
   ]
  },
  {
   "cell_type": "code",
   "execution_count": 48,
   "id": "8f897eda",
   "metadata": {},
   "outputs": [
    {
     "data": {
      "text/plain": [
       "0.0"
      ]
     },
     "execution_count": 48,
     "metadata": {},
     "output_type": "execute_result"
    }
   ],
   "source": [
    "float(x<10)"
   ]
  },
  {
   "cell_type": "code",
   "execution_count": 52,
   "id": "820a0019",
   "metadata": {},
   "outputs": [
    {
     "data": {
      "text/plain": [
       "0"
      ]
     },
     "execution_count": 52,
     "metadata": {},
     "output_type": "execute_result"
    }
   ],
   "source": [
    "res=0.5\n",
    "x=13\n",
    "if x<10:\n",
    "    res=1\n",
    "else:\n",
    "    res=0\n",
    "res"
   ]
  },
  {
   "cell_type": "markdown",
   "id": "16af54d3",
   "metadata": {},
   "source": [
    "# 자연 상수 e"
   ]
  },
  {
   "cell_type": "code",
   "execution_count": 53,
   "id": "984b2085",
   "metadata": {},
   "outputs": [
    {
     "name": "stdout",
     "output_type": "stream",
     "text": [
      "2.7048138294215285\n"
     ]
    }
   ],
   "source": [
    "n=100\n",
    "e= (1+(1/n))**n\n",
    "print(e)"
   ]
  },
  {
   "cell_type": "code",
   "execution_count": 54,
   "id": "1198617b",
   "metadata": {},
   "outputs": [
    {
     "name": "stdout",
     "output_type": "stream",
     "text": [
      "2.7169239322355936\n"
     ]
    }
   ],
   "source": [
    "n=1000\n",
    "e= (1+(1/n))**n\n",
    "print(e)"
   ]
  },
  {
   "cell_type": "code",
   "execution_count": 55,
   "id": "af9c1eee",
   "metadata": {},
   "outputs": [
    {
     "name": "stdout",
     "output_type": "stream",
     "text": [
      "2.7181459268249255\n"
     ]
    }
   ],
   "source": [
    "n=10000\n",
    "e= (1+(1/n))**n\n",
    "print(e)"
   ]
  },
  {
   "cell_type": "code",
   "execution_count": 56,
   "id": "9b3287f9",
   "metadata": {},
   "outputs": [
    {
     "name": "stdout",
     "output_type": "stream",
     "text": [
      "2.7182682371922975\n"
     ]
    }
   ],
   "source": [
    "n=100000\n",
    "e= (1+(1/n))**n\n",
    "print(e)"
   ]
  },
  {
   "cell_type": "code",
   "execution_count": 60,
   "id": "95758620",
   "metadata": {},
   "outputs": [
    {
     "name": "stdout",
     "output_type": "stream",
     "text": [
      "1.0\n"
     ]
    }
   ],
   "source": [
    "n=100000000000000000000000\n",
    "e= (1+(1/n))**n\n",
    "print(e)\n",
    "# n의숫자가 너무 크면 램에서 감당이 안되서 코드가 제대로 실행이 안됨"
   ]
  },
  {
   "cell_type": "markdown",
   "id": "07f6cce5",
   "metadata": {},
   "source": [
    "# min x"
   ]
  },
  {
   "cell_type": "code",
   "execution_count": 66,
   "id": "5c3ddbfb",
   "metadata": {},
   "outputs": [
    {
     "data": {
      "text/plain": [
       "2"
      ]
     },
     "execution_count": 66,
     "metadata": {},
     "output_type": "execute_result"
    }
   ],
   "source": [
    "x=[4,2,5,9,2]\n",
    "min(x)"
   ]
  },
  {
   "cell_type": "markdown",
   "id": "be05d5f9",
   "metadata": {},
   "source": [
    "# argminx  가장작은값의 인덱스를 찾을때"
   ]
  },
  {
   "cell_type": "code",
   "execution_count": 70,
   "id": "0b653f51",
   "metadata": {},
   "outputs": [
    {
     "data": {
      "text/plain": [
       "2"
      ]
     },
     "execution_count": 70,
     "metadata": {},
     "output_type": "execute_result"
    }
   ],
   "source": [
    "x=[4,2,8,9,3]\n",
    "min_value=min(x)\n",
    "min_value# min 값"
   ]
  },
  {
   "cell_type": "code",
   "execution_count": 71,
   "id": "d3af4e4b",
   "metadata": {},
   "outputs": [
    {
     "data": {
      "text/plain": [
       "1"
      ]
     },
     "execution_count": 71,
     "metadata": {},
     "output_type": "execute_result"
    }
   ],
   "source": [
    "x.index(min_value)"
   ]
  },
  {
   "cell_type": "code",
   "execution_count": 72,
   "id": "adff9e70",
   "metadata": {},
   "outputs": [],
   "source": [
    "# numpy 을 이용하여 min 과 argmin 찾아보기"
   ]
  },
  {
   "cell_type": "code",
   "execution_count": 76,
   "id": "75fd16f6",
   "metadata": {},
   "outputs": [
    {
     "data": {
      "text/plain": [
       "2"
      ]
     },
     "execution_count": 76,
     "metadata": {},
     "output_type": "execute_result"
    }
   ],
   "source": [
    "np.min(x)"
   ]
  },
  {
   "cell_type": "code",
   "execution_count": 77,
   "id": "51824ef0",
   "metadata": {},
   "outputs": [
    {
     "data": {
      "text/plain": [
       "1"
      ]
     },
     "execution_count": 77,
     "metadata": {},
     "output_type": "execute_result"
    }
   ],
   "source": [
    "np.argmin(x)"
   ]
  },
  {
   "cell_type": "code",
   "execution_count": null,
   "id": "19dc492f",
   "metadata": {},
   "outputs": [],
   "source": []
  }
 ],
 "metadata": {
  "kernelspec": {
   "display_name": "Python 3 (ipykernel)",
   "language": "python",
   "name": "python3"
  },
  "language_info": {
   "codemirror_mode": {
    "name": "ipython",
    "version": 3
   },
   "file_extension": ".py",
   "mimetype": "text/x-python",
   "name": "python",
   "nbconvert_exporter": "python",
   "pygments_lexer": "ipython3",
   "version": "3.10.4"
  }
 },
 "nbformat": 4,
 "nbformat_minor": 5
}
