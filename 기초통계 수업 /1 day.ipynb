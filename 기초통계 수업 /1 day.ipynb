{
 "cells": [
  {
   "cell_type": "code",
   "execution_count": 19,
   "id": "6b187721",
   "metadata": {},
   "outputs": [],
   "source": [
    "import time\n",
    "import pandas\n",
    "import seaborn\n",
    "import matplotlib.pyplot"
   ]
  },
  {
   "cell_type": "markdown",
   "id": "ee9cb85d",
   "metadata": {},
   "source": [
    "# 시그마 실습"
   ]
  },
  {
   "cell_type": "code",
   "execution_count": 11,
   "id": "b85086bd",
   "metadata": {},
   "outputs": [
    {
     "name": "stdout",
     "output_type": "stream",
     "text": [
      "1\n",
      "3\n",
      "6\n",
      "10\n",
      "15\n",
      "21\n",
      "28\n",
      "36\n",
      "45\n",
      "55\n"
     ]
    }
   ],
   "source": [
    "res=0\n",
    "for i in range(1,11):\n",
    "    res=res+i\n",
    "    print(res)"
   ]
  },
  {
   "cell_type": "code",
   "execution_count": 10,
   "id": "354d39a3",
   "metadata": {
    "scrolled": true
   },
   "outputs": [
    {
     "data": {
      "text/plain": [
       "55"
      ]
     },
     "execution_count": 10,
     "metadata": {},
     "output_type": "execute_result"
    }
   ],
   "source": [
    "res=0\n",
    "for i in range(1,11):\n",
    "    res=res+i\n",
    "res\n"
   ]
  },
  {
   "cell_type": "code",
   "execution_count": 12,
   "id": "3a2ba509",
   "metadata": {},
   "outputs": [
    {
     "data": {
      "text/plain": [
       "24"
      ]
     },
     "execution_count": 12,
     "metadata": {},
     "output_type": "execute_result"
    }
   ],
   "source": [
    "res=0\n",
    "for i in range(7,10):\n",
    "    res=res+i\n",
    "res"
   ]
  },
  {
   "cell_type": "code",
   "execution_count": 13,
   "id": "ee5872c2",
   "metadata": {},
   "outputs": [
    {
     "data": {
      "text/plain": [
       "27"
      ]
     },
     "execution_count": 13,
     "metadata": {},
     "output_type": "execute_result"
    }
   ],
   "source": [
    "res=0\n",
    "for i in range(1,10):\n",
    "    res=res+3\n",
    "res"
   ]
  },
  {
   "cell_type": "code",
   "execution_count": 14,
   "id": "aebc8551",
   "metadata": {},
   "outputs": [
    {
     "data": {
      "text/plain": [
       "165"
      ]
     },
     "execution_count": 14,
     "metadata": {},
     "output_type": "execute_result"
    }
   ],
   "source": [
    "res=0 #0부터 시작\n",
    "for i in range(1,11): #1~10번 반복\n",
    "    res=res+3*i\n",
    "res"
   ]
  },
  {
   "cell_type": "code",
   "execution_count": 22,
   "id": "99746208",
   "metadata": {},
   "outputs": [
    {
     "data": {
      "text/plain": [
       "-3"
      ]
     },
     "execution_count": 22,
     "metadata": {},
     "output_type": "execute_result"
    }
   ],
   "source": [
    "res=0\n",
    "for i in range(1, 3):\n",
    "    for j in range(1, 4):\n",
    "        res+= i-j\n",
    "res"
   ]
  },
  {
   "cell_type": "markdown",
   "id": "c5060e1e",
   "metadata": {},
   "source": [
    "# 파이 "
   ]
  },
  {
   "cell_type": "code",
   "execution_count": 23,
   "id": "d9fee823",
   "metadata": {},
   "outputs": [
    {
     "data": {
      "text/plain": [
       "1"
      ]
     },
     "execution_count": 23,
     "metadata": {},
     "output_type": "execute_result"
    }
   ],
   "source": [
    "res=1\n",
    "for i in range(1,11):\n",
    "    res=res*1\n",
    "res"
   ]
  },
  {
   "cell_type": "code",
   "execution_count": 27,
   "id": "110ecf77",
   "metadata": {},
   "outputs": [
    {
     "data": {
      "text/plain": [
       "144"
      ]
     },
     "execution_count": 27,
     "metadata": {},
     "output_type": "execute_result"
    }
   ],
   "source": [
    "res=1\n",
    "for i in range(1,4):\n",
    "    for j in range(4,6):\n",
    "        res*=i-j\n",
    "res"
   ]
  },
  {
   "cell_type": "code",
   "execution_count": 28,
   "id": "5c06d043",
   "metadata": {},
   "outputs": [
    {
     "data": {
      "text/plain": [
       "120"
      ]
     },
     "execution_count": 28,
     "metadata": {},
     "output_type": "execute_result"
    }
   ],
   "source": [
    "5*4*3*2*1"
   ]
  },
  {
   "cell_type": "markdown",
   "id": "180a503a",
   "metadata": {},
   "source": [
    "# 팩토리"
   ]
  },
  {
   "cell_type": "code",
   "execution_count": 32,
   "id": "e74a735f",
   "metadata": {},
   "outputs": [],
   "source": [
    "def factorial(n):\n",
    "    res=1\n",
    "    for i in range(1,n+1):\n",
    "        res*= i\n",
    "    return res"
   ]
  },
  {
   "cell_type": "code",
   "execution_count": 33,
   "id": "a9142bd0",
   "metadata": {},
   "outputs": [
    {
     "data": {
      "text/plain": [
       "120"
      ]
     },
     "execution_count": 33,
     "metadata": {},
     "output_type": "execute_result"
    }
   ],
   "source": [
    "factorial(5)"
   ]
  },
  {
   "cell_type": "code",
   "execution_count": 34,
   "id": "dfc9c9eb",
   "metadata": {},
   "outputs": [
    {
     "data": {
      "text/plain": [
       "6.0"
      ]
     },
     "execution_count": 34,
     "metadata": {},
     "output_type": "execute_result"
    }
   ],
   "source": [
    "factorial(4)/(factorial(2)*factorial(4-2))"
   ]
  },
  {
   "cell_type": "markdown",
   "id": "b11c7708",
   "metadata": {},
   "source": [
    "# 이항 함수"
   ]
  },
  {
   "cell_type": "code",
   "execution_count": 39,
   "id": "efeb24a2",
   "metadata": {},
   "outputs": [],
   "source": [
    "def binomal(n,x):\n",
    "    res= factor(n)/(factorial(x)*factorial(n-x))\n",
    "    return res"
   ]
  },
  {
   "cell_type": "code",
   "execution_count": 40,
   "id": "fec3c02c",
   "metadata": {},
   "outputs": [
    {
     "ename": "NameError",
     "evalue": "name 'factor' is not defined",
     "output_type": "error",
     "traceback": [
      "\u001b[0;31m---------------------------------------------------------------------------\u001b[0m",
      "\u001b[0;31mNameError\u001b[0m                                 Traceback (most recent call last)",
      "Cell \u001b[0;32mIn [40], line 1\u001b[0m\n\u001b[0;32m----> 1\u001b[0m \u001b[43mbinomal\u001b[49m\u001b[43m(\u001b[49m\u001b[38;5;241;43m4\u001b[39;49m\u001b[43m,\u001b[49m\u001b[38;5;241;43m2\u001b[39;49m\u001b[43m)\u001b[49m\n",
      "Cell \u001b[0;32mIn [39], line 2\u001b[0m, in \u001b[0;36mbinomal\u001b[0;34m(n, x)\u001b[0m\n\u001b[1;32m      1\u001b[0m \u001b[38;5;28;01mdef\u001b[39;00m \u001b[38;5;21mbinomal\u001b[39m(n,x):\n\u001b[0;32m----> 2\u001b[0m     res\u001b[38;5;241m=\u001b[39m \u001b[43mfactor\u001b[49m(n)\u001b[38;5;241m/\u001b[39m(factorial(x)\u001b[38;5;241m*\u001b[39mfactorial(n\u001b[38;5;241m-\u001b[39mx))\n\u001b[1;32m      3\u001b[0m     \u001b[38;5;28;01mreturn\u001b[39;00m res\n",
      "\u001b[0;31mNameError\u001b[0m: name 'factor' is not defined"
     ]
    }
   ],
   "source": [
    "binomal(4,2)"
   ]
  },
  {
   "cell_type": "code",
   "execution_count": null,
   "id": "fec2ad0b",
   "metadata": {},
   "outputs": [],
   "source": []
  }
 ],
 "metadata": {
  "kernelspec": {
   "display_name": "Python 3 (ipykernel)",
   "language": "python",
   "name": "python3"
  },
  "language_info": {
   "codemirror_mode": {
    "name": "ipython",
    "version": 3
   },
   "file_extension": ".py",
   "mimetype": "text/x-python",
   "name": "python",
   "nbconvert_exporter": "python",
   "pygments_lexer": "ipython3",
   "version": "3.10.4"
  }
 },
 "nbformat": 4,
 "nbformat_minor": 5
}
