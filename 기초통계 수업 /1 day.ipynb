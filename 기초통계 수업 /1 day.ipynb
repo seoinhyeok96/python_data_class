{
 "cells": [
  {
   "cell_type": "code",
   "execution_count": 75,
   "id": "43737b99",
   "metadata": {},
   "outputs": [],
   "source": [
    "import time\n",
    "import pandas as pd\n",
    "import seaborn as sns\n",
    "import numpy as np\n",
    "import matplotlib.pyplot"
   ]
  },
  {
   "cell_type": "markdown",
   "id": "d65187c8",
   "metadata": {},
   "source": [
    "# 시그마 실습"
   ]
  },
  {
   "cell_type": "code",
   "execution_count": 11,
   "id": "61c6e6c2",
   "metadata": {},
   "outputs": [
    {
     "name": "stdout",
     "output_type": "stream",
     "text": [
      "1\n",
      "3\n",
      "6\n",
      "10\n",
      "15\n",
      "21\n",
      "28\n",
      "36\n",
      "45\n",
      "55\n"
     ]
    }
   ],
   "source": [
    "res=0\n",
    "for i in range(1,11):\n",
    "    res=res+i\n",
    "    print(res)"
   ]
  },
  {
   "cell_type": "code",
   "execution_count": 10,
   "id": "ac384196",
   "metadata": {
    "scrolled": true
   },
   "outputs": [
    {
     "data": {
      "text/plain": [
       "55"
      ]
     },
     "execution_count": 10,
     "metadata": {},
     "output_type": "execute_result"
    }
   ],
   "source": [
    "res=0\n",
    "for i in range(1,11):\n",
    "    res=res+i\n",
    "res\n"
   ]
  },
  {
   "cell_type": "code",
   "execution_count": 12,
   "id": "3a2ba509",
   "metadata": {},
   "outputs": [
    {
     "data": {
      "text/plain": [
       "24"
      ]
     },
     "execution_count": 12,
     "metadata": {},
     "output_type": "execute_result"
    }
   ],
   "source": [
    "res=0\n",
    "for i in range(7,10):\n",
    "    res=res+i\n",
    "res"
   ]
  },
  {
   "cell_type": "code",
   "execution_count": 13,
   "id": "ee5872c2",
   "metadata": {},
   "outputs": [
    {
     "data": {
      "text/plain": [
       "27"
      ]
     },
     "execution_count": 13,
     "metadata": {},
     "output_type": "execute_result"
    }
   ],
   "source": [
    "res=0\n",
    "for i in range(1,10):\n",
    "    res=res+3\n",
    "res"
   ]
  },
  {
   "cell_type": "code",
   "execution_count": 14,
   "id": "f134edab",
   "metadata": {},
   "outputs": [
    {
     "data": {
      "text/plain": [
       "165"
      ]
     },
     "execution_count": 14,
     "metadata": {},
     "output_type": "execute_result"
    }
   ],
   "source": [
    "res=0 #0부터 시작\n",
    "for i in range(1,11): #1~10번 반복\n",
    "    res=res+3*i\n",
    "res"
   ]
  },
  {
   "cell_type": "code",
   "execution_count": 22,
   "id": "ce972138",
   "metadata": {},
   "outputs": [
    {
     "data": {
      "text/plain": [
       "-3"
      ]
     },
     "execution_count": 22,
     "metadata": {},
     "output_type": "execute_result"
    }
   ],
   "source": [
    "res=0\n",
    "for i in range(1, 3):\n",
    "    for j in range(1, 4):\n",
    "        res+= i-j\n",
    "res"
   ]
  },
  {
   "cell_type": "markdown",
   "id": "9e3b9924",
   "metadata": {},
   "source": [
    "# 파이 "
   ]
  },
  {
   "cell_type": "code",
   "execution_count": 23,
   "id": "6f8f2d10",
   "metadata": {},
   "outputs": [
    {
     "data": {
      "text/plain": [
       "1"
      ]
     },
     "execution_count": 23,
     "metadata": {},
     "output_type": "execute_result"
    }
   ],
   "source": [
    "res=1\n",
    "for i in range(1,11):\n",
    "    res=res*1\n",
    "res"
   ]
  },
  {
   "cell_type": "code",
   "execution_count": 27,
   "id": "84974e60",
   "metadata": {},
   "outputs": [
    {
     "data": {
      "text/plain": [
       "144"
      ]
     },
     "execution_count": 27,
     "metadata": {},
     "output_type": "execute_result"
    }
   ],
   "source": [
    "res=1\n",
    "for i in range(1,4):\n",
    "    for j in range(4,6):\n",
    "        res*=i-j\n",
    "res"
   ]
  },
  {
   "cell_type": "code",
   "execution_count": 28,
   "id": "e0f03de0",
   "metadata": {},
   "outputs": [
    {
     "data": {
      "text/plain": [
       "120"
      ]
     },
     "execution_count": 28,
     "metadata": {},
     "output_type": "execute_result"
    }
   ],
   "source": [
    "5*4*3*2*1"
   ]
  },
  {
   "cell_type": "markdown",
   "id": "c5a80b23",
   "metadata": {},
   "source": [
    "# 팩토리"
   ]
  },
  {
   "cell_type": "code",
   "execution_count": 32,
   "id": "4b5802aa",
   "metadata": {},
   "outputs": [],
   "source": [
    "def factorial(n):\n",
    "    res=1\n",
    "    for i in range(1,n+1):\n",
    "        res*= i\n",
    "    return res"
   ]
  },
  {
   "cell_type": "code",
   "execution_count": 33,
   "id": "1daf12c7",
   "metadata": {},
   "outputs": [
    {
     "data": {
      "text/plain": [
       "120"
      ]
     },
     "execution_count": 33,
     "metadata": {},
     "output_type": "execute_result"
    }
   ],
   "source": [
    "factorial(5)"
   ]
  },
  {
   "cell_type": "code",
   "execution_count": 34,
   "id": "5e9e0990",
   "metadata": {},
   "outputs": [
    {
     "data": {
      "text/plain": [
       "6.0"
      ]
     },
     "execution_count": 34,
     "metadata": {},
     "output_type": "execute_result"
    }
   ],
   "source": [
    "factorial(4)/(factorial(2)*factorial(4-2))"
   ]
  },
  {
   "cell_type": "markdown",
   "id": "4bb573d2",
   "metadata": {},
   "source": [
    "# 이항 함수"
   ]
  },
  {
   "cell_type": "code",
   "execution_count": 44,
   "id": "a02cf021",
   "metadata": {},
   "outputs": [],
   "source": [
    "res=1\n",
    "def binomal(n,x):\n",
    "    res= factorial(n)/(factorial(x)*factorial(n-x))\n",
    "    return res"
   ]
  },
  {
   "cell_type": "code",
   "execution_count": 45,
   "id": "605b1f92",
   "metadata": {},
   "outputs": [
    {
     "data": {
      "text/plain": [
       "6.0"
      ]
     },
     "execution_count": 45,
     "metadata": {},
     "output_type": "execute_result"
    }
   ],
   "source": [
    "binomal(4,2)"
   ]
  },
  {
   "cell_type": "markdown",
   "id": "7ff0e289",
   "metadata": {},
   "source": [
    "# 지시 함수"
   ]
  },
  {
   "cell_type": "code",
   "execution_count": 46,
   "id": "05b30bcd",
   "metadata": {},
   "outputs": [
    {
     "data": {
      "text/plain": [
       "False"
      ]
     },
     "execution_count": 46,
     "metadata": {},
     "output_type": "execute_result"
    }
   ],
   "source": [
    "x=13\n",
    "x<10"
   ]
  },
  {
   "cell_type": "code",
   "execution_count": 47,
   "id": "716d947a",
   "metadata": {},
   "outputs": [
    {
     "data": {
      "text/plain": [
       "0"
      ]
     },
     "execution_count": 47,
     "metadata": {},
     "output_type": "execute_result"
    }
   ],
   "source": [
    "int(x<10)"
   ]
  },
  {
   "cell_type": "code",
   "execution_count": 48,
   "id": "0489fbe8",
   "metadata": {},
   "outputs": [
    {
     "data": {
      "text/plain": [
       "0.0"
      ]
     },
     "execution_count": 48,
     "metadata": {},
     "output_type": "execute_result"
    }
   ],
   "source": [
    "float(x<10)"
   ]
  },
  {
   "cell_type": "code",
   "execution_count": 52,
   "id": "c15c40aa",
   "metadata": {},
   "outputs": [
    {
     "data": {
      "text/plain": [
       "0"
      ]
     },
     "execution_count": 52,
     "metadata": {},
     "output_type": "execute_result"
    }
   ],
   "source": [
    "res=0.5\n",
    "x=13\n",
    "if x<10:\n",
    "    res=1\n",
    "else:\n",
    "    res=0\n",
    "res"
   ]
  },
  {
   "cell_type": "markdown",
   "id": "8a2a54db",
   "metadata": {},
   "source": [
    "# 자연 상수 e"
   ]
  },
  {
   "cell_type": "code",
   "execution_count": 53,
   "id": "512077f0",
   "metadata": {},
   "outputs": [
    {
     "name": "stdout",
     "output_type": "stream",
     "text": [
      "2.7048138294215285\n"
     ]
    }
   ],
   "source": [
    "n=100\n",
    "e= (1+(1/n))**n\n",
    "print(e)"
   ]
  },
  {
   "cell_type": "code",
   "execution_count": 54,
   "id": "62471297",
   "metadata": {},
   "outputs": [
    {
     "name": "stdout",
     "output_type": "stream",
     "text": [
      "2.7169239322355936\n"
     ]
    }
   ],
   "source": [
    "n=1000\n",
    "e= (1+(1/n))**n\n",
    "print(e)"
   ]
  },
  {
   "cell_type": "code",
   "execution_count": 55,
   "id": "7747a7d1",
   "metadata": {},
   "outputs": [
    {
     "name": "stdout",
     "output_type": "stream",
     "text": [
      "2.7181459268249255\n"
     ]
    }
   ],
   "source": [
    "n=10000\n",
    "e= (1+(1/n))**n\n",
    "print(e)"
   ]
  },
  {
   "cell_type": "code",
   "execution_count": 56,
   "id": "c9c7d227",
   "metadata": {},
   "outputs": [
    {
     "name": "stdout",
     "output_type": "stream",
     "text": [
      "2.7182682371922975\n"
     ]
    }
   ],
   "source": [
    "n=100000\n",
    "e= (1+(1/n))**n\n",
    "print(e)"
   ]
  },
  {
   "cell_type": "code",
   "execution_count": 60,
   "id": "adecd863",
   "metadata": {},
   "outputs": [
    {
     "name": "stdout",
     "output_type": "stream",
     "text": [
      "1.0\n"
     ]
    }
   ],
   "source": [
    "n=100000000000000000000000\n",
    "e= (1+(1/n))**n\n",
    "print(e)\n",
    "# n의숫자가 너무 크면 램에서 감당이 안되서 코드가 제대로 실행이 안됨"
   ]
  },
  {
   "cell_type": "markdown",
   "id": "1713bb19",
   "metadata": {},
   "source": [
    "# min x"
   ]
  },
  {
   "cell_type": "code",
   "execution_count": 66,
   "id": "e86bab8a",
   "metadata": {},
   "outputs": [
    {
     "data": {
      "text/plain": [
       "2"
      ]
     },
     "execution_count": 66,
     "metadata": {},
     "output_type": "execute_result"
    }
   ],
   "source": [
    "x=[4,2,5,9,2]\n",
    "min(x)"
   ]
  },
  {
   "cell_type": "markdown",
   "id": "e547adb5",
   "metadata": {},
   "source": [
    "# argminx  가장작은값의 인덱스를 찾을때"
   ]
  },
  {
   "cell_type": "code",
   "execution_count": 70,
   "id": "3c703617",
   "metadata": {},
   "outputs": [
    {
     "data": {
      "text/plain": [
       "2"
      ]
     },
     "execution_count": 70,
     "metadata": {},
     "output_type": "execute_result"
    }
   ],
   "source": [
    "x=[4,2,8,9,3]\n",
    "min_value=min(x)\n",
    "min_value# min 값"
   ]
  },
  {
   "cell_type": "code",
   "execution_count": 71,
   "id": "4ded6401",
   "metadata": {},
   "outputs": [
    {
     "data": {
      "text/plain": [
       "1"
      ]
     },
     "execution_count": 71,
     "metadata": {},
     "output_type": "execute_result"
    }
   ],
   "source": [
    "x.index(min_value)"
   ]
  },
  {
   "cell_type": "code",
   "execution_count": 72,
   "id": "a79a6a18",
   "metadata": {},
   "outputs": [],
   "source": [
    "# numpy 을 이용하여 min 과 argmin 찾아보기"
   ]
  },
  {
   "cell_type": "code",
   "execution_count": 76,
   "id": "5ee09686",
   "metadata": {},
   "outputs": [
    {
     "data": {
      "text/plain": [
       "2"
      ]
     },
     "execution_count": 76,
     "metadata": {},
     "output_type": "execute_result"
    }
   ],
   "source": [
    "np.min(x)"
   ]
  },
  {
   "cell_type": "code",
   "execution_count": 77,
   "id": "6b29e76b",
   "metadata": {},
   "outputs": [
    {
     "data": {
      "text/plain": [
       "1"
      ]
     },
     "execution_count": 77,
     "metadata": {},
     "output_type": "execute_result"
    }
   ],
   "source": [
    "np.argmin(x)"
   ]
  },
  {
   "cell_type": "code",
   "execution_count": null,
   "id": "05a3a8ba",
   "metadata": {},
   "outputs": [],
   "source": []
  }
 ],
 "metadata": {
  "kernelspec": {
   "display_name": "Python 3",
   "language": "python",
   "name": "python3"
  },
  "language_info": {
   "codemirror_mode": {
    "name": "ipython",
    "version": 3
   },
   "file_extension": ".py",
   "mimetype": "text/x-python",
   "name": "python",
   "nbconvert_exporter": "python",
   "pygments_lexer": "ipython3",
   "version": "3.6.13"
  }
 },
 "nbformat": 4,
 "nbformat_minor": 5
}
