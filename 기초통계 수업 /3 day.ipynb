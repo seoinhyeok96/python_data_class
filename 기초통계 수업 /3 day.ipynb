{
 "cells": [
  {
   "cell_type": "code",
   "execution_count": 1,
   "id": "bf3a0653",
   "metadata": {},
   "outputs": [],
   "source": [
    "import pandas as pd\n",
    "import matplotlib.pyplot as plt\n",
    "import matplotlib\n",
    "import numpy as np\n",
    "import seaborn as sns"
   ]
  },
  {
   "cell_type": "markdown",
   "id": "68c985d5",
   "metadata": {},
   "source": [
    "# 감파 분포"
   ]
  },
  {
   "cell_type": "code",
   "execution_count": 3,
   "id": "a6884ab0",
   "metadata": {},
   "outputs": [],
   "source": [
    "x= np.random.gamma(shape=2,scale=3,size=30)"
   ]
  },
  {
   "cell_type": "code",
   "execution_count": 4,
   "id": "2687bf9a",
   "metadata": {},
   "outputs": [
    {
     "data": {
      "image/png": "[encoded data removed]",
      "text/plain": [
       "<Figure size 432x288 with 1 Axes>"
      ]
     },
     "metadata": {
      "needs_background": "light"
     },
     "output_type": "display_data"
    }
   ],
   "source": [
    "plt.hist(x,bins=30)\n",
    "plt.show()"
   ]
  },
  {
   "cell_type": "markdown",
   "id": "df6e016c",
   "metadata": {},
   "source": [
    "# 지수 분포"
   ]
  },
  {
   "cell_type": "code",
   "execution_count": 5,
   "id": "2185d610",
   "metadata": {},
   "outputs": [],
   "source": [
    "y= np.random.exponential(scale=2,size=1000)"
   ]
  },
  {
   "cell_type": "code",
   "execution_count": 6,
   "id": "aae5713c",
   "metadata": {},
   "outputs": [
    {
     "data": {
      "image/png": "[encoded data removed]",
      "text/plain": [
       "<Figure size 432x288 with 1 Axes>"
      ]
     },
     "metadata": {
      "needs_background": "light"
     },
     "output_type": "display_data"
    }
   ],
   "source": [
    "plt.hist(y,bins=30)\n",
    "plt.show()"
   ]
  },
  {
   "cell_type": "markdown",
   "id": "43ad84c7",
   "metadata": {},
   "source": [
    "# 카이제곱 분포"
   ]
  },
  {
   "cell_type": "code",
   "execution_count": 10,
   "id": "4f1acb06",
   "metadata": {},
   "outputs": [],
   "source": [
    "z= np.random.chisquare(df=3,size=1000)"
   ]
  },
  {
   "cell_type": "code",
   "execution_count": 11,
   "id": "2ce3bd9a",
   "metadata": {},
   "outputs": [
    {
     "data": {
      "image/png": "[encoded data removed]",
      "text/plain": [
       "<Figure size 432x288 with 1 Axes>"
      ]
     },
     "metadata": {
      "needs_background": "light"
     },
     "output_type": "display_data"
    }
   ],
   "source": [
    "plt.hist(z,bins=30)\n",
    "plt.show()"
   ]
  },
  {
   "cell_type": "code",
   "execution_count": null,
   "id": "1e1dbc7f",
   "metadata": {},
   "outputs": [],
   "source": []
  }
 ],
 "metadata": {
  "kernelspec": {
   "display_name": "Python 3",
   "language": "python",
   "name": "python3"
  },
  "language_info": {
   "codemirror_mode": {
    "name": "ipython",
    "version": 3
   },
   "file_extension": ".py",
   "mimetype": "text/x-python",
   "name": "python",
   "nbconvert_exporter": "python",
   "pygments_lexer": "ipython3",
   "version": "3.6.13"
  }
 },
 "nbformat": 4,
 "nbformat_minor": 5
}
