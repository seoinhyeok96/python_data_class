{
 "cells": [
  {
   "cell_type": "code",
   "execution_count": 2,
   "metadata": {},
   "outputs": [],
   "source": [
    "from selenium import webdriver\n",
    "from selenium.webdriver.common.by import By\n",
    "from selenium.webdriver.common.keys import Keys"
   ]
  },
  {
   "cell_type": "code",
   "execution_count": 3,
   "metadata": {},
   "outputs": [],
   "source": [
    "import requests\n",
    "from bs4 import BeautifulSoup"
   ]
  },
  {
   "cell_type": "code",
   "execution_count": 4,
   "metadata": {
    "scrolled": false
   },
   "outputs": [],
   "source": [
    "url = \"https://search.naver.com/search.naver?sm=tab_hty.top&where=nexearch&query=%ED%99%98%EC%9C%A8%EC%A0%95%EB%B3%B4&oquery=%EC%84%9C%EC%9A%B8%EB%82%A0%EC%94%A8&tqi=hly6Msp0JywssQmFnOhssssst0w-148262\"\n",
    "res = requests.get(url)"
   ]
  },
  {
   "cell_type": "code",
   "execution_count": 5,
   "metadata": {},
   "outputs": [],
   "source": [
    "soup = BeautifulSoup(res.content, 'html.parser')"
   ]
  },
  {
   "cell_type": "code",
   "execution_count": 6,
   "metadata": {},
   "outputs": [
    {
     "name": "stdout",
     "output_type": "stream",
     "text": [
      "==============================\n",
      "1번째입니다.\n",
      "<tr class=\"up\"> <th><a href=\"?where=nexearch&amp;sm=tab_etc&amp;mra=bk01&amp;qvt=0&amp;query=%EB%AF%B8%EA%B5%AD%ED%99%98%EC%9C%A8\" nocr=\"\" onclick=\"return goOtherCR(this, 'a=nco_x5m*a.list&amp;r=1&amp;i=0800042F_00000028AC42&amp;u=' + urlencode(this.href));\"><span>미국 <em>USD</em></span></a></th> <td><span>1,423.00</span></td> <td class=\"flu_nm\"><span class=\"blind\">전일대비</span><span class=\"ico\">상승</span><em>3.00</em></td> <td class=\"flu_pct\"><span>+0.21%</span></td> </tr>\n",
      "미국 USD\n",
      "1423.00\n",
      "3.00\n",
      "+0.21%\n",
      "==============================\n",
      "2번째입니다.\n",
      "<tr class=\"up\"> <th><a href=\"?where=nexearch&amp;sm=tab_etc&amp;mra=bk01&amp;qvt=0&amp;query=%EC%9D%BC%EB%B3%B8%ED%99%98%EC%9C%A8\" nocr=\"\" onclick=\"return goOtherCR(this, 'a=nco_x5m*a.list&amp;r=1&amp;i=0800042F_00000028AC42&amp;u=' + urlencode(this.href));\"><span>일본 <em>JPY 100</em></span></a></th> <td><span>973.96</span></td> <td class=\"flu_nm\"><span class=\"blind\">전일대비</span><span class=\"ico\">상승</span><em>6.10</em></td> <td class=\"flu_pct\"><span>+0.63%</span></td> </tr>\n",
      "일본 JPY 100\n",
      "973.96\n",
      "6.10\n",
      "+0.63%\n",
      "==============================\n",
      "3번째입니다.\n",
      "<tr class=\"up\"> <th><a href=\"?where=nexearch&amp;sm=tab_etc&amp;mra=bk01&amp;qvt=0&amp;query=%EC%9C%A0%EB%9F%BD%EC%97%B0%ED%95%A9%ED%99%98%EC%9C%A8\" nocr=\"\" onclick=\"return goOtherCR(this, 'a=nco_x5m*a.list&amp;r=1&amp;i=0800042F_00000028AC42&amp;u=' + urlencode(this.href));\"><span>유럽연합 <em>EUR</em></span></a></th> <td><span>1,424.71</span></td> <td class=\"flu_nm\"><span class=\"blind\">전일대비</span><span class=\"ico\">상승</span><em>0.31</em></td> <td class=\"flu_pct\"><span>+0.02%</span></td> </tr>\n",
      "유럽연합 EUR\n",
      "1424.71\n",
      "0.31\n",
      "+0.02%\n",
      "==============================\n",
      "4번째입니다.\n",
      "<tr class=\"dw\"> <th><a href=\"?where=nexearch&amp;sm=tab_etc&amp;mra=bk01&amp;qvt=0&amp;query=%EC%A4%91%EA%B5%AD%ED%99%98%EC%9C%A8\" nocr=\"\" onclick=\"return goOtherCR(this, 'a=nco_x5m*a.list&amp;r=1&amp;i=0800042F_00000028AC42&amp;u=' + urlencode(this.href));\"><span>중국 <em>CNY</em></span></a></th> <td><span>196.32</span></td> <td class=\"flu_nm\"><span class=\"blind\">전일대비</span><span class=\"ico\">하락</span><em>0.47</em></td> <td class=\"flu_pct\"><span>-0.24%</span></td> </tr>\n",
      "중국 CNY\n",
      "196.32\n",
      "0.47\n",
      "-0.24%\n",
      "==============================\n",
      "5번째입니다.\n",
      "<tr class=\"up\"> <th><a href=\"?where=nexearch&amp;sm=tab_etc&amp;mra=bk01&amp;qvt=0&amp;query=%EC%98%81%EA%B5%AD%ED%99%98%EC%9C%A8\" nocr=\"\" onclick=\"return goOtherCR(this, 'a=nco_x5m*a.list&amp;r=1&amp;i=0800042F_00000028AC42&amp;u=' + urlencode(this.href));\"><span>영국 <em>GBP</em></span></a></th> <td><span>1,649.54</span></td> <td class=\"flu_nm\"><span class=\"blind\">전일대비</span><span class=\"ico\">상승</span><em>6.17</em></td> <td class=\"flu_pct\"><span>+0.38%</span></td> </tr>\n",
      "영국 GBP\n",
      "1649.54\n",
      "6.17\n",
      "+0.38%\n",
      "==============================\n",
      "6번째입니다.\n",
      "<tr class=\"up\"> <th><a href=\"?where=nexearch&amp;sm=tab_etc&amp;mra=bk01&amp;qvt=0&amp;query=%ED%98%B8%EC%A3%BC%ED%99%98%EC%9C%A8\" nocr=\"\" onclick=\"return goOtherCR(this, 'a=nco_x5m*a.list&amp;r=1&amp;i=0800042F_00000028AC42&amp;u=' + urlencode(this.href));\"><span>호주 <em>AUD</em></span></a></th> <td><span>921.32</span></td> <td class=\"flu_nm\"><span class=\"blind\">전일대비</span><span class=\"ico\">상승</span><em>3.15</em></td> <td class=\"flu_pct\"><span>+0.34%</span></td> </tr>\n",
      "호주 AUD\n",
      "921.32\n",
      "3.15\n",
      "+0.34%\n",
      "==============================\n",
      "7번째입니다.\n",
      "<tr class=\"up\"> <th><a href=\"?where=nexearch&amp;sm=tab_etc&amp;mra=bk01&amp;qvt=0&amp;query=%EC%BA%90%EB%82%98%EB%8B%A4%ED%99%98%EC%9C%A8\" nocr=\"\" onclick=\"return goOtherCR(this, 'a=nco_x5m*a.list&amp;r=1&amp;i=0800042F_00000028AC42&amp;u=' + urlencode(this.href));\"><span>캐나다 <em>CAD</em></span></a></th> <td><span>1,051.35</span></td> <td class=\"flu_nm\"><span class=\"blind\">전일대비</span><span class=\"ico\">상승</span><em>6.46</em></td> <td class=\"flu_pct\"><span>+0.62%</span></td> </tr>\n",
      "캐나다 CAD\n",
      "1051.35\n",
      "6.46\n",
      "+0.62%\n",
      "==============================\n",
      "8번째입니다.\n",
      "<tr class=\"up\"> <th><a href=\"?where=nexearch&amp;sm=tab_etc&amp;mra=bk01&amp;qvt=0&amp;query=%EB%89%B4%EC%A7%88%EB%9E%9C%EB%93%9C%ED%99%98%EC%9C%A8\" nocr=\"\" onclick=\"return goOtherCR(this, 'a=nco_x5m*a.list&amp;r=1&amp;i=0800042F_00000028AC42&amp;u=' + urlencode(this.href));\"><span>뉴질랜드 <em>NZD</em></span></a></th> <td><span>830.61</span></td> <td class=\"flu_nm\"><span class=\"blind\">전일대비</span><span class=\"ico\">상승</span><em>7.01</em></td> <td class=\"flu_pct\"><span>+0.85%</span></td> </tr>\n",
      "뉴질랜드 NZD\n",
      "830.61\n",
      "7.01\n",
      "+0.85%\n"
     ]
    }
   ],
   "source": [
    "import requests\n",
    "from bs4 import BeautifulSoup\n",
    "\n",
    "url = \"https://search.naver.com/search.naver?sm=tab_hty.top&where=nexearch&query=%ED%99%98%EC%9C%A8%EC%A0%95%EB%B3%B4&oquery=%EC%84%9C%EC%9A%B8%EB%82%A0%EC%94%A8&tqi=hly6Msp0JywssQmFnOhssssst0w-148262\"\n",
    "res = requests.get(url)\n",
    "\n",
    "soup = BeautifulSoup(res.content, 'html.parser')\n",
    "\n",
    "table = soup.find(\"table\", attrs={\"class\":\"rate_table_info\"}).find(\"tbody\").find_all(\"tr\")\n",
    "# print(table)\n",
    "\n",
    "index = 0 \n",
    "for row in table:\n",
    "    index = index + 1\n",
    "    print(\"=\" * 30)\n",
    "    print(str(index) + \"번째입니다.\")\n",
    "    print(row)\n",
    "    \n",
    "    국가이름 = row.find(\"th\").find(\"span\").get_text()\n",
    "    print(국가이름)\n",
    "\n",
    "    매매기준율 = row.find(\"td\").find(\"span\").get_text()\n",
    "    매매기준율 = 매매기준율.replace(\",\", \"\")\n",
    "    print(매매기준율)\n",
    "\n",
    "    전일대비 = row.find(\"td\", attrs={\"class\":\"flu_nm\"}).find(\"em\").get_text()\n",
    "    print(전일대비)\n",
    "\n",
    "    등락률 = row.find(\"td\", attrs={\"class\":\"flu_pct\"}).find(\"span\").get_text()\n",
    "    print(등락률)\n",
    "    \n",
    "    file = open(\"Exchange Rate.csv\", \"a\", encoding='UTF-8-sig')\n",
    "    file.write(\"{}, {}, {}, {} \\n\".format(국가이름, 매매기준율, 전일대비, 등락률))\n",
    "    file.close()"
   ]
  },
  {
   "cell_type": "code",
   "execution_count": null,
   "metadata": {},
   "outputs": [],
   "source": []
  }
 ],
 "metadata": {
  "kernelspec": {
   "display_name": "Python 3 (ipykernel)",
   "language": "python",
   "name": "python3"
  },
  "language_info": {
   "codemirror_mode": {
    "name": "ipython",
    "version": 3
   },
   "file_extension": ".py",
   "mimetype": "text/x-python",
   "name": "python",
   "nbconvert_exporter": "python",
   "pygments_lexer": "ipython3",
   "version": "3.9.7"
  },
  "vscode": {
   "interpreter": {
    "hash": "aee8b7b246df8f9039afb4144a1f6fd8d2ca17a180786b69acc140d282b71a49"
   }
  }
 },
 "nbformat": 4,
 "nbformat_minor": 2
}
