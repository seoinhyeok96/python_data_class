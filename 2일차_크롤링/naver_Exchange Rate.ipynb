{
 "cells": [
  {
   "cell_type": "code",
   "execution_count": 1,
   "metadata": {},
   "outputs": [],
   "source": [
    "from selenium import webdriver\n",
    "from selenium.webdriver.common.by import By\n",
    "from selenium.webdriver.common.keys import Keys"
   ]
  },
  {
   "cell_type": "code",
   "execution_count": 2,
   "metadata": {},
   "outputs": [
    {
     "name": "stderr",
     "output_type": "stream",
     "text": [
      "/var/folders/l0/rmt5_xrn6vb4901n4j9dj7n40000gn/T/ipykernel_25873/3449416477.py:2: DeprecationWarning: executable_path has been deprecated, please pass in a Service object\n",
      "  browser = webdriver.Chrome(PATH)\n"
     ]
    }
   ],
   "source": [
    "PATH = \"/Users/seoinhyeog/Desktop/chromedriver\"\n",
    "browser = webdriver.Chrome(PATH)\n",
    "browser.get(\"https://search.naver.com/search.naver?ie=UTF-8&query=%EB%84%A4%EC%9D%B4%EB%B2%84%ED%99%98%EC%9C%A8&sm=chr_hty\")"
   ]
  },
  {
   "cell_type": "code",
   "execution_count": 3,
   "metadata": {},
   "outputs": [
    {
     "name": "stdout",
     "output_type": "stream",
     "text": [
      "통화명\n",
      "미국 USD\n",
      "일본 JPY 100\n",
      "유럽연합 EUR\n",
      "중국 CNY\n",
      "영국 GBP\n",
      "호주 AUD\n",
      "캐나다 CAD\n",
      "뉴질랜드 NZD\n"
     ]
    }
   ],
   "source": [
    "table = browser.find_element(By.CLASS_NAME, 'rate_table_bx')\n",
    "rows = table.find_elements(By.TAG_NAME, 'tr')\n",
    "\n",
    "\n",
    "for row in rows:\n",
    "#     print(row.text)\n",
    "    country_name = row.find_element(By.TAG_NAME, 'th').text\n",
    "    \n",
    "    print(country_name)\n",
    "    "
   ]
  },
  {
   "cell_type": "code",
   "execution_count": 9,
   "metadata": {
    "scrolled": false
   },
   "outputs": [
    {
     "data": {
      "text/plain": [
       "['호주 AUD\\n916.27\\n전일대비\\n하락1.90\\n-0.21%']"
      ]
     },
     "execution_count": 9,
     "metadata": {},
     "output_type": "execute_result"
    }
   ],
   "source": [
    "#리스트에 담아서 0번째에서 빼면 삭제됨\n",
    "down=browser.find_elements(By.CLASS_NAME, 'dw')\n",
    "\n",
    "downRate = []\n",
    "for i in down:\n",
    "    (i.text)\n",
    "    downRate.append(i.text)\n",
    "\n",
    "    downRate_list=downRate[1:]\n",
    "\n",
    "downRate_list"
   ]
  },
  {
   "cell_type": "code",
   "execution_count": 5,
   "metadata": {},
   "outputs": [
    {
     "name": "stdout",
     "output_type": "stream",
     "text": [
      "지수\n",
      "1,424.00\n",
      "전일대비\n",
      "상승4.00 (+0.28%)\n",
      "미국 USD\n",
      "1,424.00\n",
      "전일대비\n",
      "상승4.00\n",
      "+0.28%\n",
      "일본 JPY 100\n",
      "969.93\n",
      "전일대비\n",
      "상승2.07\n",
      "+0.21%\n",
      "유럽연합 EUR\n",
      "1,428.13\n",
      "전일대비\n",
      "상승3.73\n",
      "+0.26%\n",
      "영국 GBP\n",
      "1,646.86\n",
      "전일대비\n",
      "상승3.49\n",
      "+0.21%\n",
      "캐나다 CAD\n",
      "1,045.25\n",
      "전일대비\n",
      "상승0.36\n",
      "+0.03%\n",
      "뉴질랜드 NZD\n",
      "825.28\n",
      "전일대비\n",
      "상승1.68\n",
      "+0.20%\n"
     ]
    }
   ],
   "source": [
    "up=browser.find_elements(By.CLASS_NAME, 'up')\n",
    "\n",
    "for i  in up:\n",
    "    print(i.text)"
   ]
  },
  {
   "cell_type": "code",
   "execution_count": 6,
   "metadata": {},
   "outputs": [
    {
     "data": {
      "text/plain": [
       "['지수\\n1,424.00\\n전일대비\\n상승4.00 (+0.28%)',\n",
       " '미국 USD\\n1,424.00\\n전일대비\\n상승4.00\\n+0.28%',\n",
       " '일본 JPY 100\\n969.93\\n전일대비\\n상승2.07\\n+0.21%',\n",
       " '유럽연합 EUR\\n1,428.13\\n전일대비\\n상승3.73\\n+0.26%',\n",
       " '영국 GBP\\n1,646.86\\n전일대비\\n상승3.49\\n+0.21%',\n",
       " '캐나다 CAD\\n1,045.25\\n전일대비\\n상승0.36\\n+0.03%',\n",
       " '뉴질랜드 NZD\\n825.28\\n전일대비\\n상승1.68\\n+0.20%']"
      ]
     },
     "execution_count": 6,
     "metadata": {},
     "output_type": "execute_result"
    }
   ],
   "source": [
    "up=browser.find_elements(By.CLASS_NAME, 'up')\n",
    "\n",
    "upRate = []\n",
    "for i in up:\n",
    "    (i.text)\n",
    "    upRate.append(i.text)\n",
    "upRate "
   ]
  },
  {
   "cell_type": "code",
   "execution_count": 45,
   "metadata": {},
   "outputs": [],
   "source": [
    "# 파일 만들기\n",
    "file = open(\"Exchange Rate.csv\", \"a\", encoding=\"UTF-8-sig\")\n",
    "\n",
    "for i in range(len(upRate))\n",
    "\n",
    "file.write(\"{}, {}, {}\".format())\n",
    "file.close()"
   ]
  },
  {
   "cell_type": "code",
   "execution_count": null,
   "metadata": {},
   "outputs": [],
   "source": []
  }
 ],
 "metadata": {
  "kernelspec": {
   "display_name": "Python 3 (ipykernel)",
   "language": "python",
   "name": "python3"
  },
  "language_info": {
   "codemirror_mode": {
    "name": "ipython",
    "version": 3
   },
   "file_extension": ".py",
   "mimetype": "text/x-python",
   "name": "python",
   "nbconvert_exporter": "python",
   "pygments_lexer": "ipython3",
   "version": "3.9.7"
  },
  "vscode": {
   "interpreter": {
    "hash": "aee8b7b246df8f9039afb4144a1f6fd8d2ca17a180786b69acc140d282b71a49"
   }
  }
 },
 "nbformat": 4,
 "nbformat_minor": 2
}
