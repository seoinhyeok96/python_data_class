{
 "cells": [
  {
   "cell_type": "code",
   "execution_count": 6,
   "metadata": {},
   "outputs": [],
   "source": [
    "from selenium import webdriver\n",
    "from selenium.webdriver.common.by import By\n",
    "from selenium.webdriver.common.keys import Keys"
   ]
  },
  {
   "cell_type": "code",
   "execution_count": 7,
   "metadata": {},
   "outputs": [
    {
     "name": "stderr",
     "output_type": "stream",
     "text": [
      "/var/folders/l0/rmt5_xrn6vb4901n4j9dj7n40000gn/T/ipykernel_36533/3449416477.py:2: DeprecationWarning: executable_path has been deprecated, please pass in a Service object\n",
      "  browser = webdriver.Chrome(PATH)\n"
     ]
    }
   ],
   "source": [
    "PATH = \"/Users/seoinhyeog/Desktop/chromedriver\"\n",
    "browser = webdriver.Chrome(PATH)\n",
    "browser.get(\"https://search.naver.com/search.naver?ie=UTF-8&query=%EB%84%A4%EC%9D%B4%EB%B2%84%ED%99%98%EC%9C%A8&sm=chr_hty\")"
   ]
  },
  {
   "cell_type": "code",
   "execution_count": 8,
   "metadata": {},
   "outputs": [
    {
     "name": "stdout",
     "output_type": "stream",
     "text": [
      "통화명\n",
      "미국 USD\n",
      "일본 JPY 100\n",
      "유럽연합 EUR\n",
      "중국 CNY\n",
      "영국 GBP\n",
      "호주 AUD\n",
      "캐나다 CAD\n",
      "뉴질랜드 NZD\n"
     ]
    }
   ],
   "source": [
    "table = browser.find_element(By.CLASS_NAME, 'rate_table_bx')\n",
    "rows = table.find_elements(By.TAG_NAME, 'tr')\n",
    "\n",
    "\n",
    "for row in rows:\n",
    "#     print(row.text)\n",
    "    country_name = row.find_element(By.TAG_NAME, 'th').text\n",
    "    \n",
    "    print(country_name)"
   ]
  },
  {
   "cell_type": "code",
   "execution_count": null,
   "metadata": {},
   "outputs": [],
   "source": []
  }
 ],
 "metadata": {
  "kernelspec": {
   "display_name": "Python 3 (ipykernel)",
   "language": "python",
   "name": "python3"
  },
  "language_info": {
   "codemirror_mode": {
    "name": "ipython",
    "version": 3
   },
   "file_extension": ".py",
   "mimetype": "text/x-python",
   "name": "python",
   "nbconvert_exporter": "python",
   "pygments_lexer": "ipython3",
   "version": "3.9.7"
  },
  "vscode": {
   "interpreter": {
    "hash": "aee8b7b246df8f9039afb4144a1f6fd8d2ca17a180786b69acc140d282b71a49"
   }
  }
 },
 "nbformat": 4,
 "nbformat_minor": 2
}
