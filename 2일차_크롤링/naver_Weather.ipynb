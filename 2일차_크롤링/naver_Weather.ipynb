{
 "cells": [
  {
   "cell_type": "markdown",
   "id": "b183838e",
   "metadata": {},
   "source": [
    "크롤링 기초"
   ]
  },
  {
   "cell_type": "code",
   "execution_count": 1,
   "id": "272234ee",
   "metadata": {},
   "outputs": [
    {
     "name": "stdout",
     "output_type": "stream",
     "text": [
      "Requirement already satisfied: selenium in /Users/seoinhyeog/opt/anaconda3/lib/python3.9/site-packages (4.4.3)\n",
      "Requirement already satisfied: urllib3[socks]~=1.26 in /Users/seoinhyeog/opt/anaconda3/lib/python3.9/site-packages (from selenium) (1.26.7)\n",
      "Requirement already satisfied: trio~=0.17 in /Users/seoinhyeog/opt/anaconda3/lib/python3.9/site-packages (from selenium) (0.21.0)\n",
      "Requirement already satisfied: trio-websocket~=0.9 in /Users/seoinhyeog/opt/anaconda3/lib/python3.9/site-packages (from selenium) (0.9.2)\n",
      "Requirement already satisfied: certifi>=2021.10.8 in /Users/seoinhyeog/opt/anaconda3/lib/python3.9/site-packages (from selenium) (2021.10.8)\n",
      "Requirement already satisfied: outcome in /Users/seoinhyeog/opt/anaconda3/lib/python3.9/site-packages (from trio~=0.17->selenium) (1.2.0)\n",
      "Requirement already satisfied: async-generator>=1.9 in /Users/seoinhyeog/opt/anaconda3/lib/python3.9/site-packages (from trio~=0.17->selenium) (1.10)\n",
      "Requirement already satisfied: sortedcontainers in /Users/seoinhyeog/opt/anaconda3/lib/python3.9/site-packages (from trio~=0.17->selenium) (2.4.0)\n",
      "Requirement already satisfied: idna in /Users/seoinhyeog/opt/anaconda3/lib/python3.9/site-packages (from trio~=0.17->selenium) (3.2)\n",
      "Requirement already satisfied: sniffio in /Users/seoinhyeog/opt/anaconda3/lib/python3.9/site-packages (from trio~=0.17->selenium) (1.2.0)\n",
      "Requirement already satisfied: attrs>=19.2.0 in /Users/seoinhyeog/opt/anaconda3/lib/python3.9/site-packages (from trio~=0.17->selenium) (21.2.0)\n",
      "Requirement already satisfied: wsproto>=0.14 in /Users/seoinhyeog/opt/anaconda3/lib/python3.9/site-packages (from trio-websocket~=0.9->selenium) (1.2.0)\n",
      "Requirement already satisfied: PySocks!=1.5.7,<2.0,>=1.5.6 in /Users/seoinhyeog/opt/anaconda3/lib/python3.9/site-packages (from urllib3[socks]~=1.26->selenium) (1.7.1)\n",
      "Requirement already satisfied: h11<1,>=0.9.0 in /Users/seoinhyeog/opt/anaconda3/lib/python3.9/site-packages (from wsproto>=0.14->trio-websocket~=0.9->selenium) (0.13.0)\n",
      "Note: you may need to restart the kernel to use updated packages.\n"
     ]
    }
   ],
   "source": [
    "pip install selenium"
   ]
  },
  {
   "cell_type": "code",
   "execution_count": 81,
   "id": "15d56c56",
   "metadata": {},
   "outputs": [],
   "source": [
    "from selenium import webdriver\n",
    "from selenium.webdriver.common.by import By\n",
    "from selenium.webdriver.common.keys import Keys"
   ]
  },
  {
   "cell_type": "code",
   "execution_count": 44,
   "id": "ea06acd0",
   "metadata": {},
   "outputs": [
    {
     "name": "stderr",
     "output_type": "stream",
     "text": [
      "/var/folders/l0/rmt5_xrn6vb4901n4j9dj7n40000gn/T/ipykernel_87488/923218208.py:3: DeprecationWarning: executable_path has been deprecated, please pass in a Service object\n",
      "  browser = webdriver.Chrome(PATH)\n"
     ]
    }
   ],
   "source": [
    "#크롬드라이버를 데스크탑으로 옮겨  패스라는 변수로 담아서 지정해줌 \n",
    "PATH = \"/Users/seoinhyeog/Desktop/chromedriver\"\n",
    "browser = webdriver.Chrome(PATH)\n",
    "#네이버 링크로 이동시켜줘\n",
    "browser.get(\"http://naver.com\")"
   ]
  },
  {
   "cell_type": "code",
   "execution_count": 36,
   "id": "6465748d",
   "metadata": {},
   "outputs": [],
   "source": [
    "#요소를 찾아줘 아이디가 'query' 걸로\n",
    "browser.find_element(By.ID, 'query').click()"
   ]
  },
  {
   "cell_type": "code",
   "execution_count": 45,
   "id": "d90787a3",
   "metadata": {},
   "outputs": [],
   "source": [
    "#날씨검색\n",
    "browser.find_element(By.ID, 'query').send_keys(\"날씨\")"
   ]
  },
  {
   "cell_type": "code",
   "execution_count": 46,
   "id": "89942305",
   "metadata": {},
   "outputs": [],
   "source": [
    "browser.find_element(By.ID, 'search_btn').click()"
   ]
  },
  {
   "cell_type": "code",
   "execution_count": 50,
   "id": "b525b804",
   "metadata": {},
   "outputs": [],
   "source": [
    "#검색창 클릭\n",
    "browser.find_element(By.ID, 'nx_query').click()"
   ]
  },
  {
   "cell_type": "code",
   "execution_count": 51,
   "id": "3a270369",
   "metadata": {},
   "outputs": [],
   "source": [
    "# 검색창안에 있는 글씨 지우기\n",
    "browser.find_element(By.ID, 'nx_query').clear()"
   ]
  },
  {
   "cell_type": "code",
   "execution_count": 57,
   "id": "c7f8748a",
   "metadata": {},
   "outputs": [
    {
     "ename": "InvalidSelectorException",
     "evalue": "Message: invalid selector: An invalid or illegal selector was specified\n  (Session info: chrome=106.0.5249.119)\nStacktrace:\n0   chromedriver                        0x000000010ac4d598 chromedriver + 4404632\n1   chromedriver                        0x000000010abd4fa3 chromedriver + 3911587\n2   chromedriver                        0x000000010a881e6a chromedriver + 425578\n3   chromedriver                        0x000000010a885037 chromedriver + 438327\n4   chromedriver                        0x000000010a884ed7 chromedriver + 437975\n5   chromedriver                        0x000000010a88519c chromedriver + 438684\n6   chromedriver                        0x000000010a8b99a0 chromedriver + 653728\n7   chromedriver                        0x000000010a8b9e91 chromedriver + 654993\n8   chromedriver                        0x000000010a8f1274 chromedriver + 881268\n9   chromedriver                        0x000000010a8d7dcd chromedriver + 777677\n10  chromedriver                        0x000000010a8eef79 chromedriver + 872313\n11  chromedriver                        0x000000010a8d7bd3 chromedriver + 777171\n12  chromedriver                        0x000000010a8acced chromedriver + 601325\n13  chromedriver                        0x000000010a8ade51 chromedriver + 605777\n14  chromedriver                        0x000000010ac1d0ce chromedriver + 4206798\n15  chromedriver                        0x000000010ac21797 chromedriver + 4224919\n16  chromedriver                        0x000000010ac28a4f chromedriver + 4254287\n17  chromedriver                        0x000000010ac224da chromedriver + 4228314\n18  chromedriver                        0x000000010abfb23f chromedriver + 4067903\n19  chromedriver                        0x000000010ac3f6a8 chromedriver + 4347560\n20  chromedriver                        0x000000010ac3f816 chromedriver + 4347926\n21  chromedriver                        0x000000010ac548fe chromedriver + 4434174\n22  libsystem_pthread.dylib             0x00007fff6dd62109 _pthread_start + 148\n23  libsystem_pthread.dylib             0x00007fff6dd5db8b thread_start + 15\n",
     "output_type": "error",
     "traceback": [
      "\u001b[0;31m---------------------------------------------------------------------------\u001b[0m",
      "\u001b[0;31mInvalidSelectorException\u001b[0m                  Traceback (most recent call last)",
      "\u001b[0;32m/var/folders/l0/rmt5_xrn6vb4901n4j9dj7n40000gn/T/ipykernel_87488/3179484544.py\u001b[0m in \u001b[0;36m<module>\u001b[0;34m\u001b[0m\n\u001b[1;32m      1\u001b[0m \u001b[0;31m# 환율 텍스트 넣기\u001b[0m\u001b[0;34m\u001b[0m\u001b[0;34m\u001b[0m\u001b[0m\n\u001b[1;32m      2\u001b[0m \u001b[0mbrowser\u001b[0m\u001b[0;34m.\u001b[0m\u001b[0mfind_element\u001b[0m\u001b[0;34m(\u001b[0m\u001b[0mBy\u001b[0m\u001b[0;34m.\u001b[0m\u001b[0mID\u001b[0m\u001b[0;34m,\u001b[0m \u001b[0;34m'nx_query'\u001b[0m\u001b[0;34m)\u001b[0m\u001b[0;34m.\u001b[0m\u001b[0msend_keys\u001b[0m\u001b[0;34m(\u001b[0m\u001b[0;34m\"환율\"\u001b[0m\u001b[0;34m)\u001b[0m\u001b[0;34m\u001b[0m\u001b[0;34m\u001b[0m\u001b[0m\n\u001b[0;32m----> 3\u001b[0;31m \u001b[0mbrowser\u001b[0m\u001b[0;34m.\u001b[0m\u001b[0mfind_element\u001b[0m\u001b[0;34m(\u001b[0m\u001b[0mBy\u001b[0m\u001b[0;34m.\u001b[0m\u001b[0mID\u001b[0m\u001b[0;34m,\u001b[0m \u001b[0;34m'<i class=\"spnew ico_search\">검색</i>'\u001b[0m\u001b[0;34m)\u001b[0m\u001b[0;34m.\u001b[0m\u001b[0mclick\u001b[0m\u001b[0;34m(\u001b[0m\u001b[0;34m)\u001b[0m\u001b[0;34m\u001b[0m\u001b[0;34m\u001b[0m\u001b[0m\n\u001b[0m",
      "\u001b[0;32m~/opt/anaconda3/lib/python3.9/site-packages/selenium/webdriver/remote/webdriver.py\u001b[0m in \u001b[0;36mfind_element\u001b[0;34m(self, by, value)\u001b[0m\n\u001b[1;32m    853\u001b[0m             \u001b[0mvalue\u001b[0m \u001b[0;34m=\u001b[0m \u001b[0;34m'[name=\"%s\"]'\u001b[0m \u001b[0;34m%\u001b[0m \u001b[0mvalue\u001b[0m\u001b[0;34m\u001b[0m\u001b[0;34m\u001b[0m\u001b[0m\n\u001b[1;32m    854\u001b[0m \u001b[0;34m\u001b[0m\u001b[0m\n\u001b[0;32m--> 855\u001b[0;31m         return self.execute(Command.FIND_ELEMENT, {\n\u001b[0m\u001b[1;32m    856\u001b[0m             \u001b[0;34m'using'\u001b[0m\u001b[0;34m:\u001b[0m \u001b[0mby\u001b[0m\u001b[0;34m,\u001b[0m\u001b[0;34m\u001b[0m\u001b[0;34m\u001b[0m\u001b[0m\n\u001b[1;32m    857\u001b[0m             'value': value})['value']\n",
      "\u001b[0;32m~/opt/anaconda3/lib/python3.9/site-packages/selenium/webdriver/remote/webdriver.py\u001b[0m in \u001b[0;36mexecute\u001b[0;34m(self, driver_command, params)\u001b[0m\n\u001b[1;32m    426\u001b[0m         \u001b[0mresponse\u001b[0m \u001b[0;34m=\u001b[0m \u001b[0mself\u001b[0m\u001b[0;34m.\u001b[0m\u001b[0mcommand_executor\u001b[0m\u001b[0;34m.\u001b[0m\u001b[0mexecute\u001b[0m\u001b[0;34m(\u001b[0m\u001b[0mdriver_command\u001b[0m\u001b[0;34m,\u001b[0m \u001b[0mparams\u001b[0m\u001b[0;34m)\u001b[0m\u001b[0;34m\u001b[0m\u001b[0;34m\u001b[0m\u001b[0m\n\u001b[1;32m    427\u001b[0m         \u001b[0;32mif\u001b[0m \u001b[0mresponse\u001b[0m\u001b[0;34m:\u001b[0m\u001b[0;34m\u001b[0m\u001b[0;34m\u001b[0m\u001b[0m\n\u001b[0;32m--> 428\u001b[0;31m             \u001b[0mself\u001b[0m\u001b[0;34m.\u001b[0m\u001b[0merror_handler\u001b[0m\u001b[0;34m.\u001b[0m\u001b[0mcheck_response\u001b[0m\u001b[0;34m(\u001b[0m\u001b[0mresponse\u001b[0m\u001b[0;34m)\u001b[0m\u001b[0;34m\u001b[0m\u001b[0;34m\u001b[0m\u001b[0m\n\u001b[0m\u001b[1;32m    429\u001b[0m             response['value'] = self._unwrap_value(\n\u001b[1;32m    430\u001b[0m                 response.get('value', None))\n",
      "\u001b[0;32m~/opt/anaconda3/lib/python3.9/site-packages/selenium/webdriver/remote/errorhandler.py\u001b[0m in \u001b[0;36mcheck_response\u001b[0;34m(self, response)\u001b[0m\n\u001b[1;32m    241\u001b[0m                 \u001b[0malert_text\u001b[0m \u001b[0;34m=\u001b[0m \u001b[0mvalue\u001b[0m\u001b[0;34m[\u001b[0m\u001b[0;34m'alert'\u001b[0m\u001b[0;34m]\u001b[0m\u001b[0;34m.\u001b[0m\u001b[0mget\u001b[0m\u001b[0;34m(\u001b[0m\u001b[0;34m'text'\u001b[0m\u001b[0;34m)\u001b[0m\u001b[0;34m\u001b[0m\u001b[0;34m\u001b[0m\u001b[0m\n\u001b[1;32m    242\u001b[0m             \u001b[0;32mraise\u001b[0m \u001b[0mexception_class\u001b[0m\u001b[0;34m(\u001b[0m\u001b[0mmessage\u001b[0m\u001b[0;34m,\u001b[0m \u001b[0mscreen\u001b[0m\u001b[0;34m,\u001b[0m \u001b[0mstacktrace\u001b[0m\u001b[0;34m,\u001b[0m \u001b[0malert_text\u001b[0m\u001b[0;34m)\u001b[0m  \u001b[0;31m# type: ignore[call-arg]  # mypy is not smart enough here\u001b[0m\u001b[0;34m\u001b[0m\u001b[0;34m\u001b[0m\u001b[0m\n\u001b[0;32m--> 243\u001b[0;31m         \u001b[0;32mraise\u001b[0m \u001b[0mexception_class\u001b[0m\u001b[0;34m(\u001b[0m\u001b[0mmessage\u001b[0m\u001b[0;34m,\u001b[0m \u001b[0mscreen\u001b[0m\u001b[0;34m,\u001b[0m \u001b[0mstacktrace\u001b[0m\u001b[0;34m)\u001b[0m\u001b[0;34m\u001b[0m\u001b[0;34m\u001b[0m\u001b[0m\n\u001b[0m",
      "\u001b[0;31mInvalidSelectorException\u001b[0m: Message: invalid selector: An invalid or illegal selector was specified\n  (Session info: chrome=106.0.5249.119)\nStacktrace:\n0   chromedriver                        0x000000010ac4d598 chromedriver + 4404632\n1   chromedriver                        0x000000010abd4fa3 chromedriver + 3911587\n2   chromedriver                        0x000000010a881e6a chromedriver + 425578\n3   chromedriver                        0x000000010a885037 chromedriver + 438327\n4   chromedriver                        0x000000010a884ed7 chromedriver + 437975\n5   chromedriver                        0x000000010a88519c chromedriver + 438684\n6   chromedriver                        0x000000010a8b99a0 chromedriver + 653728\n7   chromedriver                        0x000000010a8b9e91 chromedriver + 654993\n8   chromedriver                        0x000000010a8f1274 chromedriver + 881268\n9   chromedriver                        0x000000010a8d7dcd chromedriver + 777677\n10  chromedriver                        0x000000010a8eef79 chromedriver + 872313\n11  chromedriver                        0x000000010a8d7bd3 chromedriver + 777171\n12  chromedriver                        0x000000010a8acced chromedriver + 601325\n13  chromedriver                        0x000000010a8ade51 chromedriver + 605777\n14  chromedriver                        0x000000010ac1d0ce chromedriver + 4206798\n15  chromedriver                        0x000000010ac21797 chromedriver + 4224919\n16  chromedriver                        0x000000010ac28a4f chromedriver + 4254287\n17  chromedriver                        0x000000010ac224da chromedriver + 4228314\n18  chromedriver                        0x000000010abfb23f chromedriver + 4067903\n19  chromedriver                        0x000000010ac3f6a8 chromedriver + 4347560\n20  chromedriver                        0x000000010ac3f816 chromedriver + 4347926\n21  chromedriver                        0x000000010ac548fe chromedriver + 4434174\n22  libsystem_pthread.dylib             0x00007fff6dd62109 _pthread_start + 148\n23  libsystem_pthread.dylib             0x00007fff6dd5db8b thread_start + 15\n"
     ]
    }
   ],
   "source": [
    "# 환율 텍스트 넣기\n",
    "browser.find_element(By.ID, 'nx_query').send_keys(\"환율\")"
   ]
  },
  {
   "cell_type": "code",
   "execution_count": 28,
   "id": "595696ca",
   "metadata": {},
   "outputs": [],
   "source": [
    "date=browser.find_element(By.XPATH,'//*[@id=\"main_pack\"]/section[1]/div[1]/div[2]/div[1]/div[1]/div/div[2]/div/div[1]/div[1]/div[2]/strong').text"
   ]
  },
  {
   "cell_type": "code",
   "execution_count": 30,
   "id": "1334e302",
   "metadata": {},
   "outputs": [
    {
     "data": {
      "text/plain": [
       "'16.1°'"
      ]
     },
     "execution_count": 30,
     "metadata": {},
     "output_type": "execute_result"
    }
   ],
   "source": [
    "date[6:]"
   ]
  },
  {
   "cell_type": "code",
   "execution_count": 31,
   "id": "a6511dc3",
   "metadata": {},
   "outputs": [
    {
     "data": {
      "text/plain": [
       "'°'"
      ]
     },
     "execution_count": 31,
     "metadata": {},
     "output_type": "execute_result"
    }
   ],
   "source": [
    "date[-1]"
   ]
  },
  {
   "cell_type": "code",
   "execution_count": 109,
   "id": "c1f2f546",
   "metadata": {},
   "outputs": [
    {
     "name": "stderr",
     "output_type": "stream",
     "text": [
      "/var/folders/l0/rmt5_xrn6vb4901n4j9dj7n40000gn/T/ipykernel_87488/1632892743.py:4: DeprecationWarning: executable_path has been deprecated, please pass in a Service object\n",
      "  browser = webdriver.Chrome(PATH)\n"
     ]
    }
   ],
   "source": [
    "#크롬드라이버를 데스크탑으로 옮겨  패스라는 변수로 담아서 지정해줌 \n",
    "from selenium import webdriver\n",
    "PATH = \"/Users/seoinhyeog/Desktop/chromedriver\"\n",
    "browser = webdriver.Chrome(PATH)\n",
    "# 구글로 이동시켜줘\n",
    "browser.get(\"https://www.google.co.kr/search?q=%EC%9E%90%EB%8F%99%ED%99%94&source=lnms&tbm=nws&sa=X&ved=2ahUKEwjJx6KW4_r6AhWYCIgKHdiNAfcQ_AUoAnoECAIQBA&biw=1200&bih=657&dpr=2\")"
   ]
  },
  {
   "cell_type": "code",
   "execution_count": 139,
   "id": "088e8da9",
   "metadata": {
    "scrolled": true
   },
   "outputs": [
    {
     "data": {
      "text/plain": [
       "['한화생명 청약자동화 솔루션 특허…GA설계사 업무간소화',\n",
       " '한화생명, ‘보험 신계약 자동화’ 특허 취득',\n",
       " '한화생명, 청약자동화 솔루션 특허 취득 - 서울경제',\n",
       " '한화생명, 보험 계약 자동화 솔루션 특허 취득',\n",
       " '한화생명 보험가입 5분이면 끝…청약자동화 솔루션 특허 취득',\n",
       " '한화생명, 청약자동화 솔루션 특허 취득',\n",
       " '한화생명 청약자동화 솔루션 특허GA설계사 업무간소화',\n",
       " '한화생명, 청약자동화 솔루션 특허 취득 -',\n",
       " '한화생명, 청약자동화 솔루션 특허 취득',\n",
       " '자동화로 네트워크 전체 스위치 업그레이드를 효율화하는 방법',\n",
       " '롯데홈쇼핑, 이천 물류센터 오픈...최첨단 자동화 시스템 도입',\n",
       " '롯데홈쇼핑, 최첨단 자동화 시스템 도입한 물류센터 오픈']"
      ]
     },
     "execution_count": 139,
     "metadata": {},
     "output_type": "execute_result"
    }
   ],
   "source": [
    "titles=browser.find_elements(By.CLASS_NAME,'mCBkyc')\n",
    "title=[]\n",
    "for i in titles:\n",
    "    title.append(i.text)\n",
    "title"
   ]
  },
  {
   "cell_type": "code",
   "execution_count": 140,
   "id": "d2451702",
   "metadata": {},
   "outputs": [
    {
     "data": {
      "text/plain": [
       "[\"(서울=연합뉴스) 이지헌 기자 = 한화생명[088350]은 보험설계 및 청약 업무 프로세스 자동화 기술인 '청약 자동화 솔루션'이 BM 특허를 ...\",\n",
       " '한화생명이 보험업계 최초로 보험 신계약의 처리 과정을 로봇 기술로 자동화하는 데 성공하며 해...',\n",
       " '한화생명이 업계 최초로 보험 신계약 과정을 로봇 기술로 자동화하며 법인대리점(GA) 시장에서의 영업 경쟁력 강화에 나섰다. 25...',\n",
       " '한화생명은 25일 보험설계와 계약 업무 프로세스를 자동화하는 기술인 \"청약자동화 솔루션\"이 특허청으로부터 \"BM(Business Method)특허&quo...',\n",
       " '한화생명이 청약자동화 솔루션을 개발하고 특허청으로부터 BM특허를 받았다. 사진은 이번 솔루션 개발과 특허 출원에 나선 (왼쪽부터) 김도형 영업...',\n",
       " '한화생명이 보험가입부터 청약까지 5분이면 마칠 수 있는 로봇 기술을 도입해 법인보험대리점(GA) 시장 영업 경쟁력 강화에 나섰다.',\n",
       " '한화생명 청약자동화 솔루션 특허…GA설계사 업무간소화(서울=연합뉴스) 이지헌 기자 = 한화생명[088350]은 보험설계 및 청약 업무 프로세스 자동화...',\n",
       " '청약자동화 솔루션 특허 출원 주역들. (왼쪽부터)김도형 영업추진팀 과장, 김창완 IT운영팀 파트장, 신종연 영업추진팀 파트장, 채경훈 IT운영팀 과장...',\n",
       " '한화생명이 업계 최초로 보험 신계약 과정을 로봇 기술로 자동화하며 법인대리점(GA) 시장에서의 영업 경쟁력 강화에 나섰다.한화생명은 보험설계 및...']"
      ]
     },
     "execution_count": 140,
     "metadata": {},
     "output_type": "execute_result"
    }
   ],
   "source": [
    "contents= browser.find_elements(By.CLASS_NAME,\"GI74Re\")\n",
    "\n",
    "content =[]\n",
    "for i in contents:\n",
    "    temp_content=i.text\n",
    "    temp_content=temp_content.replace(\",\",\"\")\n",
    "    content.append(i.text)\n",
    "content"
   ]
  },
  {
   "cell_type": "code",
   "execution_count": 104,
   "id": "fa9a932d",
   "metadata": {
    "scrolled": true
   },
   "outputs": [
    {
     "data": {
      "text/plain": [
       "'https://www.yna.co.kr/view/AKR20221025034300002'"
      ]
     },
     "execution_count": 104,
     "metadata": {},
     "output_type": "execute_result"
    }
   ],
   "source": [
    "browser.find_element(By.CLASS_NAME,'WlydOe').get_attribute(\"href\")\n"
   ]
  },
  {
   "cell_type": "code",
   "execution_count": 141,
   "id": "2ccb84cf",
   "metadata": {},
   "outputs": [
    {
     "data": {
      "text/plain": [
       "[\"연합뉴스\\n한화생명 청약자동화 솔루션 특허…GA설계사 업무간소화\\n(서울=연합뉴스) 이지헌 기자 = 한화생명[088350]은 보험설계 및 청약 업무 프로세스 자동화 기술인 '청약 자동화 솔루션'이 BM 특허를 ...\\n.\\n6시간 전\",\n",
       " '경향신문\\n한화생명, ‘보험 신계약 자동화’ 특허 취득\\n한화생명이 보험업계 최초로 보험 신계약의 처리 과정을 로봇 기술로 자동화하는 데 성공하며 해...\\n.\\n5시간 전',\n",
       " '서울경제신문\\n한화생명, 청약자동화 솔루션 특허 취득 - 서울경제\\n한화생명이 업계 최초로 보험 신계약 과정을 로봇 기술로 자동화하며 법인대리점(GA) 시장에서의 영업 경쟁력 강화에 나섰다. 25...\\n.\\n6시간 전',\n",
       " '머니투데이\\n한화생명, 보험 계약 자동화 솔루션 특허 취득\\n한화생명은 25일 보험설계와 계약 업무 프로세스를 자동화하는 기술인 \"청약자동화 솔루션\"이 특허청으로부터 \"BM(Business Method)특허&quo...\\n.\\n5시간 전',\n",
       " 'SBS Biz\\n한화생명 보험가입 5분이면 끝…청약자동화 솔루션 특허 취득\\n한화생명이 청약자동화 솔루션을 개발하고 특허청으로부터 BM특허를 받았다. 사진은 이번 솔루션 개발과 특허 출원에 나선 (왼쪽부터) 김도형 영업...\\n.\\n5시간 전',\n",
       " '전자신문\\n한화생명, 청약자동화 솔루션 특허 취득\\n한화생명이 보험가입부터 청약까지 5분이면 마칠 수 있는 로봇 기술을 도입해 법인보험대리점(GA) 시장 영업 경쟁력 강화에 나섰다.\\n.\\n6시간 전',\n",
       " '한국경제TV\\n한화생명 청약자동화 솔루션 특허GA설계사 업무간소화\\n한화생명 청약자동화 솔루션 특허…GA설계사 업무간소화(서울=연합뉴스) 이지헌 기자 = 한화생명[088350]은 보험설계 및 청약 업무 프로세스 자동화...\\n.\\n6시간 전',\n",
       " '디지털타임스\\n한화생명, 청약자동화 솔루션 특허 취득 -\\n청약자동화 솔루션 특허 출원 주역들. (왼쪽부터)김도형 영업추진팀 과장, 김창완 IT운영팀 파트장, 신종연 영업추진팀 파트장, 채경훈 IT운영팀 과장...\\n.\\n2시간 전',\n",
       " '스트레이트뉴스\\n한화생명, 청약자동화 솔루션 특허 취득\\n한화생명이 업계 최초로 보험 신계약 과정을 로봇 기술로 자동화하며 법인대리점(GA) 시장에서의 영업 경쟁력 강화에 나섰다.한화생명은 보험설계 및...\\n.\\n6시간 전',\n",
       " 'ITWorld\\n자동화로 네트워크 전체 스위치 업그레이드를 효율화하는 방법\\n22시간 전',\n",
       " '넥스트데일리\\n롯데홈쇼핑, 이천 물류센터 오픈...최첨단 자동화 시스템 도입\\n1일 전',\n",
       " '스트레이트뉴스\\n롯데홈쇼핑, 최첨단 자동화 시스템 도입한 물류센터 오픈\\n4일 전']"
      ]
     },
     "execution_count": 141,
     "metadata": {},
     "output_type": "execute_result"
    }
   ],
   "source": [
    "links= browser.find_elements(By.CLASS_NAME,\"WlydOe\")\n",
    "\n",
    "link=[]\n",
    "\n",
    "for i in links:\n",
    "    temp_link=i.text\n",
    "    temp_link=temp_link.replace(\",\",\"\")\n",
    "    link.append(i.text)\n",
    "link"
   ]
  },
  {
   "cell_type": "code",
   "execution_count": 138,
   "id": "681687d4",
   "metadata": {},
   "outputs": [],
   "source": [
    "# 파일 만들기\n",
    "file=open(\"google_new.csv\",\"a\",encoding=\"UTF-8-sig\")\n",
    "\n",
    "for i in range(10):\n",
    "    file.write(\"{},{},{}\\n\".format(\"title[i]\",\"content[i]\",\"link[i]\"))\n",
    "\n",
    "file.close()\n"
   ]
  },
  {
   "cell_type": "code",
   "execution_count": null,
   "id": "878ffa3d",
   "metadata": {},
   "outputs": [],
   "source": []
  }
 ],
 "metadata": {
  "kernelspec": {
   "display_name": "Python 3 (ipykernel)",
   "language": "python",
   "name": "python3"
  },
  "language_info": {
   "codemirror_mode": {
    "name": "ipython",
    "version": 3
   },
   "file_extension": ".py",
   "mimetype": "text/x-python",
   "name": "python",
   "nbconvert_exporter": "python",
   "pygments_lexer": "ipython3",
   "version": "3.9.7"
  }
 },
 "nbformat": 4,
 "nbformat_minor": 5
}
