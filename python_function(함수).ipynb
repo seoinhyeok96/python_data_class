{
 "cells": [
  {
   "cell_type": "code",
   "execution_count": 1,
   "metadata": {},
   "outputs": [
    {
     "name": "stdout",
     "output_type": "stream",
     "text": [
      "제 이름은 인섭입니다.\n"
     ]
    }
   ],
   "source": [
    "def name(input):\n",
    "    print(\"제 이름은 \"+ input +\"입니다.\")\n",
    "\n",
    "name(\"인섭\")"
   ]
  },
  {
   "cell_type": "code",
   "execution_count": 4,
   "metadata": {},
   "outputs": [
    {
     "name": "stdout",
     "output_type": "stream",
     "text": [
      "a+b\n",
      "7\n",
      "7\n"
     ]
    }
   ],
   "source": [
    "\n",
    "\n",
    "def sum(a,b):\n",
    "    print(\"a+b\")\n",
    "    print(a+b)#7\n",
    "    return a+b\n",
    "\n",
    "total = sum(3,4)\n",
    "print(total) #None"
   ]
  },
  {
   "cell_type": "code",
   "execution_count": 9,
   "metadata": {},
   "outputs": [
    {
     "name": "stdout",
     "output_type": "stream",
     "text": [
      "A\n"
     ]
    }
   ],
   "source": [
    "# 성적과 이름을 입력하고,성적에 따라 등급을 알려주는 프로그램을 반드시오 \n",
    "#단 함수를 사용하시오\n",
    "\n",
    "# 90점 이상 A등급\n",
    "# 80점 이상 B등급\n",
    "# 70점 이상 C등급\n",
    "# 60점 이상 D등급\n",
    "# 50점 미만 F등급\n",
    "grade=\"\"\n",
    "def check_grade(성적):\n",
    "    if 성적>=90:\n",
    "        grade='A'\n",
    "    elif 성적>=80:\n",
    "        grade='B'\n",
    "    elif 성적>=70:\n",
    "        grade='C'\n",
    "    elif 성적>=60:\n",
    "        grade=\"D\"\n",
    "    elif 성적<\"50\":\n",
    "        grade='F'\n",
    "    return grade\n",
    "\n",
    "a = check_grade(100)\n",
    "print(a)\n"
   ]
  },
  {
   "cell_type": "code",
   "execution_count": null,
   "metadata": {},
   "outputs": [],
   "source": [
    "#함수 종류\n",
    "#range(1,10)\n",
    "#len()\n",
    "#print()"
   ]
  },
  {
   "cell_type": "code",
   "execution_count": 11,
   "metadata": {},
   "outputs": [
    {
     "name": "stdout",
     "output_type": "stream",
     "text": [
      "PYTHON\n"
     ]
    }
   ],
   "source": [
    "#대문자로 전환하기\n",
    "a=\"python\"\n",
    "a=a.upper()\n",
    "print(a)"
   ]
  },
  {
   "cell_type": "code",
   "execution_count": 18,
   "metadata": {},
   "outputs": [
    {
     "name": "stdout",
     "output_type": "stream",
     "text": [
      "0.1935764339034911\n"
     ]
    }
   ],
   "source": [
    "#외장함수 \n",
    "import random\n",
    "b= random.random()\n",
    "print(b)"
   ]
  },
  {
   "cell_type": "code",
   "execution_count": 22,
   "metadata": {},
   "outputs": [
    {
     "name": "stdout",
     "output_type": "stream",
     "text": [
      "[2, 3, 1]\n"
     ]
    }
   ],
   "source": [
    "#랜덤으로 썩어주는 함수 \n",
    "a=[1,2,3]\n",
    "random.shuffle(a)\n",
    "print(a)"
   ]
  },
  {
   "cell_type": "code",
   "execution_count": 23,
   "metadata": {},
   "outputs": [
    {
     "name": "stdout",
     "output_type": "stream",
     "text": [
      "['/Users/seoinhyeog/Library/Python/3.10/lib/python/site-packages/ipykernel_launcher.py', '--ip=127.0.0.1', '--stdin=9013', '--control=9011', '--hb=9010', '--Session.signature_scheme=\"hmac-sha256\"', '--Session.key=b\"b094e7a3-68bc-4eb8-b1ab-288b373d862b\"', '--shell=9012', '--transport=\"tcp\"', '--iopub=9014', '--f=/Users/seoinhyeog/Library/Jupyter/runtime/kernel-v2-18144SznyeAg35G3S.json']\n",
      "3.10.0 (v3.10.0:b494f5935c, Oct  4 2021, 14:59:20) [Clang 12.0.5 (clang-1205.0.22.11)]\n"
     ]
    }
   ],
   "source": [
    "import sys\n",
    "print(sys.argv)#파이썬 라이브러리들의 위치\n",
    "print(sys.version)# 파이썬 버전 확인하기 "
   ]
  },
  {
   "cell_type": "code",
   "execution_count": 25,
   "metadata": {},
   "outputs": [
    {
     "name": "stdout",
     "output_type": "stream",
     "text": [
      "/Users/seoinhyeog/Documents/GitHub/python_data_class\n"
     ]
    }
   ],
   "source": [
    "import os\n",
    "print(os.getcwd())"
   ]
  },
  {
   "cell_type": "markdown",
   "metadata": {},
   "source": [
    "### 클래스가 여러개 모여있으면 모듈이다!"
   ]
  },
  {
   "cell_type": "markdown",
   "metadata": {},
   "source": []
  },
  {
   "cell_type": "code",
   "execution_count": null,
   "metadata": {},
   "outputs": [],
   "source": []
  },
  {
   "cell_type": "code",
   "execution_count": null,
   "metadata": {},
   "outputs": [],
   "source": []
  },
  {
   "cell_type": "code",
   "execution_count": null,
   "metadata": {},
   "outputs": [],
   "source": []
  }
 ],
 "metadata": {
  "kernelspec": {
   "display_name": "Python 3.10.0 64-bit",
   "language": "python",
   "name": "python3"
  },
  "language_info": {
   "codemirror_mode": {
    "name": "ipython",
    "version": 3
   },
   "file_extension": ".py",
   "mimetype": "text/x-python",
   "name": "python",
   "nbconvert_exporter": "python",
   "pygments_lexer": "ipython3",
   "version": "3.10.0"
  },
  "orig_nbformat": 4,
  "vscode": {
   "interpreter": {
    "hash": "aee8b7b246df8f9039afb4144a1f6fd8d2ca17a180786b69acc140d282b71a49"
   }
  }
 },
 "nbformat": 4,
 "nbformat_minor": 2
}
