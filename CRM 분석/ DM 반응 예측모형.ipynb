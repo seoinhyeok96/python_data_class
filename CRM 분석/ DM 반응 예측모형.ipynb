{
 "cells": [
  {
   "cell_type": "markdown",
   "id": "50dcb1e6",
   "metadata": {},
   "source": [
    "# DM 반응 예측모형"
   ]
  },
  {
   "cell_type": "code",
   "execution_count": 1,
   "id": "df7f8132",
   "metadata": {},
   "outputs": [],
   "source": [
    "# 분석에 사용할 패키지 로딩\n",
    "import numpy as np\n",
    "import pandas as pd\n",
    "\n",
    "import matplotlib.pyplot as plt\n",
    "import seaborn as sns\n",
    "\n",
    "import datetime as dt\n",
    "\n",
    "from sklearn.model_selection import train_test_split # 데이터 세트 분할 \n",
    "from sklearn.ensemble import RandomForestClassifier # 모델링 \n",
    "from sklearn.metrics import accuracy_score # 정확도 평가 \n",
    "from sklearn.model_selection  import GridSearchCV # 하이퍼 파라메터 튜닝용  (훈련데이터 세트에서 valdiation set 생성  )"
   ]
  },
  {
   "cell_type": "code",
   "execution_count": null,
   "id": "cb407071",
   "metadata": {},
   "outputs": [],
   "source": [
    "data = pd.read_csv(.csv)"
   ]
  },
  {
   "cell_type": "code",
   "execution_count": null,
   "id": "b3fbd3d7",
   "metadata": {},
   "outputs": [],
   "source": [
    "## pandas 옵션 모든 컬럼 표시\n",
    "pd.set_option('display.max_columns', None)\n",
    "pd.set_option('display.max_seq_items', None)\n",
    "pd.set_option('display.max_rows', None)\n",
    "\n",
    "# 그래프 스타일 선택 \n",
    "plt.style.use('ggplot')  "
   ]
  },
  {
   "cell_type": "code",
   "execution_count": null,
   "id": "9595fb3c",
   "metadata": {},
   "outputs": [],
   "source": []
  },
  {
   "cell_type": "code",
   "execution_count": null,
   "id": "ae452772",
   "metadata": {},
   "outputs": [],
   "source": []
  },
  {
   "cell_type": "code",
   "execution_count": null,
   "id": "95045ff3",
   "metadata": {},
   "outputs": [],
   "source": []
  },
  {
   "cell_type": "code",
   "execution_count": null,
   "id": "56090391",
   "metadata": {},
   "outputs": [],
   "source": []
  },
  {
   "cell_type": "code",
   "execution_count": null,
   "id": "f21a7874",
   "metadata": {},
   "outputs": [],
   "source": []
  },
  {
   "cell_type": "code",
   "execution_count": null,
   "id": "3cd96efa",
   "metadata": {},
   "outputs": [],
   "source": []
  },
  {
   "cell_type": "code",
   "execution_count": null,
   "id": "81ac5fd2",
   "metadata": {},
   "outputs": [],
   "source": []
  },
  {
   "cell_type": "code",
   "execution_count": null,
   "id": "472decc9",
   "metadata": {},
   "outputs": [],
   "source": []
  },
  {
   "cell_type": "code",
   "execution_count": null,
   "id": "f93c095a",
   "metadata": {},
   "outputs": [],
   "source": []
  },
  {
   "cell_type": "code",
   "execution_count": null,
   "id": "46334728",
   "metadata": {},
   "outputs": [],
   "source": []
  }
 ],
 "metadata": {
  "kernelspec": {
   "display_name": "Python 3 (ipykernel)",
   "language": "python",
   "name": "python3"
  },
  "language_info": {
   "codemirror_mode": {
    "name": "ipython",
    "version": 3
   },
   "file_extension": ".py",
   "mimetype": "text/x-python",
   "name": "python",
   "nbconvert_exporter": "python",
   "pygments_lexer": "ipython3",
   "version": "3.9.13"
  }
 },
 "nbformat": 4,
 "nbformat_minor": 5
}
